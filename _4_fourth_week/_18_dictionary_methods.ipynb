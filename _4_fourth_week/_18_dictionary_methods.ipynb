{
 "cells": [
  {
   "cell_type": "markdown",
   "metadata": {},
   "source": [
    "# <mark style=\"background-color: cyan\">Dictionary Methods</mark>"
   ]
  },
  {
   "cell_type": "markdown",
   "metadata": {},
   "source": [
    "## <mark style=\"background-color: #1050D1; color: white\">clear()</mark>"
   ]
  },
  {
   "cell_type": "code",
   "execution_count": 8,
   "metadata": {},
   "outputs": [
    {
     "name": "stdout",
     "output_type": "stream",
     "text": [
      "{'firstName': 'Mustafa', 'lastName': 'Ahmed'}\n",
      "{}\n"
     ]
    }
   ],
   "source": [
    "user = {'firstName': 'Mustafa', 'lastName': 'Ahmed'}\n",
    "print(user)\n",
    "user.clear()\n",
    "print(user)"
   ]
  },
  {
   "cell_type": "markdown",
   "metadata": {},
   "source": [
    "## <mark style=\"background-color: #1050D1; color: white\">update(dictObject)</mark>"
   ]
  },
  {
   "cell_type": "markdown",
   "metadata": {},
   "source": [
    "### Adds new element to the dictionary"
   ]
  },
  {
   "cell_type": "code",
   "execution_count": 6,
   "metadata": {},
   "outputs": [
    {
     "name": "stdout",
     "output_type": "stream",
     "text": [
      "{'firstName': 'Mustafa', 'lastName': 'Ahmed'}\n",
      "{'firstName': 'Mustafa', 'lastName': 'Ahmed', 'age': 20}\n",
      "{'firstName': 'Mustafa', 'lastName': 'Ahmed', 'age': 20, 'country': 'Iraq'}\n"
     ]
    }
   ],
   "source": [
    "user = {'firstName': 'Mustafa', 'lastName': 'Ahmed'}\n",
    "print(user)\n",
    "user['age'] = 20\n",
    "print(user)\n",
    "user.update({'country': 'Iraq'})\n",
    "print(user)"
   ]
  },
  {
   "cell_type": "markdown",
   "metadata": {},
   "source": [
    "## <mark style=\"background-color: #1050D1; color: white\">copy()</mark>"
   ]
  },
  {
   "cell_type": "markdown",
   "metadata": {},
   "source": [
    "## gives a shallow copy"
   ]
  },
  {
   "cell_type": "code",
   "execution_count": 19,
   "metadata": {},
   "outputs": [
    {
     "name": "stdout",
     "output_type": "stream",
     "text": [
      "{'firstName': 'Mustafa', 'lastName': 'Ahmed'}\n",
      "{'firstName': 'Mustafa', 'lastName': 'Ahmed', 'Skills': 'Fighting'}\n",
      "Iman\n",
      "{'firstName': 'Mustafa', 'lastName': 'Ahmed', 'Skills': 'Fighting'}\n",
      "{'firstName': 'Mustafa', 'lastName': 'Ahmed', 'Skills': 'Fighting'}\n",
      "dict_keys(['firstName', 'lastName', 'Skills'])\n",
      "dict_values(['Mustafa', 'Ahmed', 'Fighting'])\n"
     ]
    }
   ],
   "source": [
    "user = {'firstName': 'Mustafa', 'lastName': 'Ahmed'}\n",
    "print(user)\n",
    "user.update({'Skills':'Fighting'})\n",
    "print(user)\n",
    "print('Iman')\n",
    "b = user.copy()\n",
    "print(b)\n",
    "user.update({'Skills': 'Fighting'})\n",
    "print(b)\n",
    "print(b.keys())\n",
    "print(b.values())"
   ]
  },
  {
   "cell_type": "markdown",
   "metadata": {},
   "source": [
    "## <mark style=\"background-color: #1050D1; color: white\">setdefault('keyName')</mark>"
   ]
  },
  {
   "cell_type": "markdown",
   "metadata": {},
   "source": [
    "## Notes\n",
    "### if the element is not existing (Empty Dictionary) it will add it as a new element\n",
    "### and if the element exists it will update its value"
   ]
  },
  {
   "cell_type": "code",
   "execution_count": 9,
   "metadata": {},
   "outputs": [
    {
     "name": "stdout",
     "output_type": "stream",
     "text": [
      "{'firstName': 'Mustafa'}\n",
      "{'firstName': 'Mustafa'}\n",
      "{'firstName': 'Mustafa', 'lastName': 'ahmed'}\n",
      "{'firstName': 'Mustafa', 'lastName': 'ahmed', 'age': 20}\n",
      "{'firstName': 'Mustafa', 'lastName': 'ahmed', 'age': 20, 'fullName': 'Mustafa ahmed'}\n"
     ]
    }
   ],
   "source": [
    "user = {\n",
    "\t'firstName': 'Mustafa'\n",
    "}\n",
    "print(user)\n",
    "user.setdefault('firstName', 'Mahmood')\n",
    "print(user)\n",
    "user.setdefault(\"lastName\", \"ahmed\")\n",
    "print(user)\n",
    "user.setdefault('age', 20)\n",
    "print(user)\n",
    "user.setdefault('fullName', f\"{user.get('firstName')} {user['lastName']}\")\n",
    "print(user)"
   ]
  },
  {
   "cell_type": "markdown",
   "metadata": {},
   "source": [
    "## <mark style=\"background-color: #1050D1; color: white\">popItem()</mark>"
   ]
  },
  {
   "cell_type": "markdown",
   "metadata": {},
   "source": [
    "### returns the last thing added to the dictionary"
   ]
  },
  {
   "cell_type": "code",
   "execution_count": 10,
   "metadata": {},
   "outputs": [
    {
     "name": "stdout",
     "output_type": "stream",
     "text": [
      "{'name': 'Mustafa', 'skill': 'PS4'}\n",
      "{'name': 'Mustafa', 'skill': 'PS4', 'age': 20}\n",
      "('age', 20)\n"
     ]
    }
   ],
   "source": [
    "member = {\n",
    "\t'name': 'Mustafa',\n",
    "\t'skill': 'PS4'\n",
    "}\n",
    "print(member)\n",
    "member.update({'age':20})\n",
    "print(member)\n",
    "print(member.popitem())"
   ]
  },
  {
   "cell_type": "markdown",
   "metadata": {},
   "source": [
    "## <mark style=\"background-color: #1050D1; color: white\">items()</mark>"
   ]
  },
  {
   "cell_type": "markdown",
   "metadata": {},
   "source": [
    "### returns a list of tuples, every tuple have a key and its value"
   ]
  },
  {
   "cell_type": "code",
   "execution_count": 11,
   "metadata": {},
   "outputs": [
    {
     "name": "stdout",
     "output_type": "stream",
     "text": [
      "{'name': 'Mustafa', 'skill': 'XBox'}\n",
      "dict_items([('name', 'Mustafa'), ('skill', 'XBox'), ('age', 20)])\n"
     ]
    }
   ],
   "source": [
    "view = {\n",
    "\t'name': 'Mustafa',\n",
    "\t'skill': 'XBox'\n",
    "}\n",
    "allItems = view.items()\n",
    "print(view)\n",
    "view['age'] = 20\n",
    "print(allItems)"
   ]
  },
  {
   "cell_type": "markdown",
   "metadata": {},
   "source": [
    "## <mark style=\"background-color: #1050D1; color: white\">fromkeys(iterableObject, value)</mark>"
   ]
  },
  {
   "cell_type": "markdown",
   "metadata": {},
   "source": [
    "### Creates a dictionary from the keys and values you give to the parameters"
   ]
  },
  {
   "cell_type": "markdown",
   "metadata": {},
   "source": [
    "### Note: the value parameter can be from any data type but the first parameter must iterable object"
   ]
  },
  {
   "cell_type": "code",
   "execution_count": 13,
   "metadata": {},
   "outputs": [
    {
     "name": "stdout",
     "output_type": "stream",
     "text": [
      "{'myFirstKey': (1, 2, 3), 'mySecondKey': (1, 2, 3), 'myThirdKey': (1, 2, 3)}\n"
     ]
    }
   ],
   "source": [
    "a = ('myFirstKey', 'mySecondKey', 'myThirdKey')\n",
    "b = (1, 2, 3)\n",
    "print(dict.fromkeys(a, b))"
   ]
  }
 ],
 "metadata": {
  "interpreter": {
   "hash": "8fba8154b0252bca3907b3434358ffda4f5e7cfd4d68fde71816b37dc430d8ed"
  },
  "kernelspec": {
   "display_name": "Python 3.9.2 64-bit",
   "name": "python3"
  },
  "language_info": {
   "codemirror_mode": {
    "name": "ipython",
    "version": 3
   },
   "file_extension": ".py",
   "mimetype": "text/x-python",
   "name": "python",
   "nbconvert_exporter": "python",
   "pygments_lexer": "ipython3",
   "version": "3.9.2"
  },
  "orig_nbformat": 4
 },
 "nbformat": 4,
 "nbformat_minor": 2
}
