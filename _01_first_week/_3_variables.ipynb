{
 "cells": [
  {
   "cell_type": "markdown",
   "metadata": {},
   "source": [
    "# <mark style=\"background-color: cyan\">Variables</mark>"
   ]
  },
  {
   "cell_type": "markdown",
   "metadata": {},
   "source": [
    "## <mark style=\"background-color: #1050D1; color: white\">The syntax of defining a variable => [Variable Name] [Assignment Operator] [Value]</mark>"
   ]
  },
  {
   "cell_type": "markdown",
   "metadata": {},
   "source": [
    "## <mark style=\"background-color: #1050D1; color: white\">Rules of naming variables</mark>\n",
    "1. ### Can start with (a-z A-Z) or Undrescore\n",
    "2. ### Cannot start with Numbers or Special Characters\n",
    "3. ### Can include Numbers or Undersocres\n",
    "4. ### Cannot include Special Characters\n",
    "5. ### Case Sensitive"
   ]
  },
  {
   "cell_type": "markdown",
   "metadata": {},
   "source": [
    "## <mark style=\"background-color: #1050D1; color: white\">Naming Conventions</mark>\n",
    "1. ### Single Word => Normal, such as: name\n",
    "2. ### Two or More Words:\n",
    "\t* ### <b>camelCase</b>, such as: firstName\n",
    "\t\tNote: the first word begins with a small letter and for every new word it should start with a capital letter\n",
    "\t* ### <b>snake_case</b>, such as: first_name\n",
    "\t\tNote: The words are separated by underscores"
   ]
  },
  {
   "cell_type": "code",
   "execution_count": 2,
   "metadata": {},
   "outputs": [],
   "source": [
    "name = 'Mustafa Ahmed'\n",
    "firstName = 'Mustafa'\n",
    "last_name = 'Ahmed'"
   ]
  },
  {
   "cell_type": "markdown",
   "metadata": {},
   "source": [
    "## <mark style=\"background-color: #1050D1; color: white\">Important Terms</mark>\n",
    "* ### <b>Source Code</b>: The original code you write\n",
    "* ### <b>Translation</b>: Converting source code into machine language\n",
    "* ### <b>Compilation</b>: Translate the code before run time\n",
    "* ### <b>Interpreted</b>: Translated code on the fly during execution\n",
    "* ### <b>Run-time</b>: Period of time took in executing the commands"
   ]
  },
  {
   "cell_type": "code",
   "execution_count": 1,
   "metadata": {},
   "outputs": [
    {
     "name": "stdout",
     "output_type": "stream",
     "text": [
      "\n",
      "Here is a list of the Python keywords.  Enter any keyword to get more help.\n",
      "\n",
      "False               break               for                 not\n",
      "None                class               from                or\n",
      "True                continue            global              pass\n",
      "__peg_parser__      def                 if                  raise\n",
      "and                 del                 import              return\n",
      "as                  elif                in                  try\n",
      "assert              else                is                  while\n",
      "async               except              lambda              with\n",
      "await               finally             nonlocal            yield\n",
      "\n"
     ]
    }
   ],
   "source": [
    "help(\"keywords\")  # gives us a list of python keywords"
   ]
  },
  {
   "cell_type": "markdown",
   "metadata": {},
   "source": [
    "## <mark style=\"background-color: #1050D1; color: white\">Multiple Assignments for Variables</mark>"
   ]
  },
  {
   "cell_type": "code",
   "execution_count": 4,
   "metadata": {},
   "outputs": [
    {
     "name": "stdout",
     "output_type": "stream",
     "text": [
      "1 2 3\n"
     ]
    }
   ],
   "source": [
    "a, b, c = 1, 2, 3\n",
    "print(a, b, c)"
   ]
  }
 ],
 "metadata": {
  "interpreter": {
   "hash": "8fba8154b0252bca3907b3434358ffda4f5e7cfd4d68fde71816b37dc430d8ed"
  },
  "kernelspec": {
   "display_name": "Python 3.9.2 64-bit",
   "name": "python3"
  },
  "language_info": {
   "codemirror_mode": {
    "name": "ipython",
    "version": 3
   },
   "file_extension": ".py",
   "mimetype": "text/x-python",
   "name": "python",
   "nbconvert_exporter": "python",
   "pygments_lexer": "ipython3",
   "version": "3.9.2"
  },
  "orig_nbformat": 4
 },
 "nbformat": 4,
 "nbformat_minor": 2
}
