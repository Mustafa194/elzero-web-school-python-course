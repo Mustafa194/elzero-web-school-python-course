{
 "cells": [
  {
   "cell_type": "markdown",
   "metadata": {},
   "source": [
    "# <mark style=\"background-color: cyan\">Data Types</mark>"
   ]
  },
  {
   "cell_type": "markdown",
   "metadata": {},
   "source": [
    "## <mark style=\"background-color: #1050D1; color: white\">Note: All the data type in python are objects</mark>\n",
    "### \"type()\" function: this function give the data type name of a variable or expression"
   ]
  },
  {
   "cell_type": "code",
   "execution_count": 3,
   "metadata": {},
   "outputs": [
    {
     "name": "stdout",
     "output_type": "stream",
     "text": [
      "<class 'int'>\n",
      "<class 'int'>\n",
      "<class 'int'>\n",
      "<class 'float'>\n",
      "<class 'float'>\n",
      "<class 'float'>\n",
      "<class 'complex'>\n",
      "<class 'complex'>\n",
      "<class 'complex'>\n",
      "<class 'str'>\n",
      "<class 'str'>\n",
      "<class 'list'>\n",
      "<class 'tuple'>\n",
      "<class 'dict'>\n",
      "<class 'set'>\n",
      "<class 'bool'>\n",
      "<class 'bool'>\n",
      "<class 'bool'>\n",
      "<class 'bool'>\n"
     ]
    }
   ],
   "source": [
    "print(type(10))  # integer\n",
    "print(type(-5))  # integer\n",
    "print(type(0))  # integer\n",
    "\n",
    "print(type(100.9))  # float\n",
    "print(type(0.000))  # float\n",
    "print(type(-100.8))  # float\n",
    "\n",
    "print(type(-2+3j)) # complex\n",
    "print(type(10-8j)) # complex\n",
    "print(type(-1-0j)) # complex\n",
    "\n",
    "print(type(\"Hello Python\"))  # str\n",
    "print(type('Hello World!'))  # str\n",
    "\n",
    "print(type([1, 'string', 3, 4]))  # list\n",
    "\n",
    "print(type((1, 2, 3, 4, 5)))  # tuple\n",
    "\n",
    "print(type({\"One\": 1, \"Two\": 2, \"Three\": 3}))  # dict\n",
    "\n",
    "print(type({1, 2, 3, 4})) # set\n",
    "\n",
    "print(type(2 == 2))  # bool\n",
    "print(type(2 == 1))  # bool\n",
    "print(type(True))\n",
    "print(type(False))"
   ]
  },
  {
   "cell_type": "markdown",
   "metadata": {},
   "source": [
    "## <mark style=\"background-color: #1050D1; color: white; padding: 0 1rem;\">Python Data Types</mark>"
   ]
  },
  {
   "cell_type": "markdown",
   "metadata": {},
   "source": [
    "1. ### int\n",
    "2. ### float\n",
    "3. ### str\n",
    "4. ### bool\n",
    "5. ### list <mark style=\"font: 1rem; background-color: cyan; color: black;\">[element1, element2, ...]</mark>\n",
    "6. ### tuple <mark style=\"font: 1rem; background-color: cyan; color: black;\">(element1, element2, ...)</mark>\n",
    "7. ### set <mark style=\"font: 1rem; background-color: cyan; color: black;\">{element1, element2, ...}</mark>\n",
    "8. ### dictionary <mark style=\"font: 1rem; background-color: cyan; color: black;\">{key:value}</mark>"
   ]
  },
  {
   "cell_type": "code",
   "execution_count": 6,
   "metadata": {},
   "outputs": [
    {
     "name": "stdout",
     "output_type": "stream",
     "text": [
      "<class 'int'>\n",
      "<class 'float'>\n",
      "<class 'complex'>\n",
      "<class 'bool'>\n",
      "<class 'str'>\n",
      "<class 'list'>\n",
      "<class 'tuple'>\n",
      "<class 'set'>\n",
      "<class 'dict'>\n"
     ]
    }
   ],
   "source": [
    "print(type(1))\n",
    "print(type(1.7))\n",
    "print(type(1+2j))\n",
    "print(type(True))\n",
    "print(type('Python'))\n",
    "print(type([1, 2, 34]))\n",
    "print(type((1, 2, 3, 4, 5)))\n",
    "print(type({1, 2, 3, 4, 5}))\n",
    "print(type({'key':'value'}))"
   ]
  }
 ],
 "metadata": {
  "interpreter": {
   "hash": "8fba8154b0252bca3907b3434358ffda4f5e7cfd4d68fde71816b37dc430d8ed"
  },
  "kernelspec": {
   "display_name": "Python 3.9.2 64-bit",
   "name": "python3"
  },
  "language_info": {
   "codemirror_mode": {
    "name": "ipython",
    "version": 3
   },
   "file_extension": ".py",
   "mimetype": "text/x-python",
   "name": "python",
   "nbconvert_exporter": "python",
   "pygments_lexer": "ipython3",
   "version": "3.9.2"
  },
  "orig_nbformat": 4
 },
 "nbformat": 4,
 "nbformat_minor": 2
}
