{
 "cells": [
  {
   "cell_type": "markdown",
   "metadata": {},
   "source": [
    "# <mark style=\"background-color: cyan; padding: 0 1rem;\">Instance Attributes and Methods</mark>"
   ]
  },
  {
   "cell_type": "markdown",
   "metadata": {},
   "source": [
    "### <strong><em style=\"color: red;\">Self:</em></strong> point to instance created from class\n",
    "### <strong><em style=\"color: red;\">Instance Attributes:</em></strong> Defined in Constructor"
   ]
  },
  {
   "cell_type": "markdown",
   "metadata": {},
   "source": [
    "### <strong><em style=\"color: red;\">Instance Methods:</em></strong>\n",
    "<ul>\n",
    "\t<h5><li>Take self parameter which point to instance created from class</li></h5>\n",
    "\t<h5><li>Can have more than one parameter like any function</li></h5>\n",
    "\t<h5><li>Can freely access attributes and methods on the same object</li></h5>\n",
    "\t<h5><li>Can access the class itself</li></h5>\n",
    "</ul>"
   ]
  },
  {
   "cell_type": "markdown",
   "metadata": {},
   "source": [
    "### <mark style=\"background-color: #CD6354; color: white; padding: 0 1rem;\">Example 1</mark>"
   ]
  },
  {
   "cell_type": "code",
   "execution_count": 4,
   "metadata": {},
   "outputs": [],
   "source": [
    "class Member:\n",
    "    def __init__(self):\n",
    "        self.name = 'Mustafa'"
   ]
  },
  {
   "cell_type": "code",
   "execution_count": 5,
   "metadata": {},
   "outputs": [
    {
     "name": "stdout",
     "output_type": "stream",
     "text": [
      "Mustafa\n"
     ]
    }
   ],
   "source": [
    "x = Member()\n",
    "print(x.name)"
   ]
  },
  {
   "cell_type": "markdown",
   "metadata": {},
   "source": [
    "### <mark style=\"background-color: #CD6354; color: white; padding: 0 1rem;\">Example 2</mark>"
   ]
  },
  {
   "cell_type": "code",
   "execution_count": 6,
   "metadata": {},
   "outputs": [],
   "source": [
    "class Member:\n",
    "    def __init__(self, f_name, mid_name, l_name):\n",
    "        self.first_name = f_name\n",
    "        self.middle_name = mid_name\n",
    "        self.last_name = l_name"
   ]
  },
  {
   "cell_type": "code",
   "execution_count": 7,
   "metadata": {},
   "outputs": [],
   "source": [
    "member_one = Member(\"Mustafa\", 'Ahmed', \"Mohammed\")\n",
    "member_two = Member('Maryam', 'Mohammed', \"Abu-Alrahman\")"
   ]
  },
  {
   "cell_type": "code",
   "execution_count": 8,
   "metadata": {},
   "outputs": [
    {
     "name": "stdout",
     "output_type": "stream",
     "text": [
      "Member One Full Name: Mustafa Ahmed Mohammed\n"
     ]
    }
   ],
   "source": [
    "print(\"Member One Full Name:\", member_one.first_name, member_one.middle_name, member_one.last_name)"
   ]
  },
  {
   "cell_type": "code",
   "execution_count": 9,
   "metadata": {},
   "outputs": [
    {
     "name": "stdout",
     "output_type": "stream",
     "text": [
      "Member Two Full Name: Maryam Mohammed Abu-Alrahman\n"
     ]
    }
   ],
   "source": [
    "print(\"Member Two Full Name:\", member_two.first_name, member_two.middle_name, member_two.last_name)"
   ]
  },
  {
   "cell_type": "markdown",
   "metadata": {},
   "source": [
    "### <mark style=\"background-color: #CD6354; color: white; padding: 0 1rem;\">Example 3</mark>"
   ]
  },
  {
   "cell_type": "code",
   "execution_count": 48,
   "metadata": {},
   "outputs": [],
   "source": [
    "class Member:\n",
    "    def __init__(self, f_name, mid_name, l_name, gend):\n",
    "        self.first_name = f_name\n",
    "        self.middle_name = mid_name\n",
    "        self.last_name = l_name\n",
    "        self.gender = gend\n",
    "        \n",
    "    def full_name(self):\n",
    "        return f\"{self.first_name} {self.middle_name} {self.last_name}\"\n",
    "    \n",
    "    def greeting(self):\n",
    "        if self.gender == 'Male':\n",
    "            return f\"Hello Mr. {self.first_name}\"\n",
    "        elif self.gender == 'Female':\n",
    "            return f\"Hello Ms. {self.first_name}\"\n",
    "        else:\n",
    "            return f\"Hello {self.first_name}\"\n",
    "    \n",
    "    def get_all_info(self):\n",
    "        return f\"{self.greeting()}, your full name is: {self.full_name()}\""
   ]
  },
  {
   "cell_type": "code",
   "execution_count": 49,
   "metadata": {},
   "outputs": [],
   "source": [
    "member_one = Member(\"Mustafa\", 'Ahmed', \"Mohammed\", 'Male')\n",
    "member_two = Member('Ali', 'Abdu-Allah', \"Abu-Alrahman\", '')\n",
    "member_three = Member('Maryam', 'Mohammed', \"Abu-Alrahman\", 'Female')"
   ]
  },
  {
   "cell_type": "code",
   "execution_count": 50,
   "metadata": {},
   "outputs": [
    {
     "name": "stdout",
     "output_type": "stream",
     "text": [
      "Mustafa Ahmed Mohammed\n",
      "Ali Abdu-Allah Abu-Alrahman\n",
      "Maryam Mohammed Abu-Alrahman\n"
     ]
    }
   ],
   "source": [
    "print(member_one.full_name())\n",
    "print(member_two.full_name())\n",
    "print(member_three.full_name())"
   ]
  },
  {
   "cell_type": "code",
   "execution_count": 51,
   "metadata": {},
   "outputs": [
    {
     "name": "stdout",
     "output_type": "stream",
     "text": [
      "Hello Mr. Mustafa\n",
      "Hello Ali\n",
      "Hello Ms. Maryam\n"
     ]
    }
   ],
   "source": [
    "print(member_one.greeting())\n",
    "print(member_two.greeting())\n",
    "print(member_three.greeting())"
   ]
  },
  {
   "cell_type": "code",
   "execution_count": 52,
   "metadata": {},
   "outputs": [
    {
     "name": "stdout",
     "output_type": "stream",
     "text": [
      "Hello Mr. Mustafa, your full name is: Mustafa Ahmed Mohammed\n",
      "Hello Ali, your full name is: Ali Abdu-Allah Abu-Alrahman\n",
      "Hello Ms. Maryam, your full name is: Maryam Mohammed Abu-Alrahman\n"
     ]
    }
   ],
   "source": [
    "print(member_one.get_all_info())\n",
    "print(member_two.get_all_info())\n",
    "print(member_three.get_all_info())"
   ]
  }
 ],
 "metadata": {
  "interpreter": {
   "hash": "8fba8154b0252bca3907b3434358ffda4f5e7cfd4d68fde71816b37dc430d8ed"
  },
  "kernelspec": {
   "display_name": "Python 3.9.2 64-bit",
   "language": "python",
   "name": "python3"
  },
  "language_info": {
   "codemirror_mode": {
    "name": "ipython",
    "version": 3
   },
   "file_extension": ".py",
   "mimetype": "text/x-python",
   "name": "python",
   "nbconvert_exporter": "python",
   "pygments_lexer": "ipython3",
   "version": "3.9.2"
  },
  "orig_nbformat": 4
 },
 "nbformat": 4,
 "nbformat_minor": 2
}
