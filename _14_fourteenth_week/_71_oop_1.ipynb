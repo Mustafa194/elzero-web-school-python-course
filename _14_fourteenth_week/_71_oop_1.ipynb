{
 "cells": [
  {
   "cell_type": "markdown",
   "metadata": {},
   "source": [
    "# <mark style=\"background-color: cyan; padding: 0 1rem;\">OOP</mark>"
   ]
  },
  {
   "cell_type": "markdown",
   "metadata": {},
   "source": [
    "<ol>\n",
    "\t<h3><li>Class is the Blueprint Or constructor of an Object</li></h3>\n",
    "\t<h3><li>Class Instantiate means create of a class</li></h3>\n",
    "\t<h3><li>Instance => object created from class and have their methods and attributes</li></h3>\n",
    "\t<h3><li>Class defined with keyword class</li></h3>\n",
    "\t<h3><li>Class name written with PascalCase [UpperCamelCase] style</li></h3>\n",
    "\t<h3><li>Class may contains methods and attributes</li></h3>\n",
    "\t<h3><li>When creating object python look for the built in __init__ method</li></h3>\n",
    "\t<h3><li>__init__ Method called every time you create object from class</li></h3>\n",
    "\t<h3><li>__init__ Method initializes the data for the object</li></h3>\n",
    "\t<h3><li>Any method name that is between two underscores is called Dunder or Magic Method</li></h3>\n",
    "\t<h3><li>Self refer to the current instance created from the class and must be first parameter</li></h3>\n",
    "\t<h3><li>Self can be named Anything</li></h3>\n",
    "\t<h3><li>In Python you don't need to call new() keyword to create object</li></h3>\n",
    "</ol>"
   ]
  },
  {
   "cell_type": "markdown",
   "metadata": {},
   "source": [
    "## <mark style=\"background-color: #1050D1; color: white; padding: 0 1rem;\">Syntax:</mark>\n",
    "<pre>Class Name:\n",
    "\t# Attributes:\n",
    "\t# Constructor:\n",
    "\t# Methods:\n",
    "</pre>"
   ]
  },
  {
   "cell_type": "code",
   "execution_count": 7,
   "metadata": {},
   "outputs": [
    {
     "name": "stdout",
     "output_type": "stream",
     "text": [
      "A new member has been added.\n",
      "A new member has been added.\n"
     ]
    }
   ],
   "source": [
    "class Member:\n",
    "    def __init__(self):\n",
    "        print('A new member has been added.')\n",
    "\n",
    "member_one = Member()\n",
    "member_two = Member()"
   ]
  },
  {
   "cell_type": "code",
   "execution_count": 8,
   "metadata": {},
   "outputs": [
    {
     "name": "stdout",
     "output_type": "stream",
     "text": [
      "<class '__main__.Member'>\n"
     ]
    }
   ],
   "source": [
    "print(member_one.__class__)"
   ]
  }
 ],
 "metadata": {
  "interpreter": {
   "hash": "8fba8154b0252bca3907b3434358ffda4f5e7cfd4d68fde71816b37dc430d8ed"
  },
  "kernelspec": {
   "display_name": "Python 3.9.2 64-bit",
   "language": "python",
   "name": "python3"
  },
  "language_info": {
   "codemirror_mode": {
    "name": "ipython",
    "version": 3
   },
   "file_extension": ".py",
   "mimetype": "text/x-python",
   "name": "python",
   "nbconvert_exporter": "python",
   "pygments_lexer": "ipython3",
   "version": "3.9.2"
  },
  "orig_nbformat": 4
 },
 "nbformat": 4,
 "nbformat_minor": 2
}
