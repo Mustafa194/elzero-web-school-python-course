{
 "cells": [
  {
   "cell_type": "markdown",
   "metadata": {},
   "source": [
    "# <mark style=\"background-color: cyan; padding: 0 1rem;\">Inheritance</mark>"
   ]
  },
  {
   "cell_type": "code",
   "execution_count": 3,
   "metadata": {},
   "outputs": [],
   "source": [
    "class Food:\n",
    "    def __init__(self, n, p):\n",
    "        self.name = n\n",
    "        self.price = p\n",
    "        \n",
    "        print(f\"{self.name.capitalize()} food is created from base class, with the price: ${self.price}\")\n",
    "    \n",
    "    def eat(self):\n",
    "        print(\"Eat method from base class\")\n"
   ]
  },
  {
   "cell_type": "code",
   "execution_count": 8,
   "metadata": {},
   "outputs": [],
   "source": [
    "class Apple(Food):\n",
    "    def __init__(self, n, p, a):\n",
    "        super().__init__(n, p)\n",
    "        self.amount = a\n",
    "        print(f\"{self.name} is created from derived class, with the amount is {self.amount}\")\n",
    "    \n",
    "    def get_from_tree(self):\n",
    "        print(\"Get from tree from derived class\")"
   ]
  },
  {
   "cell_type": "code",
   "execution_count": 10,
   "metadata": {},
   "outputs": [
    {
     "name": "stdout",
     "output_type": "stream",
     "text": [
      "Pizza food is created from base class, with the price: $20\n",
      "Apple food is created from base class, with the price: $1\n",
      "Apple is created from derived class, with the amount is 5\n"
     ]
    }
   ],
   "source": [
    "food_one = Food('Pizza', 20)\n",
    "food_two = Apple('Apple', 1, 5)"
   ]
  },
  {
   "cell_type": "code",
   "execution_count": 11,
   "metadata": {},
   "outputs": [
    {
     "name": "stdout",
     "output_type": "stream",
     "text": [
      "Eat method from base class\n",
      "Get from tree from derived class\n"
     ]
    }
   ],
   "source": [
    "food_two.eat()\n",
    "food_two.get_from_tree()"
   ]
  },
  {
   "cell_type": "markdown",
   "metadata": {},
   "source": [
    "## <mark style=\"background-color: #1050D1; color: white; padding: 0 1rem;\">Overriding Methods</mark>"
   ]
  },
  {
   "cell_type": "code",
   "execution_count": 14,
   "metadata": {},
   "outputs": [],
   "source": [
    "class Food:\n",
    "    def __init__(self, n, p):\n",
    "        self.name = n\n",
    "        self.price = p\n",
    "\n",
    "        print(\n",
    "            f\"{self.name.capitalize()} food is created from base class, with the price: ${self.price}\")\n",
    "\n",
    "    def eat(self):\n",
    "        print(\"Eat method from base class\")\n"
   ]
  },
  {
   "cell_type": "code",
   "execution_count": 15,
   "metadata": {},
   "outputs": [],
   "source": [
    "class Apple(Food):\n",
    "    def __init__(self, n, p, a):\n",
    "        super().__init__(n, p)\n",
    "        self.amount = a\n",
    "        print(\n",
    "            f\"{self.name} is created from derived class, with the amount is {self.amount}\")\n",
    "    def eat(self):\n",
    "        print(\"Eat method from derived class\")\n",
    "\n",
    "    def get_from_tree(self):\n",
    "        print(\"Get from tree from derived class\")\n"
   ]
  },
  {
   "cell_type": "code",
   "execution_count": 17,
   "metadata": {},
   "outputs": [
    {
     "name": "stdout",
     "output_type": "stream",
     "text": [
      "Apple food is created from base class, with the price: $1\n",
      "Apple is created from derived class, with the amount is 5\n",
      "Eat method from derived class\n"
     ]
    }
   ],
   "source": [
    "x = Apple(\"Apple\", 1, 5)\n",
    "x.eat()"
   ]
  },
  {
   "cell_type": "markdown",
   "metadata": {},
   "source": [
    "## <mark style=\"background-color: #1050D1; color: white; padding: 0 1rem;\">Multiple Inheritance</mark>"
   ]
  },
  {
   "cell_type": "code",
   "execution_count": 37,
   "metadata": {},
   "outputs": [],
   "source": [
    "class BaseOne:\n",
    "    def __init__(self):\n",
    "        print(\"Base One\")\n",
    "    \n",
    "    def fun1(self):\n",
    "        print(\"One\")\n",
    "\n",
    "class BaseTwo:\n",
    "    def __init__(self):\n",
    "        print(\"Base Two\")\n",
    "    \n",
    "    def fun2(self):\n",
    "        print(\"Two\")\n",
    "\n",
    "class Derived(BaseOne, BaseTwo):\n",
    "    # def __init__(self):\n",
    "    #     print(\"Derived\")\n",
    "    pass"
   ]
  },
  {
   "cell_type": "code",
   "execution_count": 38,
   "metadata": {},
   "outputs": [
    {
     "name": "stdout",
     "output_type": "stream",
     "text": [
      "Base One\n"
     ]
    }
   ],
   "source": [
    "my_var = Derived()"
   ]
  },
  {
   "cell_type": "code",
   "execution_count": 39,
   "metadata": {},
   "outputs": [
    {
     "name": "stdout",
     "output_type": "stream",
     "text": [
      "[<class '__main__.Derived'>, <class '__main__.BaseOne'>, <class '__main__.BaseTwo'>, <class 'object'>]\n"
     ]
    }
   ],
   "source": [
    "print(Derived.mro())"
   ]
  },
  {
   "cell_type": "code",
   "execution_count": 40,
   "metadata": {},
   "outputs": [
    {
     "name": "stdout",
     "output_type": "stream",
     "text": [
      "<bound method BaseOne.fun1 of <__main__.Derived object at 0x000001FB98916E00>>\n",
      "<bound method BaseTwo.fun2 of <__main__.Derived object at 0x000001FB98916E00>>\n"
     ]
    }
   ],
   "source": [
    "print(my_var.fun1)\n",
    "print(my_var.fun2)"
   ]
  },
  {
   "cell_type": "code",
   "execution_count": 41,
   "metadata": {},
   "outputs": [
    {
     "name": "stdout",
     "output_type": "stream",
     "text": [
      "One\n",
      "Two\n"
     ]
    }
   ],
   "source": [
    "my_var.fun1()\n",
    "my_var.fun2()"
   ]
  },
  {
   "cell_type": "markdown",
   "metadata": {},
   "source": [
    "## <mark style=\"background-color: #1050D1; color: white; padding: 0 1rem;\">Multiple Inheritance</mark>"
   ]
  },
  {
   "cell_type": "code",
   "execution_count": 43,
   "metadata": {},
   "outputs": [],
   "source": [
    "class Base:\n",
    "\tdef __init__(self):\n",
    "\t\tprint(\"Base\")\n",
    "\t\n",
    "\tdef fun1(self):\n",
    "\t\tprint(f\"Hello from Base\")\n",
    "\n",
    "class DerivedOne(Base):\n",
    "\tdef __init__(self):\n",
    "\t\tprint(\"Derived One\")\n",
    "\t\n",
    "\tdef fun2(self):\n",
    "\t\tprint(f\"Hello from DerivedOne\")\n",
    "\n",
    "class DerivedTwo(DerivedOne):\n",
    "\tdef __init__(self):\n",
    "\t\tprint(\"Derived Two\")\n",
    "\t\n",
    "\tdef fun3(self):\n",
    "\t\tprint(f\"Hello from DerivedTwo\")"
   ]
  },
  {
   "cell_type": "code",
   "execution_count": 44,
   "metadata": {},
   "outputs": [
    {
     "name": "stdout",
     "output_type": "stream",
     "text": [
      "Derived Two\n",
      "Hello from DerivedTwo\n"
     ]
    }
   ],
   "source": [
    "var = DerivedTwo()\n",
    "var.fun3()"
   ]
  }
 ],
 "metadata": {
  "interpreter": {
   "hash": "9e8db6161b2150caf6d1fd817285dce1668639c155397ae6ca85db6984ae428d"
  },
  "kernelspec": {
   "display_name": "Python 3.10.1 64-bit",
   "language": "python",
   "name": "python3"
  },
  "language_info": {
   "codemirror_mode": {
    "name": "ipython",
    "version": 3
   },
   "file_extension": ".py",
   "mimetype": "text/x-python",
   "name": "python",
   "nbconvert_exporter": "python",
   "pygments_lexer": "ipython3",
   "version": "3.10.1"
  },
  "orig_nbformat": 4
 },
 "nbformat": 4,
 "nbformat_minor": 2
}
