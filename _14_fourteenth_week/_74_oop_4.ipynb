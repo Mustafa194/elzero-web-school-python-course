{
 "cells": [
  {
   "cell_type": "markdown",
   "metadata": {},
   "source": [
    "# <mark style=\"background-color: cyan; padding: 0 1rem;\">Instance Attributes and Methods</mark>"
   ]
  },
  {
   "cell_type": "markdown",
   "metadata": {},
   "source": [
    "### <mark style=\"padding: 0 1rem\">Self:</mark> point to the instance created from class\n",
    "### <mark style=\"padding: 0 1rem\">Instance Attributes:</mark> they are defined in the constructor"
   ]
  },
  {
   "cell_type": "markdown",
   "metadata": {},
   "source": [
    "## <mark style=\"background-color: #1050D1; color: white; padding: 0 1rem;\">Class Methods</mark>\n",
    "<ul>\n",
    "\t<h4><li>Marked with @classmethod Decorator to flag it as class method</li></h4>\n",
    "\t<h4><li>It takes CLs parameter not self to point to the class and no to the instance</li></h4>\n",
    "\t<h4><li>It doesn't require creation of class instance</li></h4>\n",
    "\t<h4><li>Used when you want to do something with the class itself</li></h4>\n",
    "</ul>"
   ]
  },
  {
   "cell_type": "markdown",
   "metadata": {},
   "source": [
    "## <mark style=\"background-color: #1050D1; color: white; padding: 0 1rem;\">Statice Methods</mark>\n",
    "<ul>\n",
    "\t<h4><li>It takes no parameters</li></h4>\n",
    "\t<h4><li>Its bound to the class no instance</li></h4>\n",
    "\t<h4><li>Used when doing something doesn't have access to object or class but related to class</li></h4>\n",
    "</ul>"
   ]
  },
  {
   "cell_type": "code",
   "execution_count": 4,
   "metadata": {},
   "outputs": [],
   "source": [
    "class Member:\n",
    "    not_allowed_names = [\"Hell\", 'Shit']\n",
    "    num_of_members = 0\n",
    "\n",
    "    def is_valid_name(self, f_name, mid_name, l_name):\n",
    "        if f_name in Member.not_allowed_names or mid_name in Member.not_allowed_names or l_name in Member.not_allowed_names:\n",
    "            return False\n",
    "        return True\n",
    "\n",
    "    def __init__(self, f_name, mid_name, l_name, gend):\n",
    "        if self.is_valid_name(f_name, mid_name, l_name):\n",
    "            self.first_name = f_name\n",
    "            self.middle_name = mid_name\n",
    "            self.last_name = l_name\n",
    "        else:\n",
    "            raise ValueError(\"The name is not allowed in the system\")\n",
    "        self.gender = gend\n",
    "        Member.num_of_members += 1\n",
    "\n",
    "    def full_name(self):\n",
    "        if not self.is_valid_name(self.first_name, self.middle_name, self.last_name):\n",
    "            raise ValueError(\"The name is not allowed in the system\")\n",
    "        else:\n",
    "            return f\"{self.first_name} {self.middle_name} {self.last_name}\"\n",
    "\n",
    "    def greeting(self):\n",
    "        if self.gender == 'Male':\n",
    "            return f\"Hello Mr. {self.first_name}\"\n",
    "        elif self.gender == 'Female':\n",
    "            return f\"Hello Ms. {self.first_name}\"\n",
    "        else:\n",
    "            return f\"Hello {self.first_name}\"\n",
    "\n",
    "    def get_all_info(self):\n",
    "        return f\"{self.greeting()}, your full name is: {self.full_name()}\"\n",
    "\n",
    "    def delete_member(self):\n",
    "        Member.num_of_members -= 1\n",
    "        del self\n",
    "    \n",
    "    @classmethod\n",
    "    def users_count(cls):\n",
    "        return cls.num_of_members\n",
    "    \n",
    "    @staticmethod\n",
    "    def say_hello():\n",
    "        print(\"Hello, from static Method\")\n"
   ]
  },
  {
   "cell_type": "code",
   "execution_count": 5,
   "metadata": {},
   "outputs": [
    {
     "name": "stdout",
     "output_type": "stream",
     "text": [
      "1\n"
     ]
    }
   ],
   "source": [
    "member_one = Member(\"Mustafa\", \"Ahmed\", \"Mohammed\", \"Male\")\n",
    "print(Member.users_count())"
   ]
  },
  {
   "cell_type": "code",
   "execution_count": 6,
   "metadata": {},
   "outputs": [
    {
     "name": "stdout",
     "output_type": "stream",
     "text": [
      "Mustafa Ahmed Mohammed\n",
      "Mustafa Ahmed Mohammed\n"
     ]
    }
   ],
   "source": [
    "print(member_one.full_name())\n",
    "print(Member.full_name(member_one))"
   ]
  },
  {
   "cell_type": "code",
   "execution_count": 7,
   "metadata": {},
   "outputs": [
    {
     "name": "stdout",
     "output_type": "stream",
     "text": [
      "Hello, from static Method\n"
     ]
    }
   ],
   "source": [
    "Member.say_hello()"
   ]
  }
 ],
 "metadata": {
  "interpreter": {
   "hash": "9e8db6161b2150caf6d1fd817285dce1668639c155397ae6ca85db6984ae428d"
  },
  "kernelspec": {
   "display_name": "Python 3.10.1 64-bit",
   "language": "python",
   "name": "python3"
  },
  "language_info": {
   "codemirror_mode": {
    "name": "ipython",
    "version": 3
   },
   "file_extension": ".py",
   "mimetype": "text/x-python",
   "name": "python",
   "nbconvert_exporter": "python",
   "pygments_lexer": "ipython3",
   "version": "3.10.1"
  },
  "orig_nbformat": 4
 },
 "nbformat": 4,
 "nbformat_minor": 2
}
