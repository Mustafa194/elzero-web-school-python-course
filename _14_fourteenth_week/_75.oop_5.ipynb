{
 "cells": [
  {
   "cell_type": "markdown",
   "metadata": {},
   "source": [
    "# <mark style=\"background-color: cyan; padding: 0 1rem;\">Magic Methods</mark>"
   ]
  },
  {
   "cell_type": "markdown",
   "metadata": {},
   "source": [
    "<ul>\n",
    "\t<h4><li><mark style=\"padding: 0 1rem\">__init__</mark> called automatically when instantiating an object</li></h4>\n",
    "\t<h4><li><mark style=\"padding: 0 1rem\">self.__class__</mark> the class method to which a class instance belongs</li></h4>\n",
    "\t<h4><li><mark style=\"padding: 0 1rem\">__str__</mark> gives a human-readable output of the object</li></h4>\n",
    "\t<h4><li><mark style=\"padding: 0 1rem\">__len__</mark> returns the length of the container, called when we use the built-in <mark style=\"background-color: lightblue; padding: 0 0.5rem\">len()</mark> function on the object</li></h4>\n",
    "</ul>"
   ]
  },
  {
   "cell_type": "code",
   "execution_count": 4,
   "metadata": {},
   "outputs": [],
   "source": [
    "class Skill:\n",
    "    def __init__(self):\n",
    "        self.skills = [\"Html\", \"Css\", \"Js\"]\n",
    "    \n",
    "    def __str__(self):\n",
    "        return f\"These are my skills: {self.skills}\"\n",
    "    \n",
    "    def __len__(self):\n",
    "        return len(self.skills)\n"
   ]
  },
  {
   "cell_type": "code",
   "execution_count": 10,
   "metadata": {},
   "outputs": [
    {
     "name": "stdout",
     "output_type": "stream",
     "text": [
      "<class '__main__.Skill'>\n",
      "<class '__main__.Skill'>\n",
      "These are my skills: ['Html', 'Css', 'Js']\n",
      "3\n"
     ]
    }
   ],
   "source": [
    "profile = Skill()\n",
    "print(profile.__class__)\n",
    "print(type(profile))\n",
    "print(profile)\n",
    "print(len(profile))"
   ]
  },
  {
   "cell_type": "code",
   "execution_count": 11,
   "metadata": {},
   "outputs": [],
   "source": [
    "profile.skills.append(\"Microsoft SQL Server\")\n",
    "profile.skills.append(\"Python\")"
   ]
  },
  {
   "cell_type": "code",
   "execution_count": 12,
   "metadata": {},
   "outputs": [
    {
     "name": "stdout",
     "output_type": "stream",
     "text": [
      "5\n"
     ]
    }
   ],
   "source": [
    "print(len(profile))"
   ]
  }
 ],
 "metadata": {
  "interpreter": {
   "hash": "9e8db6161b2150caf6d1fd817285dce1668639c155397ae6ca85db6984ae428d"
  },
  "kernelspec": {
   "display_name": "Python 3.10.1 64-bit",
   "language": "python",
   "name": "python3"
  },
  "language_info": {
   "codemirror_mode": {
    "name": "ipython",
    "version": 3
   },
   "file_extension": ".py",
   "mimetype": "text/x-python",
   "name": "python",
   "nbconvert_exporter": "python",
   "pygments_lexer": "ipython3",
   "version": "3.10.1"
  },
  "orig_nbformat": 4
 },
 "nbformat": 4,
 "nbformat_minor": 2
}
