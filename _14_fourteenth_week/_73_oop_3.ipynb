{
 "cells": [
  {
   "cell_type": "markdown",
   "metadata": {},
   "source": [
    "# <mark style=\"background-color: cyan; padding: 0 1rem;\">Class Attributes</mark>"
   ]
  },
  {
   "cell_type": "markdown",
   "metadata": {},
   "source": [
    "## <mark style=\"background-color: #1050D1; color: white; padding: 0 1rem;\">Note</mark>"
   ]
  },
  {
   "cell_type": "markdown",
   "metadata": {},
   "source": [
    "### The instance attributes will be written in the constructor, but the class attributes will be written outside the constructor"
   ]
  },
  {
   "cell_type": "code",
   "execution_count": 1,
   "metadata": {},
   "outputs": [],
   "source": [
    "class Member:\n",
    "    not_allowed_names = [\"Hell\", 'Shit']\n",
    "    num_of_members = 0\n",
    "\n",
    "    def is_valid_name(self, f_name, mid_name, l_name):\n",
    "        if f_name in Member.not_allowed_names or mid_name in Member.not_allowed_names or l_name in Member.not_allowed_names:\n",
    "            return False\n",
    "        return True\n",
    "\n",
    "    def __init__(self, f_name, mid_name, l_name, gend):\n",
    "        if self.is_valid_name(f_name, mid_name, l_name):\n",
    "            self.first_name = f_name\n",
    "            self.middle_name = mid_name\n",
    "            self.last_name = l_name\n",
    "        else:\n",
    "            raise ValueError(\"The name is not allowed in the system\")\n",
    "        self.gender = gend\n",
    "        Member.num_of_members += 1\n",
    "\n",
    "    def full_name(self):\n",
    "        if self.is_valid_name():\n",
    "            raise ValueError(\"The name is not allowed in the system\")\n",
    "        else:\n",
    "            return f\"{self.first_name} {self.middle_name} {self.last_name}\"\n",
    "\n",
    "    def greeting(self):\n",
    "        if self.gender == 'Male':\n",
    "            return f\"Hello Mr. {self.first_name}\"\n",
    "        elif self.gender == 'Female':\n",
    "            return f\"Hello Ms. {self.first_name}\"\n",
    "        else:\n",
    "            return f\"Hello {self.first_name}\"\n",
    "\n",
    "    def get_all_info(self):\n",
    "        return f\"{self.greeting()}, your full name is: {self.full_name()}\"\n",
    "    \n",
    "    def delete_member(self):\n",
    "        Member.num_of_members -= 1\n",
    "        del self"
   ]
  },
  {
   "cell_type": "code",
   "execution_count": 2,
   "metadata": {},
   "outputs": [
    {
     "name": "stdout",
     "output_type": "stream",
     "text": [
      "['__class__', '__delattr__', '__dict__', '__dir__', '__doc__', '__eq__', '__format__', '__ge__', '__getattribute__', '__gt__', '__hash__', '__init__', '__init_subclass__', '__le__', '__lt__', '__module__', '__ne__', '__new__', '__reduce__', '__reduce_ex__', '__repr__', '__setattr__', '__sizeof__', '__str__', '__subclasshook__', '__weakref__', 'delete_member', 'full_name', 'get_all_info', 'greeting', 'is_valid_name', 'not_allowed_names', 'num_of_members']\n"
     ]
    }
   ],
   "source": [
    "print(dir(Member))"
   ]
  },
  {
   "cell_type": "code",
   "execution_count": 3,
   "metadata": {},
   "outputs": [],
   "source": [
    "x = Member('Ali', 'Ahmed', 'Ali', 'Mr')\n",
    "y = Member('Mustafa', 'Ahmed', 'Mohammed', 'Mr')"
   ]
  },
  {
   "cell_type": "code",
   "execution_count": 4,
   "metadata": {},
   "outputs": [
    {
     "name": "stdout",
     "output_type": "stream",
     "text": [
      "2\n"
     ]
    }
   ],
   "source": [
    "print(Member.num_of_members)"
   ]
  },
  {
   "cell_type": "code",
   "execution_count": 5,
   "metadata": {},
   "outputs": [],
   "source": [
    "x.delete_member()"
   ]
  },
  {
   "cell_type": "code",
   "execution_count": 6,
   "metadata": {},
   "outputs": [
    {
     "name": "stdout",
     "output_type": "stream",
     "text": [
      "1\n"
     ]
    }
   ],
   "source": [
    "print(Member.num_of_members)"
   ]
  }
 ],
 "metadata": {
  "interpreter": {
   "hash": "8fba8154b0252bca3907b3434358ffda4f5e7cfd4d68fde71816b37dc430d8ed"
  },
  "kernelspec": {
   "display_name": "Python 3.9.2 64-bit",
   "language": "python",
   "name": "python3"
  },
  "language_info": {
   "codemirror_mode": {
    "name": "ipython",
    "version": 3
   },
   "file_extension": ".py",
   "mimetype": "text/x-python",
   "name": "python",
   "nbconvert_exporter": "python",
   "pygments_lexer": "ipython3",
   "version": "3.9.2"
  },
  "orig_nbformat": 4
 },
 "nbformat": 4,
 "nbformat_minor": 2
}
