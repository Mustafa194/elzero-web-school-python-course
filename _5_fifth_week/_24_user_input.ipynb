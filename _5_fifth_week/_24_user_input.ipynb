{
 "cells": [
  {
   "cell_type": "markdown",
   "source": [
    "# <mark style=\"background-color: cyan\">User Input</mark>"
   ],
   "metadata": {}
  },
  {
   "cell_type": "code",
   "execution_count": 4,
   "source": [
    "first_name = input('What\\'s your first name: ')\r\n",
    "middle_name = input('What\\'s your middle name: ')\r\n",
    "last_name = input('What\\'s your last name: ')"
   ],
   "outputs": [],
   "metadata": {}
  },
  {
   "cell_type": "code",
   "execution_count": 5,
   "source": [
    "print(f\"Full name: {first_name} {middle_name} {last_name}\")\r\n"
   ],
   "outputs": [
    {
     "output_type": "stream",
     "name": "stdout",
     "text": [
      "Full name: Mustafa Ahmed                         Mohammed                            \n"
     ]
    }
   ],
   "metadata": {}
  },
  {
   "cell_type": "markdown",
   "source": [
    "### <mark>How to solve if the input above had some extra spaces?</mark>"
   ],
   "metadata": {}
  },
  {
   "cell_type": "code",
   "execution_count": 7,
   "source": [
    "first_name = first_name.strip()\r\n",
    "middle_name = middle_name.strip()\r\n",
    "last_name = last_name.strip()"
   ],
   "outputs": [],
   "metadata": {}
  },
  {
   "cell_type": "code",
   "execution_count": 8,
   "source": [
    "print(f\"Full name: {first_name} {middle_name} {last_name}\")"
   ],
   "outputs": [
    {
     "output_type": "stream",
     "name": "stdout",
     "text": [
      "Full name: Mustafa Ahmed Mohammed\n"
     ]
    }
   ],
   "metadata": {}
  },
  {
   "cell_type": "markdown",
   "source": [
    "### <mark>How to solve if the input above got words with letters in different cases</mark>"
   ],
   "metadata": {}
  },
  {
   "cell_type": "code",
   "execution_count": 9,
   "source": [
    "first_name = first_name.capitalize()\r\n",
    "middle_name = middle_name.capitalize()\r\n",
    "last_name = last_name.capitalize()"
   ],
   "outputs": [],
   "metadata": {}
  },
  {
   "cell_type": "code",
   "execution_count": 10,
   "source": [
    "print(f\"Full name: {first_name} {middle_name} {last_name}\")"
   ],
   "outputs": [
    {
     "output_type": "stream",
     "name": "stdout",
     "text": [
      "Full name: Mustafa Ahmed Mohammed\n"
     ]
    }
   ],
   "metadata": {}
  },
  {
   "cell_type": "markdown",
   "source": [
    "## <mark style=\"background-color: #1050D1; color: white\">Chained Methods</mark>"
   ],
   "metadata": {}
  },
  {
   "cell_type": "markdown",
   "source": [
    "### <mark>Do the two what is requested in the previous 2 questions</mark>"
   ],
   "metadata": {}
  },
  {
   "cell_type": "code",
   "execution_count": 12,
   "source": [
    "first_name = first_name.strip().capitalize()\r\n",
    "middle_name = middle_name.strip().capitalize()\r\n",
    "last_name = last_name.strip().capitalize()"
   ],
   "outputs": [],
   "metadata": {}
  },
  {
   "cell_type": "code",
   "execution_count": 11,
   "source": [
    "print(f\"Full name: {first_name} {middle_name} {last_name}\")"
   ],
   "outputs": [
    {
     "output_type": "stream",
     "name": "stdout",
     "text": [
      "Full name: Mustafa Ahmed Mohammed\n"
     ]
    }
   ],
   "metadata": {}
  },
  {
   "cell_type": "markdown",
   "source": [
    "### <mark>How to show the first name and first letter of the middle name and the whole last name</mark>\r\n",
    "### For Example: Mustafa Ahmed Mohammed\r\n",
    "### Must Output: Mustafa A. Mohammed"
   ],
   "metadata": {}
  },
  {
   "cell_type": "code",
   "execution_count": 14,
   "source": [
    "first_name = first_name.strip().capitalize()\r\n",
    "middle_name = middle_name.strip().capitalize()\r\n",
    "last_name = last_name.strip().capitalize()"
   ],
   "outputs": [],
   "metadata": {}
  },
  {
   "cell_type": "code",
   "execution_count": 15,
   "source": [
    "print(f\"Full name: {first_name} {middle_name:.1s}. {last_name}\")"
   ],
   "outputs": [
    {
     "output_type": "stream",
     "name": "stdout",
     "text": [
      "Full name: Mustafa A. Mohammed\n"
     ]
    }
   ],
   "metadata": {}
  }
 ],
 "metadata": {
  "orig_nbformat": 4,
  "language_info": {
   "name": "python",
   "version": "3.9.2",
   "mimetype": "text/x-python",
   "codemirror_mode": {
    "name": "ipython",
    "version": 3
   },
   "pygments_lexer": "ipython3",
   "nbconvert_exporter": "python",
   "file_extension": ".py"
  },
  "kernelspec": {
   "name": "python3",
   "display_name": "Python 3.9.2 64-bit"
  },
  "interpreter": {
   "hash": "8fba8154b0252bca3907b3434358ffda4f5e7cfd4d68fde71816b37dc430d8ed"
  }
 },
 "nbformat": 4,
 "nbformat_minor": 2
}