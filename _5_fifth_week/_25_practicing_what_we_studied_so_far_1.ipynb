{
 "cells": [
  {
   "cell_type": "markdown",
   "metadata": {},
   "source": [
    "# <mark style=\"background-color: cyan\">Practicing What We Studied So Far</mark>"
   ]
  },
  {
   "cell_type": "markdown",
   "metadata": {},
   "source": [
    "## <mark style=\"background-color: #1050D1; color: white\">Q1</mark>"
   ]
  },
  {
   "cell_type": "markdown",
   "metadata": {},
   "source": [
    "### <mark>Input an email and get the username of this email</mark>\n",
    "### Note: the username is the part before the '@' sign of the email\n",
    "### for example: input => sccs28328@student.su.edu.krd\n",
    "### then the username is: 'sccs28238'"
   ]
  },
  {
   "cell_type": "code",
   "execution_count": 23,
   "metadata": {},
   "outputs": [
    {
     "name": "stdout",
     "output_type": "stream",
     "text": [
      "User Name: mrmustafaahmed90\n"
     ]
    }
   ],
   "source": [
    "email = input('Enter your email: ')\n",
    "print(f\"User Name: {email[:email.index('@')]}\")"
   ]
  },
  {
   "cell_type": "markdown",
   "metadata": {},
   "source": [
    "## <mark style=\"background-color: #1050D1; color: white\">Q2</mark>"
   ]
  },
  {
   "cell_type": "markdown",
   "metadata": {},
   "source": [
    "### <mark>Get the domain of the email</mark>\n",
    "### Note: the domain is what comes after the the '@' sign\n",
    "### for example: input sccs28328@student.su.edu.krd\n",
    "### then the domain is 'student.su.edu.krd'"
   ]
  },
  {
   "cell_type": "code",
   "execution_count": 24,
   "metadata": {},
   "outputs": [
    {
     "name": "stdout",
     "output_type": "stream",
     "text": [
      "User Name: gmail.com\n"
     ]
    }
   ],
   "source": [
    "email = input('Enter your email: ')\n",
    "# it will be better if you do this => email = input('Enter your email: ').strip()\n",
    "print(f\"User Name: {email[email.index('@') + 1:]}\")"
   ]
  },
  {
   "cell_type": "markdown",
   "metadata": {},
   "source": [
    "## <mark style=\"background-color: #1050D1; color: white\">Q3</mark>"
   ]
  },
  {
   "cell_type": "markdown",
   "metadata": {},
   "source": [
    "### Your Age Full Details"
   ]
  },
  {
   "cell_type": "code",
   "execution_count": 25,
   "metadata": {},
   "outputs": [],
   "source": [
    "age = int(input('How Old Are You? ').strip())"
   ]
  },
  {
   "cell_type": "markdown",
   "metadata": {},
   "source": [
    "### <mark>Get Age in All Time Units</mark>"
   ]
  },
  {
   "cell_type": "markdown",
   "metadata": {},
   "source": [
    "### Note: use: 1 month = 4 weeks"
   ]
  },
  {
   "cell_type": "code",
   "execution_count": 26,
   "metadata": {},
   "outputs": [],
   "source": [
    "months = age * 12\n",
    "weeks = age * 52\n",
    "days = age * 365\n",
    "hours = days * 24\n",
    "minutes = hours * 60\n",
    "seconds = minutes * 60"
   ]
  },
  {
   "cell_type": "code",
   "execution_count": 27,
   "metadata": {},
   "outputs": [
    {
     "name": "stdout",
     "output_type": "stream",
     "text": [
      "You Lived For: 240 months, 1040 weeks, 7,300 days,\n",
      "175,200 hours 10,512,000 minutes 630,720,000 seconds\n"
     ]
    }
   ],
   "source": [
    "print(f\"You Lived For: {months} months, {weeks} weeks, {days:,} days,\\n\\\n",
    "{hours:,} hours {minutes:,} minutes {seconds:,} seconds\")"
   ]
  }
 ],
 "metadata": {
  "interpreter": {
   "hash": "8fba8154b0252bca3907b3434358ffda4f5e7cfd4d68fde71816b37dc430d8ed"
  },
  "kernelspec": {
   "display_name": "Python 3.9.2 64-bit",
   "name": "python3"
  },
  "language_info": {
   "codemirror_mode": {
    "name": "ipython",
    "version": 3
   },
   "file_extension": ".py",
   "mimetype": "text/x-python",
   "name": "python",
   "nbconvert_exporter": "python",
   "pygments_lexer": "ipython3",
   "version": "3.9.2"
  },
  "orig_nbformat": 4
 },
 "nbformat": 4,
 "nbformat_minor": 2
}
