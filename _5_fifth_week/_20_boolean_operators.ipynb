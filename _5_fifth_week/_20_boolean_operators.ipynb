{
 "cells": [
  {
   "cell_type": "markdown",
   "source": [
    "# <mark style=\"background-color: cyan\">Boolean Operators</mark>"
   ],
   "metadata": {}
  },
  {
   "cell_type": "markdown",
   "source": [
    "## <mark style=\"background-color: #1050D1; color: white\">and</mark>"
   ],
   "metadata": {}
  },
  {
   "cell_type": "code",
   "execution_count": 4,
   "source": [
    "print(16 > 2 and 16 < 17)\r\n",
    "print(16 < 2 and 16 < 17)\r\n",
    "print(16 > 2 and 16 > 17)\r\n",
    "print(16 < 2 and 16 > 17)"
   ],
   "outputs": [
    {
     "output_type": "stream",
     "name": "stdout",
     "text": [
      "True\n",
      "False\n",
      "False\n",
      "False\n"
     ]
    }
   ],
   "metadata": {}
  },
  {
   "cell_type": "markdown",
   "source": [
    "## <mark style=\"background-color: #1050D1; color: white\">or</mark>"
   ],
   "metadata": {}
  },
  {
   "cell_type": "code",
   "execution_count": 6,
   "source": [
    "print(2 > 16 or 2 < 4)\r\n",
    "print(2 < 16 or 2 < 4)\r\n",
    "print(2 > 16 or 2 > 4)\r\n",
    "print(2 < 16 or 2 > 4)"
   ],
   "outputs": [
    {
     "output_type": "stream",
     "name": "stdout",
     "text": [
      "True\n",
      "True\n",
      "False\n",
      "True\n"
     ]
    }
   ],
   "metadata": {}
  },
  {
   "cell_type": "markdown",
   "source": [
    "## <mark style=\"background-color: #1050D1; color: white\">not</mark>"
   ],
   "metadata": {}
  },
  {
   "cell_type": "code",
   "execution_count": 7,
   "source": [
    "print(not 10 < 1)\r\n",
    "print(not 10 > 1)"
   ],
   "outputs": [
    {
     "output_type": "stream",
     "name": "stdout",
     "text": [
      "True\n",
      "False\n"
     ]
    }
   ],
   "metadata": {}
  }
 ],
 "metadata": {
  "orig_nbformat": 4,
  "language_info": {
   "name": "python",
   "version": "3.9.2",
   "mimetype": "text/x-python",
   "codemirror_mode": {
    "name": "ipython",
    "version": 3
   },
   "pygments_lexer": "ipython3",
   "nbconvert_exporter": "python",
   "file_extension": ".py"
  },
  "kernelspec": {
   "name": "python3",
   "display_name": "Python 3.9.2 64-bit"
  },
  "interpreter": {
   "hash": "8fba8154b0252bca3907b3434358ffda4f5e7cfd4d68fde71816b37dc430d8ed"
  }
 },
 "nbformat": 4,
 "nbformat_minor": 2
}