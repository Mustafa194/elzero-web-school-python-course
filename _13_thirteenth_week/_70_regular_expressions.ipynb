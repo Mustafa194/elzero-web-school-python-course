{
 "cells": [
  {
   "cell_type": "markdown",
   "metadata": {},
   "source": [
    "# <mark style=\"background-color: cyan; padding: 0 1rem;\">Regular Expressions</mark>"
   ]
  },
  {
   "cell_type": "markdown",
   "metadata": {},
   "source": [
    "<ol>\n",
    "\t<li>Sequence of characters that define a search pattern</li>\n",
    "\t<li>It's a general concept in many programming languages, not only for python</li>\n",
    "\t<li>Used in: Credit Card, IP Address, Email Validations</li>\n",
    "\t<li><a href=\"https://pythex.org\">Test Regex</a></li>\n",
    "\t<li><a href=\"https://www.debuggex.com/cheatsheet/regex/python\">Python Regex Cheat Sheet</a></li>\n",
    "\t<li><a href=\"https://regex101.com/\">Regex 101</a></li>\n",
    "</ol>"
   ]
  },
  {
   "cell_type": "markdown",
   "metadata": {},
   "source": [
    "## <mark style=\"background-color: #1050D1; color: white; padding: 0 1rem;\">Main Methods</mark>"
   ]
  },
  {
   "cell_type": "markdown",
   "metadata": {},
   "source": [
    "### <mark style=\"padding: 0 1rem\">search()</mark> Search through a string for a match and return the first match only<br>\n",
    "### <mark style=\"padding: 0 1rem\">findall()</mark> Returns a list of all matches and an empty list if there is no match string"
   ]
  },
  {
   "cell_type": "code",
   "execution_count": 4,
   "metadata": {},
   "outputs": [],
   "source": [
    "from re import search, findall"
   ]
  },
  {
   "cell_type": "markdown",
   "metadata": {},
   "source": [
    "## <mark style=\"background-color: #1050D1; color: white; padding: 0 1rem;\">Example 1</mark>"
   ]
  },
  {
   "cell_type": "code",
   "execution_count": 5,
   "metadata": {},
   "outputs": [
    {
     "name": "stdout",
     "output_type": "stream",
     "text": [
      "<re.Match object; span=(8, 9), match='A'>\n"
     ]
    }
   ],
   "source": [
    "my_search = search(r\"[A-Z]\", input('Enter a string: '))\n",
    "print(my_search)"
   ]
  },
  {
   "cell_type": "code",
   "execution_count": 6,
   "metadata": {},
   "outputs": [
    {
     "name": "stdout",
     "output_type": "stream",
     "text": [
      "['__class__', '__class_getitem__', '__copy__', '__deepcopy__', '__delattr__', '__dir__', '__doc__', '__eq__', '__format__', '__ge__', '__getattribute__', '__getitem__', '__gt__', '__hash__', '__init__', '__init_subclass__', '__le__', '__lt__', '__ne__', '__new__', '__reduce__', '__reduce_ex__', '__repr__', '__setattr__', '__sizeof__', '__str__', '__subclasshook__', 'end', 'endpos', 'expand', 'group', 'groupdict', 'groups', 'lastgroup', 'lastindex', 'pos', 're', 'regs', 'span', 'start', 'string']\n"
     ]
    }
   ],
   "source": [
    "print(dir(my_search))"
   ]
  },
  {
   "cell_type": "code",
   "execution_count": 7,
   "metadata": {},
   "outputs": [
    {
     "name": "stdout",
     "output_type": "stream",
     "text": [
      "(8, 9)\n",
      "mustafa Ahmed Mohammed\n",
      "A\n"
     ]
    }
   ],
   "source": [
    "print(my_search.span())\n",
    "print(my_search.string)\n",
    "print(my_search.group())"
   ]
  },
  {
   "cell_type": "markdown",
   "metadata": {},
   "source": [
    "## <mark style=\"background-color: #1050D1; color: white; padding: 0 1rem;\">Below is the regular expression for an email</mark>"
   ]
  },
  {
   "cell_type": "code",
   "execution_count": 8,
   "metadata": {},
   "outputs": [],
   "source": [
    "email_regex = r\"^([A-z]{1})(([A-Za-z0-9]([\\.\\_\\~\\!\\#\\$\\%\\&\\*\\\\]?)){,62})([A-Za-z0-9]{1})([\\@]{1})(([A-Za-z0-9]([\\.]?)){,249})([\\.]{1})([A-Za-z]{,4})$\""
   ]
  },
  {
   "cell_type": "code",
   "execution_count": 9,
   "metadata": {},
   "outputs": [],
   "source": [
    "email_list_test = []"
   ]
  },
  {
   "cell_type": "code",
   "execution_count": 10,
   "metadata": {},
   "outputs": [],
   "source": [
    "email_list_test.append('mrmustafaahmed90@gmail.com')\n",
    "email_list_test.append('sccs07019@student.su.edu.krd')\n",
    "email_list_test.append('mustafa_a.@gmail.com1')\n",
    "email_list_test.append('ahmed._323b@yahoo.ne$')\n",
    "email_list_test.append('mr.mohammed.ahmed.90@gmail.com')\n",
    "email_list_test.append('mr_mustafa_ahmed_@gmail.com')\n",
    "email_list_test.append('mr_mustafa_ahmed__@gmail.com')\n",
    "email_list_test.append('mr_mustafa__ahmed@gmail.com')\n",
    "email_list_test.append('mr_mustafa_ahmed@gmail.co')\n",
    "email_list_test.append('mr_mustafa_ahmed@gmail.us')\n",
    "email_list_test.append('mr_mustafa_ahmed@gmail.info')"
   ]
  },
  {
   "cell_type": "code",
   "execution_count": 11,
   "metadata": {},
   "outputs": [
    {
     "name": "stdout",
     "output_type": "stream",
     "text": [
      "The email: \"mrmustafaahmed90@gmail.com\" is valid.\n",
      "The email: \"sccs07019@student.su.edu.krd\" is valid.\n",
      "The email: \"mustafa_a.@gmail.com1\" isn't valid.\n",
      "The email: \"ahmed._323b@yahoo.ne$\" isn't valid.\n",
      "The email: \"mr.mohammed.ahmed.90@gmail.com\" is valid.\n",
      "The email: \"mr_mustafa_ahmed_@gmail.com\" isn't valid.\n",
      "The email: \"mr_mustafa_ahmed__@gmail.com\" isn't valid.\n",
      "The email: \"mr_mustafa__ahmed@gmail.com\" isn't valid.\n",
      "The email: \"mr_mustafa_ahmed@gmail.co\" is valid.\n",
      "The email: \"mr_mustafa_ahmed@gmail.us\" is valid.\n",
      "The email: \"mr_mustafa_ahmed@gmail.info\" is valid.\n"
     ]
    }
   ],
   "source": [
    "for email in email_list_test:\n",
    "    print(f'The email: \"{email}\" is valid.') if search(email_regex, email) else print(f'The email: \"{email}\" isn\\'t valid.')"
   ]
  },
  {
   "cell_type": "markdown",
   "metadata": {},
   "source": [
    "## <mark style=\"background-color: #1050D1; color: white; padding: 0 1rem;\">Example With findall() Method</mark>"
   ]
  },
  {
   "cell_type": "code",
   "execution_count": 12,
   "metadata": {},
   "outputs": [],
   "source": [
    "from re import MULTILINE"
   ]
  },
  {
   "cell_type": "code",
   "execution_count": 13,
   "metadata": {},
   "outputs": [],
   "source": [
    "valid_emails = []"
   ]
  },
  {
   "cell_type": "code",
   "execution_count": 14,
   "metadata": {},
   "outputs": [],
   "source": [
    "s = findall(email_regex, \"\\n\".join(email_list_test), MULTILINE)"
   ]
  },
  {
   "cell_type": "code",
   "execution_count": 15,
   "metadata": {},
   "outputs": [
    {
     "name": "stdout",
     "output_type": "stream",
     "text": [
      "('m', 'rmustafaahmed9', '9', '', '0', '@', 'gmail', 'l', '', '.', 'com')\n",
      "('s', 'ccs0701', '1', '', '9', '@', 'student.su.edu', 'u', '', '.', 'krd')\n",
      "('m', 'r.mohammed.ahmed.9', '9', '', '0', '@', 'gmail', 'l', '', '.', 'com')\n",
      "('m', 'r_mustafa_ahme', 'e', '', 'd', '@', 'gmail', 'l', '', '.', 'co')\n",
      "('m', 'r_mustafa_ahme', 'e', '', 'd', '@', 'gmail', 'l', '', '.', 'us')\n",
      "('m', 'r_mustafa_ahme', 'e', '', 'd', '@', 'gmail', 'l', '', '.', 'info')\n"
     ]
    }
   ],
   "source": [
    "for i in s:\n",
    "    print(i)"
   ]
  },
  {
   "cell_type": "markdown",
   "metadata": {},
   "source": [
    "## <mark style=\"background-color: #1050D1; color: white; padding: 0 1rem;\">Split and Sub</mark>"
   ]
  },
  {
   "cell_type": "markdown",
   "metadata": {},
   "source": [
    "### <mark style=\"padding: 0 1rem\">split(pattern, string, maxsplit)</mark> Returns a list of elements splitted on each match\n",
    "### <mark style=\"padding: 0 1rem\">sub(pattern, replace, string, replace_count)</mark> Replaces matches with what you want"
   ]
  },
  {
   "cell_type": "code",
   "execution_count": 16,
   "metadata": {},
   "outputs": [],
   "source": [
    "from re import split"
   ]
  },
  {
   "cell_type": "markdown",
   "metadata": {},
   "source": [
    "### <mark style=\"background-color: #CD6354; color: white; padding: 0 1rem;\">Example</mark>"
   ]
  },
  {
   "cell_type": "code",
   "execution_count": 17,
   "metadata": {},
   "outputs": [],
   "source": [
    "string_one = \"I love Python Programming Language\""
   ]
  },
  {
   "cell_type": "code",
   "execution_count": 18,
   "metadata": {},
   "outputs": [],
   "source": [
    "search_one = split(r\"\\s\", string_one)"
   ]
  },
  {
   "cell_type": "code",
   "execution_count": 19,
   "metadata": {},
   "outputs": [
    {
     "name": "stdout",
     "output_type": "stream",
     "text": [
      "['I', 'love', 'Python', 'Programming', 'Language']\n"
     ]
    }
   ],
   "source": [
    "print(search_one)"
   ]
  },
  {
   "cell_type": "markdown",
   "metadata": {},
   "source": [
    "### <mark style=\"background-color: #CD6354; color: white; padding: 0 1rem;\">Example</mark>"
   ]
  },
  {
   "cell_type": "code",
   "execution_count": 20,
   "metadata": {},
   "outputs": [],
   "source": [
    "string_two = 'How-To_Write_A_Very-Good-Article'"
   ]
  },
  {
   "cell_type": "code",
   "execution_count": 21,
   "metadata": {},
   "outputs": [],
   "source": [
    "search_two = split(r'-|_', string_two)"
   ]
  },
  {
   "cell_type": "code",
   "execution_count": 22,
   "metadata": {},
   "outputs": [
    {
     "name": "stdout",
     "output_type": "stream",
     "text": [
      "['How', 'To', 'Write', 'A', 'Very', 'Good', 'Article']\n"
     ]
    }
   ],
   "source": [
    "print(search_two)"
   ]
  },
  {
   "cell_type": "code",
   "execution_count": 23,
   "metadata": {},
   "outputs": [
    {
     "name": "stdout",
     "output_type": "stream",
     "text": [
      "How\n",
      "To\n",
      "Write\n",
      "A\n",
      "Very\n",
      "Good\n",
      "Article\n"
     ]
    }
   ],
   "source": [
    "for word in search_two:\n",
    "    print(word)"
   ]
  },
  {
   "cell_type": "markdown",
   "metadata": {},
   "source": [
    "### <mark style=\"background-color: #CD6354; color: white; padding: 0 1rem;\">Example</mark>"
   ]
  },
  {
   "cell_type": "code",
   "execution_count": 24,
   "metadata": {},
   "outputs": [],
   "source": [
    "from re import sub"
   ]
  },
  {
   "cell_type": "code",
   "execution_count": 25,
   "metadata": {},
   "outputs": [
    {
     "name": "stdout",
     "output_type": "stream",
     "text": [
      "I-love-Python-Programming-Language\n",
      "I-love-Python Programming Language\n"
     ]
    }
   ],
   "source": [
    "print(sub(r\"\\s\", '-', string_one))\n",
    "print(sub(r\"\\s\", '-', string_one, 2))"
   ]
  },
  {
   "cell_type": "markdown",
   "metadata": {},
   "source": []
  },
  {
   "cell_type": "code",
   "execution_count": 59,
   "metadata": {},
   "outputs": [],
   "source": [
    "list_of_emails = [\"http://www.sample.com\", \"https://www.sample.com\", \"http://www.sample.com/xyz\", \"www.sample.com\", \"www.sample.com/xyz/#/xyz\", \"sample.com\", \"www.sample.com\", \"mofiz.com\", \"kolim.com\", \"www.murikhao.www.sample.com\", \"http://murihao.www.sample.com\", \"http://www.sample.com/xyz?abc=dkd&p=q&c=2\", \"www.sample.gov.bd\", \"www.sample.com.en\", \"www.sample.vu\", \"https://www.debuggex.com/cheatsheet/regex/python\", \"https://pythex.org/\", \"https://www.udemy.com/course cisco-ccent-icnd1-100-105-complete-course-sims-and-gns3/learn/lecture/18250598#overview\", \"https://www.youtube.com/watch?v=MLb7pPOEJlg list=PLDoPjvoNmBAyE_gei5d18qkfIe-Z8mocs&index=102\", \"https://www.elzero.org:8080/category.php?article=105?name=how-to-do\"]"
   ]
  },
  {
   "cell_type": "code",
   "execution_count": 60,
   "metadata": {},
   "outputs": [],
   "source": [
    "hyper_link = r\"(https?)(:\\/\\/)((www\\.)?)(\\w+\\.)(\\w+)((:\\d+)?)(\\/)?(\\S+)\""
   ]
  },
  {
   "cell_type": "code",
   "execution_count": 64,
   "metadata": {},
   "outputs": [],
   "source": [
    "hyperlink = r\"^((ftp|http|https):\\/\\/)?(www.)?(?!.*(ftp|http|https|www.))[a-zA-Z0-9_-]+(\\.[a-zA-Z]+)+((\\/)[\\w#]+)*(\\/\\w+\\?[a-zA-Z0-9_]+=\\w+(&[a-zA-Z0-9_]+=\\w+)*)?$\""
   ]
  },
  {
   "cell_type": "code",
   "execution_count": 69,
   "metadata": {},
   "outputs": [],
   "source": [
    "x = enumerate(list_of_emails)\n",
    "for i, j in x:\n",
    "    if findall(hyper_link, j) == []:\n",
    "        list_of_emails.pop(i)"
   ]
  },
  {
   "cell_type": "code",
   "execution_count": 70,
   "metadata": {},
   "outputs": [
    {
     "name": "stdout",
     "output_type": "stream",
     "text": [
      "http\n",
      "://\n",
      "www.\n",
      "www.\n",
      "sample.\n",
      "co\n",
      "\n",
      "None\n",
      "None\n",
      "m\n",
      "https\n",
      "://\n",
      "www.\n",
      "www.\n",
      "sample.\n",
      "co\n",
      "\n",
      "None\n",
      "None\n",
      "m\n",
      "http\n",
      "://\n",
      "www.\n",
      "www.\n",
      "sample.\n",
      "com\n",
      "\n",
      "None\n",
      "/\n",
      "xyz\n"
     ]
    },
    {
     "ename": "AttributeError",
     "evalue": "'NoneType' object has no attribute 'groups'",
     "output_type": "error",
     "traceback": [
      "\u001b[1;31m---------------------------------------------------------------------------\u001b[0m",
      "\u001b[1;31mAttributeError\u001b[0m                            Traceback (most recent call last)",
      "\u001b[1;32m~\\AppData\\Local\\Temp/ipykernel_12408/409442511.py\u001b[0m in \u001b[0;36m<module>\u001b[1;34m\u001b[0m\n\u001b[0;32m      1\u001b[0m \u001b[1;32mfor\u001b[0m \u001b[0mi\u001b[0m \u001b[1;32min\u001b[0m \u001b[0mlist_of_emails\u001b[0m\u001b[1;33m:\u001b[0m\u001b[1;33m\u001b[0m\u001b[1;33m\u001b[0m\u001b[0m\n\u001b[1;32m----> 2\u001b[1;33m     \u001b[1;32mfor\u001b[0m \u001b[0mj\u001b[0m \u001b[1;32min\u001b[0m \u001b[0msearch\u001b[0m\u001b[1;33m(\u001b[0m\u001b[0mhyper_link\u001b[0m\u001b[1;33m,\u001b[0m \u001b[0mi\u001b[0m\u001b[1;33m)\u001b[0m\u001b[1;33m.\u001b[0m\u001b[0mgroups\u001b[0m\u001b[1;33m(\u001b[0m\u001b[1;33m)\u001b[0m\u001b[1;33m:\u001b[0m\u001b[1;33m\u001b[0m\u001b[1;33m\u001b[0m\u001b[0m\n\u001b[0m\u001b[0;32m      3\u001b[0m         \u001b[0mprint\u001b[0m\u001b[1;33m(\u001b[0m\u001b[0mj\u001b[0m\u001b[1;33m)\u001b[0m\u001b[1;33m\u001b[0m\u001b[1;33m\u001b[0m\u001b[0m\n",
      "\u001b[1;31mAttributeError\u001b[0m: 'NoneType' object has no attribute 'groups'"
     ]
    }
   ],
   "source": [
    "for i in list_of_emails:\n",
    "    for j in search(hyper_link, i).groups():\n",
    "        print(j)"
   ]
  },
  {
   "cell_type": "code",
   "execution_count": null,
   "metadata": {},
   "outputs": [],
   "source": []
  }
 ],
 "metadata": {
  "interpreter": {
   "hash": "8fba8154b0252bca3907b3434358ffda4f5e7cfd4d68fde71816b37dc430d8ed"
  },
  "kernelspec": {
   "display_name": "Python 3.9.2 64-bit",
   "language": "python",
   "name": "python3"
  },
  "language_info": {
   "codemirror_mode": {
    "name": "ipython",
    "version": 3
   },
   "file_extension": ".py",
   "mimetype": "text/x-python",
   "name": "python",
   "nbconvert_exporter": "python",
   "pygments_lexer": "ipython3",
   "version": "3.9.2"
  },
  "orig_nbformat": 4
 },
 "nbformat": 4,
 "nbformat_minor": 2
}
