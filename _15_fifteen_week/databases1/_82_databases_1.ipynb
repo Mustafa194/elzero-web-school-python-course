{
 "cells": [
  {
   "cell_type": "markdown",
   "metadata": {},
   "source": [
    "# <mark style=\"background-color: cyan; padding: 0 1rem;\">Introduction to Databases</mark>"
   ]
  },
  {
   "cell_type": "markdown",
   "metadata": {},
   "source": [
    "<ul>\n",
    "\t<h3><li>Database is a place where we can store data</li></h3>\n",
    "\t<h3><li>Database organized into tables (Users, Categories)</li></h3>\n",
    "\t<h3><li>Tables has columns (ID, username, password)</li></h3>\n",
    "\t<h3><li>There's many types of databases (MongoDB, MySQL, SQLite)</li></h3>\n",
    "\t<h3><li>SQL stands for Structured Query Language</li></h3>\n",
    "\t<h3><li><mark style=\"padding: 0 0.5rem;\">SQLite</mark> can run in memory or in a single file</li></h3>\n",
    "\t<h3><li>You can browse file with <a href=\"https://sqlitebrowser.org/\">SQLite Browser</a></li></h3>\n",
    "\t<h3><li>Data inside databases has types (text, integer, date, ...etc.)</li></h3>\n",
    "</ul>"
   ]
  }
 ],
 "metadata": {
  "language_info": {
   "name": "python"
  },
  "orig_nbformat": 4
 },
 "nbformat": 4,
 "nbformat_minor": 2
}
