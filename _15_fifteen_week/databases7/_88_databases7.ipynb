{
 "cells": [
  {
   "cell_type": "markdown",
   "metadata": {},
   "source": [
    "# <mark style=\"background-color: cyan; padding: 0 1rem;\">Create Skills App</mark>"
   ]
  },
  {
   "cell_type": "code",
   "execution_count": 1,
   "metadata": {},
   "outputs": [],
   "source": [
    "import sqlite3"
   ]
  },
  {
   "cell_type": "markdown",
   "metadata": {},
   "source": [
    "## <mark style=\"background-color: #1050D1; color: white; padding: 0 1rem;\">Creating Database And Connect</mark>"
   ]
  },
  {
   "cell_type": "code",
   "execution_count": 2,
   "metadata": {},
   "outputs": [],
   "source": [
    "db = sqlite3.connect(\"skills_app.db\")"
   ]
  },
  {
   "cell_type": "markdown",
   "metadata": {},
   "source": [
    "## <mark style=\"background-color: #1050D1; color: white; padding: 0 1rem;\">Setting Up The Cursor</mark>"
   ]
  },
  {
   "cell_type": "code",
   "execution_count": 3,
   "metadata": {},
   "outputs": [],
   "source": [
    "cr = db.cursor()"
   ]
  },
  {
   "cell_type": "markdown",
   "metadata": {},
   "source": [
    "## <mark style=\"background-color: #1050D1; color: white; padding: 0 1rem;\">Save And Close The Database</mark>"
   ]
  },
  {
   "cell_type": "code",
   "execution_count": 4,
   "metadata": {},
   "outputs": [],
   "source": [
    "def save_and_close():\n",
    "    print(\"Connection With Database Is Closed\")\n",
    "    db.commit()\n",
    "    db.close()"
   ]
  },
  {
   "cell_type": "markdown",
   "metadata": {},
   "source": [
    "## <mark style=\"background-color: #1050D1; color: white; padding: 0 1rem;\">Checking User ID</mark>"
   ]
  },
  {
   "cell_type": "code",
   "execution_count": null,
   "metadata": {},
   "outputs": [],
   "source": [
    "class User:\n",
    "    _users_ids: list = []\n",
    "    \n",
    "    def __init__(self, u_id: int, u_name: str, u_password: str):\n",
    "        self._user_id: int = u_id\n",
    "        self._user_name: str = u_name\n",
    "        self._user_password: str = u_password\n",
    "        User._users_ids.append(self._user_id)\n",
    "    \n",
    "    def set_user_id(self, u_id: int):\n",
    "        self._users_ids.pop(self._users_ids.index(self._user_id))\n",
    "        self._user_id = u_id\n",
    "        User._users_ids.append(self._user_id)\n",
    "        User._users_ids.sort()\n",
    "    \n",
    "    def set_user_name(self, u_name: str):\n",
    "        self._user_name: str = u_name\n",
    "    \n",
    "    def set_user_password(self, old_password: str, new_password: str):\n",
    "        if old_password == self._user_password:\n",
    "            self._user_password = new_password\n",
    "        else:\n",
    "            raise ValueError(\"Wrong Password\")\n",
    "    \n",
    "    def get_user_id(self):\n",
    "        return self._user_id\n",
    "    \n",
    "    def get_user_name(self):\n",
    "        return self._user_name"
   ]
  },
  {
   "cell_type": "code",
   "execution_count": 23,
   "metadata": {},
   "outputs": [],
   "source": [
    "def check_real_user(u_id, u_password):\n",
    "    cr.execute(\"SELECT user_id FROM users\")\n",
    "    fetched_user_ids = cr.fetchall()\n",
    "    if u_id in fetched_user_ids:\n",
    "        print(\"Welcome\")\n",
    "    else:\n",
    "        raise ValueError(\"No Such A User\")"
   ]
  },
  {
   "cell_type": "code",
   "execution_count": null,
   "metadata": {},
   "outputs": [],
   "source": [
    "my_user_id = int(input(\"Enter Your ID: \"))"
   ]
  },
  {
   "cell_type": "markdown",
   "metadata": {},
   "source": [
    "## <mark style=\"background-color: #1050D1; color: white; padding: 0 1rem;\">Input Message</mark>"
   ]
  },
  {
   "cell_type": "code",
   "execution_count": 2,
   "metadata": {},
   "outputs": [],
   "source": [
    "input_message = \"\"\"\n",
    "What Do You Want To Do?\n",
    "\"s\" => Show All Skills\n",
    "\"a\" => Add New Skill\n",
    "\"d\" => Delete A Skill\n",
    "\"u\" => Update Skill Progress\n",
    "\"q\" => Quit The App\n",
    "\n",
    "Choose Option: \n",
    "\"\"\""
   ]
  },
  {
   "cell_type": "markdown",
   "metadata": {},
   "source": [
    "## <mark style=\"background-color: #1050D1; color: white; padding: 0 1rem;\">Commands List</mark>"
   ]
  },
  {
   "cell_type": "code",
   "execution_count": 14,
   "metadata": {},
   "outputs": [],
   "source": [
    "commands_list = [\"s\", \"a\", \"d\", \"u\", \"q\"]"
   ]
  },
  {
   "cell_type": "markdown",
   "metadata": {},
   "source": [
    "## <mark style=\"background-color: #1050D1; color: white; padding: 0 1rem;\">Defining Methods</mark>"
   ]
  },
  {
   "cell_type": "code",
   "execution_count": 15,
   "metadata": {},
   "outputs": [],
   "source": [
    "def show_skills():\n",
    "    print(\"Show Skills\")\n",
    "    save_and_close()"
   ]
  },
  {
   "cell_type": "code",
   "execution_count": 16,
   "metadata": {},
   "outputs": [],
   "source": [
    "def add_skill():\n",
    "    print(\"Add Skill\")\n",
    "    save_and_close()"
   ]
  },
  {
   "cell_type": "code",
   "execution_count": 17,
   "metadata": {},
   "outputs": [],
   "source": [
    "def delete_skill():\n",
    "    print(\"Delete Skill\")\n",
    "    save_and_close()"
   ]
  },
  {
   "cell_type": "code",
   "execution_count": 18,
   "metadata": {},
   "outputs": [],
   "source": [
    "def update_skill():\n",
    "    print(\"Update Skill\")\n",
    "    save_and_close()"
   ]
  },
  {
   "cell_type": "markdown",
   "metadata": {},
   "source": [
    "## <mark style=\"background-color: #1050D1; color: white; padding: 0 1rem;\">Taking User's Input</mark>"
   ]
  },
  {
   "cell_type": "code",
   "execution_count": 13,
   "metadata": {},
   "outputs": [],
   "source": [
    "user_input = input(input_message).strip().lower()"
   ]
  },
  {
   "cell_type": "markdown",
   "metadata": {},
   "source": [
    "## <mark style=\"background-color: #1050D1; color: white; padding: 0 1rem;\">Check If Entered Command Exists</mark>"
   ]
  },
  {
   "cell_type": "code",
   "execution_count": 19,
   "metadata": {},
   "outputs": [
    {
     "name": "stdout",
     "output_type": "stream",
     "text": [
      "Show Skills\n"
     ]
    }
   ],
   "source": [
    "if user_input in commands_list:\n",
    "    if user_input == \"s\":\n",
    "        show_skills()\n",
    "    elif user_input == \"a\":\n",
    "        add_skill()\n",
    "    elif user_input == \"d\":\n",
    "        delete_skill()\n",
    "    elif user_input == \"u\":\n",
    "        update_skill()\n",
    "    else:\n",
    "        print(\"App Is Closed\")\n",
    "else:\n",
    "    raise ValueError(\"You should have chosen an existing command\")"
   ]
  },
  {
   "cell_type": "code",
   "execution_count": null,
   "metadata": {},
   "outputs": [],
   "source": [
    "db = sqlite3.connect(\"skills_app.db\")"
   ]
  }
 ],
 "metadata": {
  "interpreter": {
   "hash": "9e8db6161b2150caf6d1fd817285dce1668639c155397ae6ca85db6984ae428d"
  },
  "kernelspec": {
   "display_name": "Python 3.10.1 64-bit",
   "language": "python",
   "name": "python3"
  },
  "language_info": {
   "codemirror_mode": {
    "name": "ipython",
    "version": 3
   },
   "file_extension": ".py",
   "mimetype": "text/x-python",
   "name": "python",
   "nbconvert_exporter": "python",
   "pygments_lexer": "ipython3",
   "version": "3.10.1"
  },
  "orig_nbformat": 4
 },
 "nbformat": 4,
 "nbformat_minor": 2
}
