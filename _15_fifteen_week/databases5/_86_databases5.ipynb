{
 "cells": [
  {
   "cell_type": "markdown",
   "metadata": {},
   "source": [
    "# <mark style=\"background-color: cyan; padding: 0 1rem;\">Training on Everything</mark>"
   ]
  },
  {
   "cell_type": "code",
   "execution_count": 1,
   "metadata": {},
   "outputs": [],
   "source": [
    "import sqlite3"
   ]
  },
  {
   "cell_type": "code",
   "execution_count": 21,
   "metadata": {},
   "outputs": [],
   "source": [
    "db = sqlite3.connect(\"app.db\")"
   ]
  },
  {
   "cell_type": "code",
   "execution_count": 22,
   "metadata": {},
   "outputs": [],
   "source": [
    "cr = db.cursor()"
   ]
  },
  {
   "cell_type": "code",
   "execution_count": 23,
   "metadata": {},
   "outputs": [
    {
     "data": {
      "text/plain": [
       "<sqlite3.Cursor at 0x198fe5bb9c0>"
      ]
     },
     "execution_count": 23,
     "metadata": {},
     "output_type": "execute_result"
    }
   ],
   "source": [
    "cr.execute(\"CREATE TABLE IF NOT EXISTS users(user_id INTEGER, user_name TEXT)\")\n",
    "cr.execute(\"CREATE TABLE IF NOT EXISTS skills(skill_name TEXT, progress INTEGER, FOREIGN KEY(user_id) REFERENCES users(user_id))\")"
   ]
  },
  {
   "cell_type": "code",
   "execution_count": 24,
   "metadata": {},
   "outputs": [
    {
     "data": {
      "text/plain": [
       "<sqlite3.Cursor at 0x198fe5bb9c0>"
      ]
     },
     "execution_count": 24,
     "metadata": {},
     "output_type": "execute_result"
    }
   ],
   "source": [
    "cr.execute(\"INSERT INTO users(user_id, user_name) VALUES(1, 'Mustafa')\")\n",
    "cr.execute(\"INSERT INTO users(user_id, user_name) VALUES(2, 'Ahmed')\")\n",
    "cr.execute(\"INSERT INTO users(user_id, user_name) VALUES(3, 'Mohammed')\")"
   ]
  },
  {
   "cell_type": "code",
   "execution_count": 26,
   "metadata": {},
   "outputs": [],
   "source": [
    "db.commit()"
   ]
  },
  {
   "cell_type": "code",
   "execution_count": 27,
   "metadata": {},
   "outputs": [],
   "source": [
    "def get_all_data():\n",
    "    try:\n",
    "        # Connect To Database\n",
    "        db = sqlite3.connect(\"app.db\")\n",
    "        \n",
    "        # Print Success Message\n",
    "        print(\"Connect to databases successfully\")\n",
    "        \n",
    "        # Setting Up The Cursor\n",
    "        cr = db.cursor()\n",
    "        \n",
    "        # Fetch Data From Database\n",
    "        cr.execute(f\"SELECT * FROM users\")\n",
    "        \n",
    "        # Assign Data To Variable\n",
    "        results = cr.fetchall()\n",
    "        \n",
    "        # Print Number of Rows\n",
    "        print(f\"Database has {len(results)} Rows.\")\n",
    "        \n",
    "        # Printing a Message\n",
    "        print(\"Getting Results\")\n",
    "        \n",
    "        # Loop on Results\n",
    "        for row in results:\n",
    "            print(f\"User ID: {row[0]}\", end=\", \")\n",
    "            print(f\"User Name: {row[1]}\")\n",
    "        \n",
    "    except sqlite3.Error as er:\n",
    "        print(f\"Error Reading Data {er}\")\n",
    "    finally:\n",
    "        if db:\n",
    "            db.close()\n",
    "            print(\"Connection with the database is closed\")"
   ]
  },
  {
   "cell_type": "code",
   "execution_count": 28,
   "metadata": {},
   "outputs": [
    {
     "name": "stdout",
     "output_type": "stream",
     "text": [
      "Connect to databases successfully\n",
      "Database has 3 Rows.\n",
      "Getting Results\n",
      "User ID: 1, User Name: Mustafa\n",
      "User ID: 2, User Name: Ahmed\n",
      "User ID: 3, User Name: Mohammed\n",
      "Connection with the database is closed\n"
     ]
    }
   ],
   "source": [
    "get_all_data()"
   ]
  },
  {
   "cell_type": "code",
   "execution_count": 29,
   "metadata": {},
   "outputs": [],
   "source": [
    "db.close()"
   ]
  }
 ],
 "metadata": {
  "interpreter": {
   "hash": "9e8db6161b2150caf6d1fd817285dce1668639c155397ae6ca85db6984ae428d"
  },
  "kernelspec": {
   "display_name": "Python 3.10.1 64-bit",
   "language": "python",
   "name": "python3"
  },
  "language_info": {
   "codemirror_mode": {
    "name": "ipython",
    "version": 3
   },
   "file_extension": ".py",
   "mimetype": "text/x-python",
   "name": "python",
   "nbconvert_exporter": "python",
   "pygments_lexer": "ipython3",
   "version": "3.10.1"
  },
  "orig_nbformat": 4
 },
 "nbformat": 4,
 "nbformat_minor": 2
}
