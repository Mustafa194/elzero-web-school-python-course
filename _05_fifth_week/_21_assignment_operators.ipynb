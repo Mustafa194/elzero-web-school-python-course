{
 "cells": [
  {
   "cell_type": "markdown",
   "metadata": {},
   "source": [
    "# <mark style=\"background-color: cyan\">Assignment Operators</mark>"
   ]
  },
  {
   "cell_type": "markdown",
   "metadata": {},
   "source": [
    "## <mark style=\"background-color: #1050D1; color: white\">Assignment Operators Types</mark>"
   ]
  },
  {
   "cell_type": "markdown",
   "metadata": {},
   "source": [
    "1. ### &nbsp;&nbsp; <b style=\"font-size: 1rem\">=</b>\n",
    "2. ### &nbsp;&nbsp; <b style=\"font-size: 1rem\">+=</b>\n",
    "3. ### &nbsp;&nbsp; <b style=\"font-size: 1rem\">-=</b>\n",
    "4. ### &nbsp;&nbsp; <b style=\"font-size: 1rem\">*=</b>\n",
    "5. ### &nbsp;&nbsp; <b style=\"font-size: 1rem\">/=</b>\n",
    "6. ### &nbsp;&nbsp; <b style=\"font-size: 1rem\">**=</b>\n",
    "7. ### &nbsp;&nbsp; <b style=\"font-size: 1rem\">%=</b>\n",
    "8. ### &nbsp;&nbsp; <b style=\"font-size: 1rem\">//=</b>"
   ]
  },
  {
   "cell_type": "markdown",
   "metadata": {},
   "source": [
    "### Note: the syntax for the operators from 2 to 8\n",
    "* ### var1 = var1 [operator] var2\n",
    "* ### var1 [operator]= var2"
   ]
  },
  {
   "cell_type": "code",
   "execution_count": 8,
   "metadata": {},
   "outputs": [
    {
     "name": "stdout",
     "output_type": "stream",
     "text": [
      "30\n",
      "50\n"
     ]
    }
   ],
   "source": [
    "x = 10\n",
    "y = 20\n",
    "x = x + y\n",
    "print(x)\n",
    "y += x\n",
    "print(y)\n"
   ]
  }
 ],
 "metadata": {
  "interpreter": {
   "hash": "8fba8154b0252bca3907b3434358ffda4f5e7cfd4d68fde71816b37dc430d8ed"
  },
  "kernelspec": {
   "display_name": "Python 3.9.2 64-bit",
   "name": "python3"
  },
  "language_info": {
   "codemirror_mode": {
    "name": "ipython",
    "version": 3
   },
   "file_extension": ".py",
   "mimetype": "text/x-python",
   "name": "python",
   "nbconvert_exporter": "python",
   "pygments_lexer": "ipython3",
   "version": "3.9.2"
  },
  "orig_nbformat": 4
 },
 "nbformat": 4,
 "nbformat_minor": 2
}
