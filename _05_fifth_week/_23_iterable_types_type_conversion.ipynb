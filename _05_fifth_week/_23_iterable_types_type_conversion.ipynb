{
 "cells": [
  {
   "cell_type": "markdown",
   "source": [
    "# <mark style=\"background-color: cyan\">Iterable Types Type Conversion</mark>"
   ],
   "metadata": {}
  },
  {
   "cell_type": "markdown",
   "source": [
    "## <mark style=\"background-color: #1050D1; color: white\">Notes</mark>\r\n",
    "1. ### str(Object)\r\n",
    "2. ### list(Object)\r\n",
    "3. ### dict(Object)\r\n",
    "4. ### tuple(Object)\r\n",
    "5. ### set(object)"
   ],
   "metadata": {}
  },
  {
   "cell_type": "markdown",
   "source": [
    "## <mark style=\"background-color: #1050D1; color: white\">String Conversion</mark>"
   ],
   "metadata": {}
  },
  {
   "cell_type": "markdown",
   "source": [
    "### String can convert all data types"
   ],
   "metadata": {}
  },
  {
   "cell_type": "code",
   "execution_count": null,
   "source": [
    "print(str(1))\r\n",
    "print(str(1.3))\r\n",
    "print(str(True))\r\n",
    "print(str([1, 2, 3, 4, 5]))\r\n",
    "print(str((1, 2, 3, 4, 5)))\r\n",
    "print(str({1, 2, 3, 4, 5}))\r\n",
    "print(str({'name':'Mustafa'}))"
   ],
   "outputs": [],
   "metadata": {}
  },
  {
   "cell_type": "markdown",
   "source": [
    "### List, Tuple, Set can convert all iterable types (list, tuple, set, dict)\r\n",
    "### Note: (tuple, list, set) take just the dictionary's key when converting"
   ],
   "metadata": {}
  },
  {
   "cell_type": "markdown",
   "source": [
    "## <mark style=\"background-color: #1050D1; color: white\">Lists</mark>"
   ],
   "metadata": {}
  },
  {
   "cell_type": "code",
   "execution_count": null,
   "source": [
    "print(list('Mustafa'))\r\n",
    "print(list((1, 2, 3, 4, 5)))\r\n",
    "print(list({1, 2, 3, 4, 5}))\r\n",
    "print(list({'name': 'Mustafa'}))"
   ],
   "outputs": [],
   "metadata": {}
  },
  {
   "cell_type": "markdown",
   "source": [
    "## <mark style=\"background-color: #1050D1; color: white\">Tuples</mark>"
   ],
   "metadata": {}
  },
  {
   "cell_type": "code",
   "execution_count": null,
   "source": [
    "print(tuple([1, 2, 3, 4, 5]))\r\n",
    "print(tuple('Mustafa'))\r\n",
    "print(tuple({1, 2, 3, 4, 5}))\r\n",
    "print(tuple({'name': 'Mustafa'}))"
   ],
   "outputs": [],
   "metadata": {}
  },
  {
   "cell_type": "markdown",
   "source": [
    "## <mark style=\"background-color: #1050D1; color: white\">Sets</mark>"
   ],
   "metadata": {}
  },
  {
   "cell_type": "code",
   "execution_count": null,
   "source": [
    "print(set([1, 2, 3, 4, 5]))\r\n",
    "print(set((1, 2, 3, 4, 5)))\r\n",
    "print(set('Mustafa'))\r\n",
    "print(set({'name': 'Mustafa'}))"
   ],
   "outputs": [],
   "metadata": {}
  },
  {
   "cell_type": "markdown",
   "source": [
    "## <mark style=\"background-color: #1050D1; color: white\">Dictionaries</mark>"
   ],
   "metadata": {}
  },
  {
   "cell_type": "markdown",
   "source": [
    "### Note: dictionary takes nested tuples or nested lists when converting\r\n",
    "### Note: the nesting should be two dimensional"
   ],
   "metadata": {}
  },
  {
   "cell_type": "code",
   "execution_count": 27,
   "source": [
    "print(dict([['One', 1], ['Two', 2], ['Three', 3]]))\r\n",
    "print(dict((('A', 1), ('B', 2), ('C', 3))))\r\n"
   ],
   "outputs": [
    {
     "output_type": "stream",
     "name": "stdout",
     "text": [
      "{'One': 1, 'Two': 2, 'Three': 3}\n",
      "{'A': 1, 'B': 2, 'C': 3}\n"
     ]
    }
   ],
   "metadata": {}
  }
 ],
 "metadata": {
  "orig_nbformat": 4,
  "language_info": {
   "name": "python",
   "version": "3.9.2",
   "mimetype": "text/x-python",
   "codemirror_mode": {
    "name": "ipython",
    "version": 3
   },
   "pygments_lexer": "ipython3",
   "nbconvert_exporter": "python",
   "file_extension": ".py"
  },
  "kernelspec": {
   "name": "python3",
   "display_name": "Python 3.9.2 64-bit"
  },
  "interpreter": {
   "hash": "8fba8154b0252bca3907b3434358ffda4f5e7cfd4d68fde71816b37dc430d8ed"
  }
 },
 "nbformat": 4,
 "nbformat_minor": 2
}