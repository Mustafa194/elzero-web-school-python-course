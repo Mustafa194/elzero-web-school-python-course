{
 "cells": [
  {
   "cell_type": "markdown",
   "metadata": {},
   "source": [
    "# <mark style=\"background-color: cyan; padding: 0 1rem;\">File Handling</mark>"
   ]
  },
  {
   "cell_type": "markdown",
   "metadata": {},
   "source": [
    "## <mark style=\"background-color: #1050D1; color: white; padding: 0 1rem;\">Notes</mark>\n",
    "\n",
    "* ### \"a\" <mark style=\"padding: 0 0.5rem\">Append</mark> Open file for appending values, create file if not exists.\n",
    "* ### \"r\" <mark style=\"padding: 0 0.5rem\">Read</mark>[Default value] open file for read and give error if file does not exist.\n",
    "* ### \"w\" <mark style=\"padding: 0 0.5rem\">Write</mark> Open file for writing, create file if not exists.\n",
    "* ### \"x\" <mark style=\"padding: 0 0.5rem\">Create</mark> Create file, error if file exists"
   ]
  },
  {
   "cell_type": "markdown",
   "metadata": {},
   "source": [
    "### <mark style=\"padding: 0 1rem\">Note:</mark><br>Current Working Directory"
   ]
  },
  {
   "cell_type": "code",
   "execution_count": 1,
   "metadata": {},
   "outputs": [
    {
     "data": {
      "text/plain": [
       "<_io.TextIOWrapper name='mustafa.txt' mode='x' encoding='cp1252'>"
      ]
     },
     "execution_count": 1,
     "metadata": {},
     "output_type": "execute_result"
    }
   ],
   "source": [
    "open(\"mustafa.txt\", \"x\")"
   ]
  },
  {
   "cell_type": "markdown",
   "metadata": {},
   "source": [
    "## <mark style=\"background-color: #1050D1; color: white; padding: 0 1rem;\">OS Module</mark>"
   ]
  },
  {
   "cell_type": "markdown",
   "metadata": {},
   "source": [
    "### <mark style=\"background-color: #CD6354; color: white; padding: 0 1rem;\">Current Working Directory</mark>"
   ]
  },
  {
   "cell_type": "code",
   "execution_count": 2,
   "metadata": {},
   "outputs": [
    {
     "name": "stdout",
     "output_type": "stream",
     "text": [
      "d:\\VS code\\Python\\Elzero Web School\\elzero_web_school_course\\9_ninth_week\n"
     ]
    }
   ],
   "source": [
    "import os\n",
    "\n",
    "print(os.getcwd())"
   ]
  },
  {
   "cell_type": "markdown",
   "metadata": {},
   "source": [
    "### <mark style=\"background-color: #CD6354; color: white; padding: 0 1rem;\">Absolute Path</mark>"
   ]
  },
  {
   "cell_type": "code",
   "execution_count": 4,
   "metadata": {},
   "outputs": [
    {
     "name": "stdout",
     "output_type": "stream",
     "text": [
      "d:\\VS code\\Python\\Elzero Web School\\elzero_web_school_course\\9_ninth_week\n"
     ]
    }
   ],
   "source": [
    "print(os.path.abspath(__file__)))"
   ]
  },
  {
   "cell_type": "code",
   "execution_count": null,
   "metadata": {},
   "outputs": [],
   "source": []
  }
 ],
 "metadata": {
  "interpreter": {
   "hash": "8fba8154b0252bca3907b3434358ffda4f5e7cfd4d68fde71816b37dc430d8ed"
  },
  "kernelspec": {
   "display_name": "Python 3.9.2 64-bit",
   "name": "python3"
  },
  "language_info": {
   "codemirror_mode": {
    "name": "ipython",
    "version": 3
   },
   "file_extension": ".py",
   "mimetype": "text/x-python",
   "name": "python",
   "nbconvert_exporter": "python",
   "pygments_lexer": "ipython3",
   "version": "3.9.2"
  },
  "orig_nbformat": 4
 },
 "nbformat": 4,
 "nbformat_minor": 2
}
