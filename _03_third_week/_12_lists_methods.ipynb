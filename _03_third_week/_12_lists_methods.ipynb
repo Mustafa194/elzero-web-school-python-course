{
 "cells": [
  {
   "cell_type": "markdown",
   "metadata": {},
   "source": [
    "# <mark style=\"background-color: cyan\">Lists Methods</mark>"
   ]
  },
  {
   "cell_type": "markdown",
   "metadata": {},
   "source": [
    "## <mark style=\"background-color: #1050D1; color: white\">append(object)</mark>"
   ]
  },
  {
   "cell_type": "markdown",
   "metadata": {},
   "source": [
    "### This function adds a new element to the end of the list"
   ]
  },
  {
   "cell_type": "code",
   "execution_count": 125,
   "metadata": {},
   "outputs": [
    {
     "name": "stdout",
     "output_type": "stream",
     "text": [
      "['Gaith', 'Yousif', 'Nihad']\n"
     ]
    }
   ],
   "source": [
    "myFriends = [\"Gaith\", \"Yousif\", \"Nihad\"]\n",
    "print(myFriends)"
   ]
  },
  {
   "cell_type": "markdown",
   "metadata": {},
   "source": [
    "### We can append any object of any data type to the list"
   ]
  },
  {
   "cell_type": "code",
   "execution_count": 126,
   "metadata": {},
   "outputs": [
    {
     "name": "stdout",
     "output_type": "stream",
     "text": [
      "['Gaith', 'Yousif', 'Nihad', 'Mohammed', 1000, 155.38, True]\n"
     ]
    }
   ],
   "source": [
    "myFriends.append(\"Mohammed\")\n",
    "myFriends.append(1000)\n",
    "myFriends.append(155.38)\n",
    "myFriends.append(True)\n",
    "print(myFriends)"
   ]
  },
  {
   "cell_type": "markdown",
   "metadata": {},
   "source": [
    "### We can append lists to lists"
   ]
  },
  {
   "cell_type": "code",
   "execution_count": 127,
   "metadata": {},
   "outputs": [
    {
     "name": "stdout",
     "output_type": "stream",
     "text": [
      "['Gaith', 'Yousif', 'Nihad', 'Mohammed', 1000, 155.38, True, [1, 2, True, 'Hello']]\n",
      "['Gaith', 'Yousif', 'Nihad', 'Mohammed', 1000, 155.38, True, [1, 2, True, 'Hello'], ['Ahmed', 'Ismail', 'Abdulrahman']]\n"
     ]
    }
   ],
   "source": [
    "myList1 = ['Ahmed', \"Ismail\", \"Abdulrahman\"]\n",
    "myFriends.append([1, 2, True, 'Hello'])\n",
    "print(myFriends)\n",
    "\n",
    "myFriends.append(myList1)\n",
    "print(myFriends)"
   ]
  },
  {
   "cell_type": "markdown",
   "metadata": {},
   "source": [
    "### Note: when we append list to list the appended list will become <mark>one element</mark> of the original list"
   ]
  },
  {
   "cell_type": "code",
   "execution_count": 128,
   "metadata": {},
   "outputs": [
    {
     "name": "stdout",
     "output_type": "stream",
     "text": [
      "['Ahmed', 'Ismail', 'Abdulrahman']\n"
     ]
    }
   ],
   "source": [
    "print(myFriends[-1])"
   ]
  },
  {
   "cell_type": "markdown",
   "metadata": {},
   "source": [
    "### Note: if you want to access an element that exists in the appended list, do as shown below"
   ]
  },
  {
   "cell_type": "code",
   "execution_count": 129,
   "metadata": {},
   "outputs": [
    {
     "name": "stdout",
     "output_type": "stream",
     "text": [
      "Ismail\n",
      "o\n"
     ]
    }
   ],
   "source": [
    "print(myFriends[-1][1]) # prints \"Ismail\"\n",
    "print(myFriends[-2][-1][-1])"
   ]
  },
  {
   "cell_type": "markdown",
   "metadata": {},
   "source": [
    "## <mark style=\"background-color: #1050D1; color: white\">pop(index)</mark>"
   ]
  },
  {
   "cell_type": "markdown",
   "metadata": {},
   "source": [
    "### This method deletes an element from the list and return it, by default it deletes the last element but it accepts an index parameter to delete any element at any index"
   ]
  },
  {
   "cell_type": "code",
   "execution_count": 130,
   "metadata": {},
   "outputs": [
    {
     "name": "stdout",
     "output_type": "stream",
     "text": [
      "['Gaith', 'Yousif', 'Nihad', 'Mohammed', 1000, 155.38, True, [1, 2, True, 'Hello']]\n",
      "The Poped Element is: ['Ahmed', 'Ismail', 'Abdulrahman']\n",
      "['Yousif', 'Nihad', 'Mohammed', 1000, 155.38, True, [1, 2, True, 'Hello']]\n"
     ]
    }
   ],
   "source": [
    "myList1 = ['Gaith', 'Yousif', 'Nihad', 'Mohammed', 1000, 155.38, True, [1, 2, True, 'Hello'], ['Ahmed', 'Ismail', 'Abdulrahman']]\n",
    "popedElement = myList1.pop()\n",
    "print(myList1)\n",
    "print(f\"The Poped Element is: {popedElement}\")\n",
    "myList1.pop(0)\n",
    "print(myList1)"
   ]
  },
  {
   "cell_type": "markdown",
   "metadata": {},
   "source": [
    "## <mark style=\"background-color: #1050D1; color: white\">extend(iterableObject)</mark>"
   ]
  },
  {
   "cell_type": "markdown",
   "metadata": {},
   "source": [
    "### It separates the list elements and put them in one list and saves it to the original list (the list who called the method)"
   ]
  },
  {
   "cell_type": "code",
   "execution_count": 131,
   "metadata": {},
   "outputs": [
    {
     "name": "stdout",
     "output_type": "stream",
     "text": [
      "['Gaith', 'Yousif', 'Nihad', 'Mohammed', 'Ali', 'Ahmed']\n"
     ]
    }
   ],
   "source": [
    "myFriends = [\"Gaith\", \"Yousif\", \"Nihad\"]\n",
    "myFriends.extend(['Mohammed', 'Ali', 'Ahmed'])\n",
    "print(myFriends)"
   ]
  },
  {
   "cell_type": "markdown",
   "metadata": {},
   "source": [
    "## <mark style=\"background-color: #1050D1; color: white\">remove(object)</mark>"
   ]
  },
  {
   "cell_type": "markdown",
   "metadata": {},
   "source": [
    "### Removes an element from the end of the list"
   ]
  },
  {
   "cell_type": "code",
   "execution_count": 132,
   "metadata": {},
   "outputs": [
    {
     "name": "stdout",
     "output_type": "stream",
     "text": [
      "['Gaith', 'Yousif', 'Nihad', 'Mohammed', 'Ali']\n"
     ]
    }
   ],
   "source": [
    "myFriends.remove('Ahmed')\n",
    "print(myFriends)"
   ]
  },
  {
   "cell_type": "markdown",
   "metadata": {},
   "source": [
    "## <mark style=\"background-color: #1050D1; color: white\">sort()</mark>"
   ]
  },
  {
   "cell_type": "markdown",
   "metadata": {},
   "source": [
    "### Note:\n",
    "1. ### sort() or sort(reverse=False), sorts the element ascending order (A-Z)\n",
    "2. ### sort(reverse=True), sorts the elements in descending order (Z-A)"
   ]
  },
  {
   "cell_type": "markdown",
   "metadata": {},
   "source": [
    "### Note: The sort method can work only if the elements are mixed numbers and strings, so all the elements have to from the same type"
   ]
  },
  {
   "cell_type": "code",
   "execution_count": 133,
   "metadata": {},
   "outputs": [
    {
     "name": "stdout",
     "output_type": "stream",
     "text": [
      "[-100, -2, 1, 2, 2, 6, 10, 100]\n",
      "[-100, -2, 1, 2, 2, 6, 10, 100]\n",
      "[100, 10, 6, 2, 2, 1, -2, -100]\n"
     ]
    }
   ],
   "source": [
    "y = [1, 2, 100, 6, 10, -2, 2, -100]\n",
    "y.sort()\n",
    "print(y)\n",
    "y.sort(reverse=False)\n",
    "print(y)\n",
    "y.sort(reverse=True)\n",
    "print(y)"
   ]
  },
  {
   "cell_type": "code",
   "execution_count": 141,
   "metadata": {},
   "outputs": [
    {
     "name": "stdout",
     "output_type": "stream",
     "text": [
      "['Ahmed', 'Alaa', 'Ibrahim', 'Mohammed', 'Mustafa', 'Taha']\n",
      "['Taha', 'Mustafa', 'Mohammed', 'Ibrahim', 'Alaa', 'Ahmed']\n"
     ]
    }
   ],
   "source": [
    "x = [\"Ahmed\", \"Mustafa\", \"Mohammed\", \"Taha\", \"Ibrahim\", \"Alaa\"]\n",
    "x.sort()\n",
    "print(x)\n",
    "x.sort(reverse=True)\n",
    "print(x)"
   ]
  },
  {
   "cell_type": "markdown",
   "metadata": {},
   "source": [
    "## <mark style=\"background-color: #1050D1; color: white\">reverse()</mark>"
   ]
  },
  {
   "cell_type": "markdown",
   "metadata": {},
   "source": [
    "### Reverses the list elements even they are in mixed data types"
   ]
  },
  {
   "cell_type": "code",
   "execution_count": 142,
   "metadata": {},
   "outputs": [
    {
     "name": "stdout",
     "output_type": "stream",
     "text": [
      "[100, 'Mustafa', 100, 80, 9, 1, 10]\n",
      "[100, 'Mustafa', 10, 1, 9, 80, 100]\n"
     ]
    }
   ],
   "source": [
    "z = [10, 1, 9, 80, 100, \"Mustafa\", 100]\n",
    "z.reverse()\n",
    "print(z)\n",
    "z1 = z[2:]\n",
    "z1.reverse()\n",
    "z[2:] = z1\n",
    "print(z)"
   ]
  },
  {
   "cell_type": "markdown",
   "metadata": {},
   "source": [
    "## <mark style=\"background-color: #1050D1; color: white\">clear()</mark>"
   ]
  },
  {
   "cell_type": "code",
   "execution_count": 144,
   "metadata": {},
   "outputs": [
    {
     "name": "stdout",
     "output_type": "stream",
     "text": [
      "[]\n",
      "[]\n"
     ]
    }
   ],
   "source": [
    "a = [1, 2, 3, 4]\n",
    "a.clear()\n",
    "print(a)\n",
    "a = [1, 2, 3, 4]\n",
    "a = []\n",
    "print(a)"
   ]
  },
  {
   "cell_type": "markdown",
   "metadata": {},
   "source": [
    "## <mark style=\"background-color: #1050D1; color: white\">copy()</mark>"
   ]
  },
  {
   "cell_type": "markdown",
   "metadata": {},
   "source": [
    "### Takes a shallow copy of the list"
   ]
  },
  {
   "cell_type": "code",
   "execution_count": 137,
   "metadata": {},
   "outputs": [
    {
     "name": "stdout",
     "output_type": "stream",
     "text": [
      "[1, 2, 3, 4]\n",
      "[1, 2, 3, 4]\n",
      "[1, 2, 3, 4, 5]\n",
      "[1, 2, 3, 4]\n"
     ]
    }
   ],
   "source": [
    "a = [1, 2, 3, 4]\n",
    "b = a.copy()\n",
    "print(a) # main list\n",
    "print(b) # copied list\n",
    "a.append(5)\n",
    "print(a)\n",
    "print(b)"
   ]
  },
  {
   "cell_type": "markdown",
   "metadata": {},
   "source": [
    "## <mark style=\"background-color: #1050D1; color: white\">count(object)</mark>"
   ]
  },
  {
   "cell_type": "markdown",
   "metadata": {},
   "source": [
    "### Counts how many times an element is repeated in the list"
   ]
  },
  {
   "cell_type": "code",
   "execution_count": 138,
   "metadata": {},
   "outputs": [
    {
     "name": "stdout",
     "output_type": "stream",
     "text": [
      "3\n"
     ]
    }
   ],
   "source": [
    "d = [1, 3, 2, 2, 1, 3, 6, 0, 1, 2]\n",
    "print(d.count(1))"
   ]
  },
  {
   "cell_type": "markdown",
   "metadata": {},
   "source": [
    "## <mark style=\"background-color: #1050D1; color: white\">index(object, start, end)</mark>"
   ]
  },
  {
   "cell_type": "markdown",
   "metadata": {},
   "source": [
    "### Returns the index of the first identical element of the one you search for\n",
    "### The object parameter is compulsory to be given"
   ]
  },
  {
   "cell_type": "code",
   "execution_count": 139,
   "metadata": {},
   "outputs": [
    {
     "name": "stdout",
     "output_type": "stream",
     "text": [
      "3\n"
     ]
    }
   ],
   "source": [
    "e = [\"Mustafa\", \"Ahmed\", \"Mohammed\", \"Salih\", \"Gaith\", \"Yousif\", \"Alaa\", \"Abdulrahman\"]\n",
    "print(e.index('Salih'))"
   ]
  },
  {
   "cell_type": "markdown",
   "metadata": {},
   "source": [
    "## <mark style=\"background-color: #1050D1; color: white\">insert(index, object)</mark>"
   ]
  },
  {
   "cell_type": "markdown",
   "metadata": {},
   "source": [
    "### Inserts an element in any position of the list\n",
    "### Note: to insert at the last position write like this: <mark style=\"background-color: white\"><b>list.insert(len(list), value)</b></mark>"
   ]
  },
  {
   "cell_type": "code",
   "execution_count": 140,
   "metadata": {},
   "outputs": [
    {
     "name": "stdout",
     "output_type": "stream",
     "text": [
      "['Mustafa', 'Ahmed', 'Mohammed', 'Salih', 'Gaith', 'Yousif', 'Ali', 'Alaa', 'Abdulrahman']\n",
      "['Omer', 'Mustafa', 'Ahmed', 'Mohammed', 'Salih', 'Gaith', 'Yousif', 'Ali', 'Alaa', 'Abdulrahman']\n",
      "['Omer', 'Mustafa', 'Ahmed', 'Mohammed', 'Salih', 'Gaith', 'Yousif', 'Ali', 'Alaa', 'AbdAllah', 'Abdulrahman']\n",
      "['Omer', 'Mustafa', 'Ahmed', 'Mohammed', 'Salih', 'Gaith', 'Yousif', 'Ali', 'Alaa', 'AbdAllah', 'Abdulrahman', 'Younus']\n"
     ]
    }
   ],
   "source": [
    "e.insert(6, 'Ali')\n",
    "print(e)\n",
    "\n",
    "e.insert(0, 'Omer')\n",
    "print(e)\n",
    "\n",
    "e.insert(-1, 'AbdAllah')\n",
    "print(e)\n",
    "\n",
    "e.insert(len(e), \"Younus\")\n",
    "print(e)"
   ]
  },
  {
   "cell_type": "markdown",
   "metadata": {},
   "source": [
    "## Reference\n",
    "### <a href=\"https://www.python-ds.com/python-3-list-methods\">List Methods</a>"
   ]
  }
 ],
 "metadata": {
  "interpreter": {
   "hash": "8fba8154b0252bca3907b3434358ffda4f5e7cfd4d68fde71816b37dc430d8ed"
  },
  "kernelspec": {
   "display_name": "Python 3.9.2 64-bit",
   "name": "python3"
  },
  "language_info": {
   "codemirror_mode": {
    "name": "ipython",
    "version": 3
   },
   "file_extension": ".py",
   "mimetype": "text/x-python",
   "name": "python",
   "nbconvert_exporter": "python",
   "pygments_lexer": "ipython3",
   "version": "3.9.2"
  },
  "orig_nbformat": 4
 },
 "nbformat": 4,
 "nbformat_minor": 2
}
