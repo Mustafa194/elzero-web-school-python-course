{
 "cells": [
  {
   "cell_type": "markdown",
   "source": [
    "# <mark style=\"background-color: cyan\">Arithmetic Operators</mark>"
   ],
   "metadata": {}
  },
  {
   "cell_type": "markdown",
   "source": [
    "## <mark style=\"background-color: #1050D1; color: white\">Types of Arithmetic Operators</mark>\r\n",
    "* ### Addition + \r\n",
    "* ### Subtraction - \r\n",
    "* ### Multiplication * \r\n",
    "* ### Division / \r\n",
    "* ### Modulus % \r\n",
    "* ### Exponent **\r\n",
    "* ### Floor Division //"
   ],
   "metadata": {}
  },
  {
   "cell_type": "markdown",
   "source": [
    "### Note: the floor division divide the operands and floors the result"
   ],
   "metadata": {}
  }
 ],
 "metadata": {
  "orig_nbformat": 4,
  "language_info": {
   "name": "python"
  }
 },
 "nbformat": 4,
 "nbformat_minor": 2
}