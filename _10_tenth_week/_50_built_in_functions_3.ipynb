{
 "cells": [
  {
   "cell_type": "markdown",
   "metadata": {},
   "source": [
    "# <mark style=\"background-color: cyan; padding: 0 1rem;\">Filter Built-In Function</mark>"
   ]
  },
  {
   "cell_type": "markdown",
   "metadata": {},
   "source": [
    "## <mark style=\"background-color: #1050D1; color: white; padding: 0 1rem;\">Notes</mark>"
   ]
  },
  {
   "cell_type": "markdown",
   "metadata": {},
   "source": [
    "1. ### Filter take a function + iterator\n",
    "2. ### Filter run a function on every element\n",
    "3. ### The function can be pre-defined or lambda function\n",
    "4. ### Filter out all elements for which the function return true\n",
    "5. ### The function need to return boolean value\n",
    "6. ###  returns an iterator were the items are filtered through a function to test if the item is accepted or not"
   ]
  },
  {
   "cell_type": "markdown",
   "metadata": {},
   "source": [
    "### <mark style=\"padding: 0 1rem\">Note:</mark> the filter function only works with boolean values"
   ]
  },
  {
   "cell_type": "markdown",
   "metadata": {},
   "source": [
    "### <mark style=\"background-color: #CD6354; color: white; padding: 0 1rem;\">Example 1</mark>"
   ]
  },
  {
   "cell_type": "code",
   "execution_count": 1,
   "metadata": {},
   "outputs": [
    {
     "name": "stdout",
     "output_type": "stream",
     "text": [
      "22\n",
      "15\n",
      "100\n"
     ]
    }
   ],
   "source": [
    "def checkNum(num):\n",
    "    if num > 10:\n",
    "        return True\n",
    "\n",
    "myNumbers = [1, 10, 22, 15, 100, -2]\n",
    "\n",
    "for num in filter(checkNum, myNumbers):\n",
    "    print(num)"
   ]
  },
  {
   "cell_type": "markdown",
   "metadata": {},
   "source": [
    "### <mark style=\"background-color: #CD6354; color: white; padding: 0 1rem;\">Example 2</mark>"
   ]
  },
  {
   "cell_type": "code",
   "execution_count": 2,
   "metadata": {},
   "outputs": [
    {
     "name": "stdout",
     "output_type": "stream",
     "text": [
      "E\n",
      "F\n",
      "G\n",
      "H\n",
      "I\n"
     ]
    }
   ],
   "source": [
    "myList = ['A', 'B', 'C', 'D', 'E', 'F', 'G', 'H', 'I']\n",
    "\n",
    "for filteredChar in filter(lambda element: True if element >= 'E' else False, myList):\n",
    "    print(filteredChar)"
   ]
  },
  {
   "cell_type": "markdown",
   "metadata": {},
   "source": [
    "### <mark style=\"background-color: #CD6354; color: white; padding: 0 1rem;\">Example 3</mark>"
   ]
  },
  {
   "cell_type": "code",
   "execution_count": 3,
   "metadata": {},
   "outputs": [
    {
     "name": "stdout",
     "output_type": "stream",
     "text": [
      "Mustafa\n",
      "Mohammed\n",
      "Mohammed\n",
      "Maghdeed\n"
     ]
    }
   ],
   "source": [
    "def checkName(name, char):\n",
    "    return name.startswith(char)\n",
    "\n",
    "namesList = ['Mustafa', 'Ahmed', 'Mohammed', 'Gaith', 'Laith', 'Ghalib', 'Yousif', 'Rajaa', 'Yousif', 'Qadir', 'Mohammed', 'Maghdeed', 'Yousif', 'Solaiman']\n",
    "\n",
    "for name in filter(lambda n: True if checkName(n, 'M') else False, namesList):\n",
    "    print(name)"
   ]
  },
  {
   "cell_type": "code",
   "execution_count": 4,
   "metadata": {},
   "outputs": [
    {
     "name": "stdout",
     "output_type": "stream",
     "text": [
      "Yousif\n",
      "Yousif\n",
      "Yousif\n"
     ]
    }
   ],
   "source": [
    "for name in filter(lambda n: True if n.startswith('Y') else False, namesList):\n",
    "    print(name)"
   ]
  },
  {
   "cell_type": "code",
   "execution_count": 9,
   "metadata": {},
   "outputs": [
    {
     "name": "stdout",
     "output_type": "stream",
     "text": [
      "Qadir\n"
     ]
    }
   ],
   "source": [
    "subString = input('Enter a substring: ')\n",
    "for name in filter(lambda n: True if n.endswith(subString) else False, namesList):\n",
    "    print(name)"
   ]
  },
  {
   "cell_type": "markdown",
   "metadata": {},
   "source": [
    "### <mark style=\"background-color: #CD6354; color: white; padding: 0 1rem;\">Example 4</mark>"
   ]
  },
  {
   "cell_type": "markdown",
   "metadata": {},
   "source": [
    "* ### Create a function <mark style=\"padding: 0 1rem\">get_names</mark> that returns the names ends with the letter \"m\"\n",
    "* ### Use <mark style=\"padding: 0 1rem\">filter</mark> function to make the function do its job on all the elements in the given list\n",
    "* ### Create a <mark style=\"padding: 0 1rem\">name</mark> identifier and store the result of <mark style=\"padding: 0 1rem\">filter</mark>\n",
    "* ### Loop through all the elements to print all the names in the <mark style=\"padding: 0 1rem\">name</mark> list\n",
    "* ### Create a lambda function and use it instead of get_names"
   ]
  },
  {
   "cell_type": "code",
   "execution_count": 2,
   "metadata": {},
   "outputs": [
    {
     "name": "stdout",
     "output_type": "stream",
     "text": [
      "Wessam\n",
      "Essam\n"
     ]
    }
   ],
   "source": [
    "def names_end_with_m(myStr):\n",
    "    return myStr.endswith('m')\n",
    "\n",
    "friends_filter = [\"Osama\", \"Wessam\", \"Amal\", \"Essam\", \"Gamal\", \"Othman\"]\n",
    "\n",
    "for name in filter(names_end_with_m, friends_filter):\n",
    "    print(name)"
   ]
  },
  {
   "cell_type": "code",
   "execution_count": 3,
   "metadata": {},
   "outputs": [
    {
     "name": "stdout",
     "output_type": "stream",
     "text": [
      "Wessam\n",
      "Essam\n"
     ]
    }
   ],
   "source": [
    "for name in filter(lambda myStr: myStr.endswith('m'), friends_filter):\n",
    "    print(name)"
   ]
  }
 ],
 "metadata": {
  "interpreter": {
   "hash": "8fba8154b0252bca3907b3434358ffda4f5e7cfd4d68fde71816b37dc430d8ed"
  },
  "kernelspec": {
   "display_name": "Python 3.9.2 64-bit",
   "name": "python3"
  },
  "language_info": {
   "codemirror_mode": {
    "name": "ipython",
    "version": 3
   },
   "file_extension": ".py",
   "mimetype": "text/x-python",
   "name": "python",
   "nbconvert_exporter": "python",
   "pygments_lexer": "ipython3",
   "version": "3.9.2"
  },
  "orig_nbformat": 4
 },
 "nbformat": 4,
 "nbformat_minor": 2
}
