{
 "cells": [
  {
   "cell_type": "markdown",
   "metadata": {},
   "source": [
    "# <mark style=\"background-color: cyan; padding: 0 1rem;\">Built in Functions</mark>"
   ]
  },
  {
   "cell_type": "markdown",
   "metadata": {},
   "source": [
    "## <mark style=\"background-color: #1050D1; color: white; padding: 0 1rem;\">Notes:</mark>"
   ]
  },
  {
   "cell_type": "markdown",
   "metadata": {},
   "source": [
    "* ## all(iterableObject)\n",
    "\t* ### Checks if all the elements are True\n",
    "\t* ### False Values in Python: 0, empty iterable object, None, False\n",
    "\t* ### Note: Everything beside the above False values is True\n",
    "* ## any(iterableObject)\n",
    "\t* ### Checks if there is at least one element is true\n",
    "* ## bin()\n",
    "\t* ### Returns the binary value of an integer\n",
    "* ## id(Object)\n",
    "\t* ### Returns the memory address of the object in decimals"
   ]
  },
  {
   "cell_type": "markdown",
   "metadata": {},
   "source": [
    "## <mark style=\"background-color: #1050D1; color: white; padding: 0 1rem;\">all(iterableObject)</mark>"
   ]
  },
  {
   "cell_type": "code",
   "execution_count": 8,
   "metadata": {},
   "outputs": [
    {
     "name": "stdout",
     "output_type": "stream",
     "text": [
      "All the Elements in \"x\" list are True\n",
      "Not all the Elements in \"y\" are False\n"
     ]
    }
   ],
   "source": [
    "x = [1, 2, 3, 4]\n",
    "y = [0, 1, 2, 3]\n",
    "\n",
    "print('All the Elements in \"x\" list are True') if all(x) else print('Not all the Elements in \"x\" are False')\n",
    "\n",
    "print('All the Elements in \"y\" list are True') if all(y) else print('Not all the Elements in \"y\" are False')"
   ]
  },
  {
   "cell_type": "markdown",
   "metadata": {},
   "source": [
    "## <mark style=\"background-color: #1050D1; color: white; padding: 0 1rem;\">any(iterableObject)</mark>"
   ]
  },
  {
   "cell_type": "code",
   "execution_count": 12,
   "metadata": {},
   "outputs": [
    {
     "name": "stdout",
     "output_type": "stream",
     "text": [
      "There is no element in \"x\" is True\n",
      "There is at least one element in \"y\" list are True\n"
     ]
    }
   ],
   "source": [
    "x = [0, False, [], None]\n",
    "y = [0, 1, 2, 3]\n",
    "\n",
    "print('There is at least one element in \"x\" list are True') if any(x) else print('There is no element in \"x\" is True')\n",
    "\n",
    "print('There is at least one element in \"y\" list are True') if any(y) else print('There is no element in \"y\" is True')"
   ]
  },
  {
   "cell_type": "markdown",
   "metadata": {},
   "source": [
    "## <mark style=\"background-color: #1050D1; color: white; padding: 0 1rem;\">bin(intObject)</mark>"
   ]
  },
  {
   "cell_type": "code",
   "execution_count": 9,
   "metadata": {},
   "outputs": [
    {
     "name": "stdout",
     "output_type": "stream",
     "text": [
      "0b1111101000\n"
     ]
    }
   ],
   "source": [
    "print(bin(1000))"
   ]
  },
  {
   "cell_type": "markdown",
   "metadata": {},
   "source": [
    "## <mark style=\"background-color: #1050D1; color: white; padding: 0 1rem;\">id(object)</mark>"
   ]
  },
  {
   "cell_type": "code",
   "execution_count": 12,
   "metadata": {},
   "outputs": [
    {
     "name": "stdout",
     "output_type": "stream",
     "text": [
      "2121801172144\n",
      "2121818888512\n"
     ]
    }
   ],
   "source": [
    "x = 'hello'\n",
    "print(id(x))\n",
    "print(id([1]))"
   ]
  },
  {
   "cell_type": "markdown",
   "metadata": {},
   "source": [
    "## <mark style=\"background-color: #1050D1; color: white; padding: 0 1rem;\">Notes:</mark>"
   ]
  },
  {
   "cell_type": "markdown",
   "metadata": {},
   "source": [
    "* ## sum(iterableObject, start)\n",
    "\t* ### Returns the sum of an iterable object elements (must be numbers)\n",
    "\t* ### The <mark>start</mark> parameter is optional\n",
    "\t* ### The <mark>start</mark> parameter is to give a value when the the summation should start from\n",
    "* ## round(number, numberOfDigits)\n",
    "\t* ### Returns a floating point number that is a rounded version of the specified number, with the specified number of decimals\n",
    "\t* ### The default number of decimals is 0, meaning that the function will return the nearest integer\n",
    "\t* ### For rounding to the next integer number the value should pass the half\n",
    "\t* ### Example:\n",
    "\t\t* ### This won't be rounded round(16.500)\n",
    "\t\t* ### But this will be rounded round(16.501)\n",
    "\t* ### Note: The previous example happens when you round to between fraction parts\n",
    "\t* ### So, if you round between fraction parts and or between integer parts there won't be any problem\n",
    "\t* ### Example:\n",
    "\t\t* ### This will be rounded round(10.527, 2)\n",
    "\t* ### Note:\n",
    "\t\t* ### The positive integer values in the second parameter refers to the fraction part\n",
    "\t\t* ### The negative integer value in the second parameter refers to the integer part\n",
    "* ## range(start, end, steps)\n",
    "\t* ### The start is and steps parameters are optional because start's default value is 0 and steps default value is 1\n",
    "\t* ### The end parameter must be given\n",
    "\t* ### The end parameter exclude the value give such as if 10 is given the range is 0-9\n",
    "* ## print(object1, object2, object3, ..., separator=value, end=value)\n",
    "\t* ### Prints as many objects as it given to it\n",
    "\t* ### The default separator between the object is <mark>space</mark>\n",
    "\t* ### The <mark>sep</mark> attribute can change the separator type between the objects\n",
    "\t* ### The default end at is new line <mark>\\n</mark>\n",
    "\t* ### The <mark>end</mark> attribute can change the end of the print function"
   ]
  },
  {
   "cell_type": "markdown",
   "metadata": {},
   "source": [
    "## <mark style=\"background-color: #1050D1; color: white; padding: 0 1rem;\">sum(iterableObject, start)</mark>"
   ]
  },
  {
   "cell_type": "code",
   "execution_count": 13,
   "metadata": {},
   "outputs": [
    {
     "name": "stdout",
     "output_type": "stream",
     "text": [
      "28\n",
      "78\n"
     ]
    }
   ],
   "source": [
    "print(sum([1, 2, 3, 4, 5, 6, 7]))\n",
    "print(sum([1, 2, 3, 4, 5, 6, 7], 50))"
   ]
  },
  {
   "cell_type": "markdown",
   "metadata": {},
   "source": [
    "## <mark style=\"background-color: #1050D1; color: white; padding: 0 1rem;\">round(number, numberOfDigits)</mark>"
   ]
  },
  {
   "cell_type": "code",
   "execution_count": 18,
   "metadata": {},
   "outputs": [
    {
     "name": "stdout",
     "output_type": "stream",
     "text": [
      "1\n",
      "1.239\n",
      "16\n",
      "17\n",
      "120\n",
      "125.38\n"
     ]
    }
   ],
   "source": [
    "print(round(1.238743))\n",
    "print(round(1.238743, 3))\n",
    "print(round(16.500))\n",
    "print(round(16.501))\n",
    "print(round(125, -1))\n",
    "print(round(125.383, 2))"
   ]
  },
  {
   "cell_type": "markdown",
   "metadata": {},
   "source": [
    "## <mark style=\"background-color: #1050D1; color: white; padding: 0 1rem;\">range(start, end, steps)</mark>"
   ]
  },
  {
   "cell_type": "code",
   "execution_count": 23,
   "metadata": {},
   "outputs": [
    {
     "name": "stdout",
     "output_type": "stream",
     "text": [
      "[]\n",
      "[0, 1, 2, 3, 4, 5, 6, 7, 8, 9]\n",
      "[0, 2, 4, 6, 8, 10, 12, 14, 16, 18]\n"
     ]
    }
   ],
   "source": [
    "print(list(range(0))) # the start is zero and the given value is end, so it is zero too, then it will be an empty string\n",
    "print(list(range(10)))\n",
    "print(list(range(0, 20, 2)))"
   ]
  },
  {
   "cell_type": "markdown",
   "metadata": {},
   "source": [
    "## <mark style=\"background-color: #1050D1; color: white; padding: 0 1rem;\">print(object1, object2, object3, ..., separator=value, end=value)</mark>"
   ]
  },
  {
   "cell_type": "code",
   "execution_count": 26,
   "metadata": {},
   "outputs": [
    {
     "name": "stdout",
     "output_type": "stream",
     "text": [
      "Hello Mustafa how are you?\n",
      "Hello Mustafa how are you?\n"
     ]
    }
   ],
   "source": [
    "print('Hello Mustafa how are you?')\n",
    "print('Hello', 'Mustafa', 'how', 'are', 'you?')"
   ]
  },
  {
   "cell_type": "code",
   "execution_count": 27,
   "metadata": {},
   "outputs": [
    {
     "name": "stdout",
     "output_type": "stream",
     "text": [
      "Hello|Mustafa|how|are|you?\n",
      "HelloMustafahowareyou?\n",
      "Hello # Mustafa # how # are # you?\n"
     ]
    }
   ],
   "source": [
    "print('Hello', 'Mustafa', 'how', 'are', 'you?', sep='|')\n",
    "print('Hello', 'Mustafa', 'how', 'are', 'you?', sep='')\n",
    "print('Hello', 'Mustafa', 'how', 'are', 'you?', sep=' # ')"
   ]
  },
  {
   "cell_type": "code",
   "execution_count": 31,
   "metadata": {},
   "outputs": [
    {
     "name": "stdout",
     "output_type": "stream",
     "text": [
      "First Line\n",
      "hello world@\n",
      "Second LineThird Line----\n",
      "Fourth Line\n"
     ]
    }
   ],
   "source": [
    "print('First Line')\n",
    "print('hello', 'world', end='@\\n')\n",
    "print('Second Line', end=\"\")\n",
    "print('Third Line', end=\"----\\n\")\n",
    "print('Fourth Line')"
   ]
  },
  {
   "cell_type": "markdown",
   "metadata": {},
   "source": [
    "## <mark style=\"background-color: #1050D1; color: white; padding: 0 1rem;\">Notes:</mark>"
   ]
  },
  {
   "cell_type": "markdown",
   "metadata": {},
   "source": [
    "* ## abs(number)\n",
    "\t* ### Returns the absolute value of a given number\n",
    "* ## pow(base, exponent, mod)\n",
    "\t* ### Returns the power of a given number\n",
    "\t* ### The base and exponent parameters are must to be given\n",
    "\t* ### The mode is optional\n",
    "\t* ### When the mode is given the function returns the power of base to the exponent in divide it by the number in mode and returns the remainder of the division\n",
    "* ## min(item, item, item... or iterableObject)\n",
    "\t* ### Returns the minimum number of the given arguments\n",
    "* ## max(item, item, item... or iterableObject)\n",
    "\t* ### Returns the maximum number of the given arguments\n",
    "* ## slice(start, stop, steps)\n",
    "\t* ### Slices Iterable object\n",
    "\t* ### The <mark>stop</mark> parameter is must to be given\n",
    "\t* ### The start and end parameters are optional\n",
    "\t* ### The start parameter is set to zero by default\n",
    "\t* ### The steps parameter is set to 1 by default\n",
    "\t* ### Example:\n",
    "\t\t* ### myList = [1, 2, 3, 5, 4, 6, 7, 8, 9, 10]\n",
    "\t\t* ### print(myList[slice(3, 9, 2)]"
   ]
  },
  {
   "cell_type": "markdown",
   "metadata": {},
   "source": [
    "## <mark style=\"background-color: #1050D1; color: white; padding: 0 1rem;\">abs(number)</mark>"
   ]
  },
  {
   "cell_type": "code",
   "execution_count": 32,
   "metadata": {},
   "outputs": [
    {
     "name": "stdout",
     "output_type": "stream",
     "text": [
      "100\n",
      "100\n",
      "2.9\n",
      "2.9\n"
     ]
    }
   ],
   "source": [
    "print(abs(100))\n",
    "print(abs(-100))\n",
    "print(abs(2.9))\n",
    "print(abs(-2.9))"
   ]
  },
  {
   "cell_type": "markdown",
   "metadata": {},
   "source": [
    "## <mark style=\"background-color: #1050D1; color: white; padding: 0 1rem;\">pow(base, exponent, mod)</mark>"
   ]
  },
  {
   "cell_type": "code",
   "execution_count": 34,
   "metadata": {},
   "outputs": [
    {
     "name": "stdout",
     "output_type": "stream",
     "text": [
      "100\n",
      "32\n",
      "4096\n",
      "2\n"
     ]
    }
   ],
   "source": [
    "print(pow(10, 2))\n",
    "print(pow(2, 5))\n",
    "print(pow(2, 12))\n",
    "print(pow(5, 10, 7))"
   ]
  },
  {
   "cell_type": "markdown",
   "metadata": {},
   "source": [
    "## <mark style=\"background-color: #1050D1; color: white; padding: 0 1rem;\">min(item, item, item... or iterableObject)</mark>"
   ]
  },
  {
   "cell_type": "code",
   "execution_count": 36,
   "metadata": {},
   "outputs": [
    {
     "name": "stdout",
     "output_type": "stream",
     "text": [
      "1\n",
      "0\n",
      "29\n",
      "29\n",
      "29\n",
      "k1\n"
     ]
    }
   ],
   "source": [
    "print(min(1, 2, 3, 4, 5))\n",
    "print(min(83, 23, 29, 0, 92))\n",
    "print(min([89, 1983, 38, 29, 103]))\n",
    "print(min((89, 1983, 38, 29, 103)))\n",
    "print(min({89, 1983, 38, 29, 103}))"
   ]
  },
  {
   "cell_type": "code",
   "execution_count": 38,
   "metadata": {},
   "outputs": [
    {
     "name": "stdout",
     "output_type": "stream",
     "text": [
      "k1\n",
      "B\n",
      "Ahmed\n"
     ]
    }
   ],
   "source": [
    "print(min({'k1': 0, 'k2': -1, 'k3': 10}))\n",
    "print(min(('Z', 'B', 'C', 'D')))\n",
    "print(min(('Z', 'B', 'C', 'D', 'Ahmed')))"
   ]
  },
  {
   "cell_type": "markdown",
   "metadata": {},
   "source": [
    "## <mark style=\"background-color: #1050D1; color: white; padding: 0 1rem;\">max(item, item, item... or iterableObject)</mark>"
   ]
  },
  {
   "cell_type": "code",
   "execution_count": 37,
   "metadata": {},
   "outputs": [
    {
     "name": "stdout",
     "output_type": "stream",
     "text": [
      "5\n",
      "92\n",
      "1983\n",
      "1983\n",
      "1983\n",
      "k3\n"
     ]
    }
   ],
   "source": [
    "print(max(1, 2, 3, 4, 5))\n",
    "print(max(83, 23, 29, 0, 92))\n",
    "print(max([89, 1983, 38, 29, 103]))\n",
    "print(max((89, 1983, 38, 29, 103)))\n",
    "print(max({89, 1983, 38, 29, 103}))"
   ]
  },
  {
   "cell_type": "code",
   "execution_count": 40,
   "metadata": {},
   "outputs": [
    {
     "name": "stdout",
     "output_type": "stream",
     "text": [
      "k3\n",
      "Z\n",
      "Zahir\n"
     ]
    }
   ],
   "source": [
    "print(max({'k1': 0, 'k2': -1, 'k3': 10}))\n",
    "print(max(('Z', 'B', 'C', 'D')))\n",
    "print(max(('Z', 'B', 'C', 'D', 'Zahir')))"
   ]
  },
  {
   "cell_type": "markdown",
   "metadata": {},
   "source": [
    "## <mark style=\"background-color: #1050D1; color: white; padding: 0 1rem;\">slice(start, stop, steps)</mark>"
   ]
  },
  {
   "cell_type": "code",
   "execution_count": 44,
   "metadata": {},
   "outputs": [
    {
     "name": "stdout",
     "output_type": "stream",
     "text": [
      "['A', 'B', 'C', 1, 2.2, (3+5j), False, True, False, (1, 2, 3), {'A', 'B', 'C'}, {'k1': 1, 'k2': 'Mustafa', 'k3': {'k1k3': 'Hello World!'}}]\n"
     ]
    }
   ],
   "source": [
    "a = ['A', 'B', 'C', 1, 2.2, 3+5j, False, True, False, (1, 2, 3), {'A', 'B', 'C'}, {'k1':1, 'k2':'Mustafa', 'k3':{'k1k3':'Hello World!'}}]\n",
    "print(a)"
   ]
  },
  {
   "cell_type": "code",
   "execution_count": 46,
   "metadata": {},
   "outputs": [
    {
     "name": "stdout",
     "output_type": "stream",
     "text": [
      "['C', 1, 2.2]\n",
      "[(3+5j), True, (1, 2, 3)]\n",
      "[(3+5j), True, (1, 2, 3), {'k1': 1, 'k2': 'Mustafa', 'k3': {'k1k3': 'Hello World!'}}]\n"
     ]
    }
   ],
   "source": [
    "print(a[slice(2, 5)])\n",
    "print(a[slice(5, -1, 2)])\n",
    "print(a[slice(5, len(a), 2)])"
   ]
  }
 ],
 "metadata": {
  "interpreter": {
   "hash": "8fba8154b0252bca3907b3434358ffda4f5e7cfd4d68fde71816b37dc430d8ed"
  },
  "kernelspec": {
   "display_name": "Python 3.9.2 64-bit",
   "name": "python3"
  },
  "language_info": {
   "codemirror_mode": {
    "name": "ipython",
    "version": 3
   },
   "file_extension": ".py",
   "mimetype": "text/x-python",
   "name": "python",
   "nbconvert_exporter": "python",
   "pygments_lexer": "ipython3",
   "version": "3.9.2"
  },
  "orig_nbformat": 4
 },
 "nbformat": 4,
 "nbformat_minor": 2
}
