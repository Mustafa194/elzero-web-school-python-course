{
 "cells": [
  {
   "cell_type": "markdown",
   "metadata": {},
   "source": [
    "# <mark style=\"background-color: cyan; padding: 0 1rem;\">Reduce Function</mark>"
   ]
  },
  {
   "cell_type": "markdown",
   "metadata": {},
   "source": [
    "## <mark style=\"background-color: #1050D1; color: white; padding: 0 1rem;\">Notes</mark>"
   ]
  },
  {
   "cell_type": "markdown",
   "metadata": {},
   "source": [
    "1. ### Reduce take function + iterator\n",
    "2. ### Reduce run a function on first and second elements an give result\n",
    "3. ### Then run function on result and the third element\n",
    "4. ### Then run function on result and fourth element and so on\n",
    "5. ### Until one element is left and this is the result of the reduce\n",
    "6. ### The function can be pre-defined function or lambda function"
   ]
  },
  {
   "cell_type": "markdown",
   "metadata": {},
   "source": [
    "### <mark style=\"padding: 0 1rem\">The reduce function is roughly equivalent to:</mark>\n",
    "<code style=\"color: white; font-size: 1rem;\">\n",
    "\t<pre>\n",
    "def reduce(function, iterable, initializer=None):\n",
    "    it = iter(iterable)\n",
    "    if initializer is None:\n",
    "        value = next(it)\n",
    "    else:\n",
    "        value = initializer\n",
    "    for element in it:\n",
    "        value = function(value, element)\n",
    "    return value\n",
    "\t</pre>\n",
    "</code>"
   ]
  },
  {
   "cell_type": "code",
   "execution_count": 7,
   "metadata": {},
   "outputs": [
    {
     "name": "stdout",
     "output_type": "stream",
     "text": [
      "28\n"
     ]
    }
   ],
   "source": [
    "from functools import reduce\n",
    "\n",
    "def sumAll(num1, num2):\n",
    "    return num1 + num2\n",
    "\n",
    "print(reduce(sumAll, [1, 2, 3, 4, 5, 6, 7]))"
   ]
  },
  {
   "cell_type": "code",
   "execution_count": 13,
   "metadata": {},
   "outputs": [
    {
     "name": "stdout",
     "output_type": "stream",
     "text": [
      "28\n"
     ]
    }
   ],
   "source": [
    "print(reduce(lambda num1, num2: num1 + num2, [1, 2, 3, 4, 5, 6, 7]))"
   ]
  },
  {
   "cell_type": "markdown",
   "metadata": {},
   "source": [
    "### <mark style=\"background-color: #CD6354; color: white; padding: 0 1rem;\">Example 1</mark>"
   ]
  },
  {
   "cell_type": "code",
   "execution_count": 21,
   "metadata": {},
   "outputs": [
    {
     "name": "stdout",
     "output_type": "stream",
     "text": [
      "Maximum 2990\n"
     ]
    }
   ],
   "source": [
    "from random import shuffle\n",
    "\n",
    "li = [i for i in range(0, 3000, 10)]\n",
    "shuffle(li)\n",
    "\n",
    "maxLi = reduce(lambda x, y: x if x > y else y, li)\n",
    "print(f\"Maximum {maxLi}\")"
   ]
  },
  {
   "cell_type": "markdown",
   "metadata": {},
   "source": [
    "### <mark style=\"background-color: #CD6354; color: white; padding: 0 1rem;\">Example 2</mark>"
   ]
  },
  {
   "cell_type": "code",
   "execution_count": 2,
   "metadata": {},
   "outputs": [
    {
     "name": "stdout",
     "output_type": "stream",
     "text": [
      "96\n"
     ]
    }
   ],
   "source": [
    "from functools import reduce\n",
    "\n",
    "def mult(x, y):\n",
    "    return x * y\n",
    "\n",
    "print(reduce(mult, [2, 4, 6, 2]))"
   ]
  },
  {
   "cell_type": "code",
   "execution_count": 3,
   "metadata": {},
   "outputs": [
    {
     "name": "stdout",
     "output_type": "stream",
     "text": [
      "96\n"
     ]
    }
   ],
   "source": [
    "print(reduce(lambda x, y: x * y, [2, 4, 6, 2]))"
   ]
  }
 ],
 "metadata": {
  "interpreter": {
   "hash": "8fba8154b0252bca3907b3434358ffda4f5e7cfd4d68fde71816b37dc430d8ed"
  },
  "kernelspec": {
   "display_name": "Python 3.9.2 64-bit",
   "name": "python3"
  },
  "language_info": {
   "codemirror_mode": {
    "name": "ipython",
    "version": 3
   },
   "file_extension": ".py",
   "mimetype": "text/x-python",
   "name": "python",
   "nbconvert_exporter": "python",
   "pygments_lexer": "ipython3",
   "version": "3.9.2"
  },
  "orig_nbformat": 4
 },
 "nbformat": 4,
 "nbformat_minor": 2
}
