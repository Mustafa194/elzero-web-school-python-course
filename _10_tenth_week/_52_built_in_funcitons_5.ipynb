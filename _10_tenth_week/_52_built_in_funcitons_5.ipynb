{
 "cells": [
  {
   "cell_type": "markdown",
   "metadata": {},
   "source": [
    "# <mark style=\"background-color: cyan; padding: 0 1rem;\">Built-In Functions</mark>"
   ]
  },
  {
   "cell_type": "markdown",
   "metadata": {},
   "source": [
    "## <mark style=\"background-color: #1050D1; color: white; padding: 0 1rem;\">Notes</mark>"
   ]
  },
  {
   "cell_type": "markdown",
   "metadata": {},
   "source": [
    "* ### enumerate(iterable, start=0)\n",
    "\t* ### Adds a counter to the iterable object when looping it\n",
    "* ### help()\n",
    "* ### reversed(iterable)\n",
    "\t* ### Reverses the iterable object"
   ]
  },
  {
   "cell_type": "markdown",
   "metadata": {},
   "source": [
    "## <mark style=\"background-color: #1050D1; color: white; padding: 0 1rem;\">enumerate(iterable, start=0)</mark>"
   ]
  },
  {
   "cell_type": "code",
   "execution_count": 2,
   "metadata": {},
   "outputs": [
    {
     "name": "stdout",
     "output_type": "stream",
     "text": [
      "(0, 'Html')\n",
      "(1, 'Css')\n",
      "(2, 'JS')\n",
      "(3, 'Python')\n",
      "(4, 'C++')\n"
     ]
    }
   ],
   "source": [
    "mySkills = ['Html', 'Css', 'JS', 'Python', 'C++']\n",
    "\n",
    "for skill in enumerate(mySkills):\n",
    "    print(skill)"
   ]
  },
  {
   "cell_type": "code",
   "execution_count": 4,
   "metadata": {},
   "outputs": [],
   "source": [
    "mySkillsWithCounter = enumerate(mySkills, 10)"
   ]
  },
  {
   "cell_type": "code",
   "execution_count": 5,
   "metadata": {},
   "outputs": [
    {
     "name": "stdout",
     "output_type": "stream",
     "text": [
      "10. Html\n",
      "11. Css\n",
      "12. JS\n",
      "13. Python\n",
      "14. C++\n"
     ]
    }
   ],
   "source": [
    "for counterVar, skill in mySkillsWithCounter:\n",
    "    print(f\"{counterVar}. {skill}\")"
   ]
  },
  {
   "cell_type": "markdown",
   "metadata": {},
   "source": [
    "### <mark style=\"background-color: #CD6354; color: white; padding: 0 1rem;\">Example</mark>"
   ]
  },
  {
   "cell_type": "code",
   "execution_count": 15,
   "metadata": {},
   "outputs": [
    {
     "name": "stdout",
     "output_type": "stream",
     "text": [
      "50 - JavaScript\n",
      "52 - Python\n",
      "53 - PHP\n",
      "55 - CSS\n",
      "56 - HTML\n"
     ]
    }
   ],
   "source": [
    "skills = (\"HTML\", \"CSS\", 10, \"PHP\", \"Python\", 20, \"JavaScript\")\n",
    "\n",
    "for skill_count, skill_name in enumerate(reversed(skills), 50):\n",
    "    if type(skill_name) == str:\n",
    "        print(f\"{skill_count} - {skill_name}\")"
   ]
  },
  {
   "cell_type": "markdown",
   "metadata": {},
   "source": [
    "## <mark style=\"background-color: #1050D1; color: white; padding: 0 1rem;\">help()</mark>"
   ]
  },
  {
   "cell_type": "code",
   "execution_count": 18,
   "metadata": {},
   "outputs": [
    {
     "name": "stdout",
     "output_type": "stream",
     "text": [
      "\n",
      "Please wait a moment while I gather a list of all available modules...\n",
      "\n",
      "IPython             binascii            mmsystem            sympyprinting\n",
      "__future__          binhex              modulefinder        symtable\n",
      "_abc                bisect              msilib              sys\n",
      "_aix_support        builtins            msvcrt              sysconfig\n",
      "_ast                bz2                 multiprocessing     tabnanny\n",
      "_asyncio            cProfile            nest_asyncio        tarfile\n",
      "_bisect             calendar            netbios             telnetlib\n",
      "_blake2             cgi                 netrc               tempfile\n",
      "_bootlocale         cgitb               nntplib             test\n",
      "_bootsubprocess     chunk               normalizeForInterpreter testlauncher\n",
      "_bz2                cmath               normalizeSelection  tests\n",
      "_codecs             cmd                 nt                  textwrap\n",
      "_codecs_cn          code                ntpath              this\n",
      "_codecs_hk          codecs              ntsecuritycon       threading\n",
      "_codecs_iso2022     codeop              nturl2path          time\n",
      "_codecs_jp          collections         numbers             timeit\n",
      "_codecs_kr          colorama            numpy               timer\n",
      "_codecs_tw          colorsys            odbc                tkinter\n",
      "_collections        commctrl            opcode              token\n",
      "_collections_abc    compileall          operator            tokenize\n",
      "_compat_pickle      completion          optparse            toml\n",
      "_compression        concurrent          os                  tornado\n",
      "_contextvars        configparser        pandas              trace\n",
      "_csv                contextlib          parser              traceback\n",
      "_ctypes             contextvars         parso               tracemalloc\n",
      "_ctypes_test        copy                pathlib             traitlets\n",
      "_datetime           copyreg             pdb                 tty\n",
      "_decimal            crypt               perfmon             turtle\n",
      "_elementtree        csv                 pickle              turtledemo\n",
      "_functools          ctypes              pickleshare         types\n",
      "_hashlib            curses              pickletools         typing\n",
      "_heapq              cythonmagic         pip                 unicodedata\n",
      "_imp                dataclasses         pipes               unittest\n",
      "_io                 datetime            pkg_resources       urllib\n",
      "_json               dateutil            pkgutil             uu\n",
      "_locale             dbi                 platform            uuid\n",
      "_lsprof             dbm                 plistlib            venv\n",
      "_lzma               dde                 poplib              visualstudio_py_testlauncher\n",
      "_markupbase         debugpy             posixpath           vscode_datascience_helpers\n",
      "_md5                decimal             pprint              warnings\n",
      "_msi                decorator           printEnvVariables   wave\n",
      "_multibytecodec     difflib             printEnvVariablesToFile wcwidth\n",
      "_multiprocessing    dis                 profile             weakref\n",
      "_opcode             distutils           prompt_toolkit      webbrowser\n",
      "_operator           doctest             pstats              win2kras\n",
      "_osx_support        easy_install        pty                 win32api\n",
      "_overlapped         email               py_compile          win32clipboard\n",
      "_peg_parser         encodings           pyclbr              win32com\n",
      "_pickle             ensurepip           pycodestyle         win32con\n",
      "_py_abc             entrypoints         pydoc               win32console\n",
      "_pydecimal          enum                pydoc_data          win32cred\n",
      "_pyio               errno               pyexpat             win32crypt\n",
      "_queue              faulthandler        pygments            win32cryptcon\n",
      "_random             filecmp             pyls_jsonrpc        win32event\n",
      "_sha1               fileinput           pythoncom           win32evtlog\n",
      "_sha256             fnmatch             pytz                win32evtlogutil\n",
      "_sha3               formatter           pywin               win32file\n",
      "_sha512             fractions           pywin32_bootstrap   win32gui\n",
      "_signal             ftplib              pywin32_testutil    win32gui_struct\n",
      "_sitebuiltins       functools           pywintypes          win32help\n",
      "_socket             gc                  queue               win32inet\n",
      "_sqlite3            genericpath         quopri              win32inetcon\n",
      "_sre                getopt              random              win32job\n",
      "_ssl                getpass             rasutil             win32lz\n",
      "_stat               gettext             re                  win32net\n",
      "_statistics         glob                regcheck            win32netcon\n",
      "_string             graphlib            regutil             win32pdh\n",
      "_strptime           gzip                reprlib             win32pdhquery\n",
      "_struct             hashlib             rlcompleter         win32pdhutil\n",
      "_symtable           heapq               rmagic              win32pipe\n",
      "_testbuffer         hmac                runJediLanguageServer win32print\n",
      "_testcapi           html                runpy               win32process\n",
      "_testconsole        http                sched               win32profile\n",
      "_testimportmultiple idlelib             secrets             win32ras\n",
      "_testinternalcapi   imaplib             select              win32rcparser\n",
      "_testmultiphase     imghdr              selectors           win32security\n",
      "_thread             imp                 servicemanager      win32service\n",
      "_threading_local    importlib           setuptools          win32serviceutil\n",
      "_tkinter            inspect             shell_exec          win32timezone\n",
      "_tracemalloc        install_debugpy     shelve              win32trace\n",
      "_uuid               interpreterInfo     shlex               win32traceutil\n",
      "_warnings           io                  shutil              win32transaction\n",
      "_weakref            ipaddress           signal              win32ts\n",
      "_weakrefset         ipykernel           site                win32ui\n",
      "_win32sysloader     ipykernel_launcher  six                 win32uiole\n",
      "_winapi             ipython_genutils    smtpd               win32verstamp\n",
      "_winxptheme         isapi               smtplib             win32wnet\n",
      "_xxsubinterpreters  itertools           sndhdr              winerror\n",
      "_zoneinfo           jedi                socket              winioctlcon\n",
      "abc                 json                socketserver        winnt\n",
      "adodbapi            jupyter             sqlite3             winperf\n",
      "afxres              jupyter_client      sre_compile         winreg\n",
      "aifc                jupyter_core        sre_constants       winsound\n",
      "antigravity         keyword             sre_parse           winxpgui\n",
      "argparse            lib2to3             ssl                 winxptheme\n",
      "array               linecache           sspi                wsgiref\n",
      "ast                 locale              sspicon             xdrlib\n",
      "asynchat            logging             stat                xml\n",
      "asyncio             lzma                statistics          xmlrpc\n",
      "asyncore            mailbox             storemagic          xxsubtype\n",
      "atexit              mailcap             string              zipapp\n",
      "audioop             marshal             stringprep          zipfile\n",
      "autopep8            math                struct              zipimport\n",
      "autoreload          matplotlib_inline   subprocess          zlib\n",
      "backcall            mimetypes           sunau               zmq\n",
      "base64              mmap                symbol              zoneinfo\n",
      "bdb                 mmapfile            symbolProvider      \n",
      "\n",
      "Enter any module name to get more help.  Or, type \"modules spam\" to search\n",
      "for modules whose name or summary contain the string \"spam\".\n",
      "\n",
      "None\n"
     ]
    }
   ],
   "source": [
    "print(help(\"modules\")) # entering "
   ]
  },
  {
   "cell_type": "markdown",
   "metadata": {},
   "source": [
    "## <mark style=\"background-color: #1050D1; color: white; padding: 0 1rem;\">reversed(iterable)</mark>"
   ]
  },
  {
   "cell_type": "code",
   "execution_count": 19,
   "metadata": {},
   "outputs": [
    {
     "name": "stdout",
     "output_type": "stream",
     "text": [
      "['a', 'f', 'a', 't', 's', 'u', 'M']\n",
      "afatsuM\n"
     ]
    }
   ],
   "source": [
    "myString = 'Mustafa'\n",
    "print(list(reversed(myString)))\n",
    "\n",
    "print(''.join(reversed(myString)))"
   ]
  },
  {
   "cell_type": "markdown",
   "metadata": {},
   "source": [
    "## <mark style=\"background-color: #1050D1; color: white; padding: 0 1rem;\">Important Thing to Know</mark>"
   ]
  },
  {
   "cell_type": "markdown",
   "metadata": {},
   "source": [
    "### <mark style=\"padding: 0 1rem\">The tuple is not a reversible object</mark>"
   ]
  },
  {
   "cell_type": "code",
   "execution_count": null,
   "metadata": {},
   "outputs": [],
   "source": [
    "myTuple = (i for i in range(21))\n",
    "print(tuple(reversed(myTuple))) # error"
   ]
  },
  {
   "cell_type": "markdown",
   "metadata": {},
   "source": [
    "### <mark style=\"background-color: #CD6354; color: white; padding: 0 1rem;\">Example 1</mark>"
   ]
  },
  {
   "cell_type": "code",
   "execution_count": 20,
   "metadata": {},
   "outputs": [
    {
     "name": "stdout",
     "output_type": "stream",
     "text": [
      "['C++', 'Python', 'JS', 'Css', 'Html']\n"
     ]
    }
   ],
   "source": [
    "mySkills = ['Html', 'Css', 'JS', 'Python', 'C++']\n",
    "print(list(reversed(mySkills)))"
   ]
  },
  {
   "cell_type": "markdown",
   "metadata": {},
   "source": [
    "### <mark style=\"background-color: #CD6354; color: white; padding: 0 1rem;\">Example 2</mark>"
   ]
  },
  {
   "cell_type": "code",
   "execution_count": 30,
   "metadata": {},
   "outputs": [
    {
     "name": "stdout",
     "output_type": "stream",
     "text": [
      "{'k5': 125, 'k4': 64, 'k3': 27, 'k2': 8, 'k1': 1}\n"
     ]
    }
   ],
   "source": [
    "myDict = {f'k{i}':i**3 for i in range(1, 6)}\n",
    "print(dict(reversed(myDict.items())))"
   ]
  }
 ],
 "metadata": {
  "interpreter": {
   "hash": "8fba8154b0252bca3907b3434358ffda4f5e7cfd4d68fde71816b37dc430d8ed"
  },
  "kernelspec": {
   "display_name": "Python 3.9.2 64-bit",
   "name": "python3"
  },
  "language_info": {
   "codemirror_mode": {
    "name": "ipython",
    "version": 3
   },
   "file_extension": ".py",
   "mimetype": "text/x-python",
   "name": "python",
   "nbconvert_exporter": "python",
   "pygments_lexer": "ipython3",
   "version": "3.9.2"
  },
  "orig_nbformat": 4
 },
 "nbformat": 4,
 "nbformat_minor": 2
}
