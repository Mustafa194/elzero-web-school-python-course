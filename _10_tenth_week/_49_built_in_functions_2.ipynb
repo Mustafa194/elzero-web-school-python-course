{
 "cells": [
  {
   "cell_type": "markdown",
   "metadata": {},
   "source": [
    "# <mark style=\"background-color: cyan; padding: 0 1rem;\">Map Built-In Function</mark>"
   ]
  },
  {
   "cell_type": "markdown",
   "metadata": {},
   "source": [
    "## <mark style=\"background-color: #1050D1; color: white; padding: 0 1rem;\">Notes</mark>"
   ]
  },
  {
   "cell_type": "markdown",
   "metadata": {},
   "source": [
    "1. ### Map take a function + Iterator\n",
    "2. ### Map called like this because it maps the given function on every element in the iterator\n",
    "3. ### The function can be pre-defined function or lambda function"
   ]
  },
  {
   "cell_type": "markdown",
   "metadata": {},
   "source": [
    "### <mark style=\"padding: 0 1rem\">Mapping Using Pre-Defined Functions</mark>"
   ]
  },
  {
   "cell_type": "code",
   "execution_count": 3,
   "metadata": {},
   "outputs": [
    {
     "name": "stdout",
     "output_type": "stream",
     "text": [
      "- Mustafa -\n",
      "- Ahmed -\n",
      "- Mohammed -\n",
      "['- Mustafa -', '- Ahmed -', '- Mohammed -']\n"
     ]
    }
   ],
   "source": [
    "def formatText(text):\n",
    "    return f\"- {text.strip().capitalize()} -\"\n",
    "\n",
    "names = ['Mustafa', 'Ahmed', 'Mohammed']\n",
    "\n",
    "for formatedNames in map(formatText, names):\n",
    "    print(formatedNames)\n",
    "\n",
    "myFormatedNames = list(map(formatText, names))\n",
    "print(myFormatedNames)"
   ]
  },
  {
   "cell_type": "markdown",
   "metadata": {},
   "source": [
    "### <mark style=\"padding: 0 1rem\">Mapping Using Lambda Functions</mark>"
   ]
  },
  {
   "cell_type": "code",
   "execution_count": 6,
   "metadata": {},
   "outputs": [
    {
     "name": "stdout",
     "output_type": "stream",
     "text": [
      "- Mustafa -\n",
      "- Ahmed -\n",
      "- Mohammed -\n"
     ]
    }
   ],
   "source": [
    "for formatedNames in map(lambda text: f\"- {text.strip().capitalize()} -\", names):\n",
    "    print(formatedNames)"
   ]
  },
  {
   "cell_type": "markdown",
   "metadata": {},
   "source": [
    "### <mark style=\"background-color: #CD6354; color: white; padding: 0 1rem;\">Example</mark>"
   ]
  },
  {
   "cell_type": "markdown",
   "metadata": {},
   "source": [
    "* ### Create a function that removes the first and last character from a string\n",
    "* ### Use <mark style=\"padding: 0 1rem\">map</mark> to make this function do its job on the elements of <mark style=\"padding: 0 1rem\">friends_map</mark> list\n",
    "* ### Create <mark style=\"padding: 0 1rem\">cleaned_list</mark> identifier and store the result of the <mark style=\"padding: 0 1rem\">map</mark> function\n",
    "* ### Make a loop on the <mark style=\"padding: 0 1rem\">cleaned_list</mark> identifier to print all the existing names\n",
    "* ### After that create a <mark style=\"padding: 0 1rem\">lambda</mark> function instead of <mark style=\"padding: 0 1rem\">remove_chars</mark> function"
   ]
  },
  {
   "cell_type": "code",
   "execution_count": 1,
   "metadata": {},
   "outputs": [
    {
     "name": "stdout",
     "output_type": "stream",
     "text": [
      "Eman\n",
      "Ahmed\n",
      "Sameh\n",
      "Osama\n"
     ]
    }
   ],
   "source": [
    "def remove_chars(myStr:str):\n",
    "    return myStr[1:-1]\n",
    "\n",
    "friends_map = [\"AEmanS\", \"AAhmedS\", \"DSamehF\", \"LOsamaL\"]\n",
    "\n",
    "cleaned_list = map(remove_chars, friends_map)\n",
    "\n",
    "for cleaned_str in cleaned_list:\n",
    "    print(cleaned_str)"
   ]
  },
  {
   "cell_type": "code",
   "execution_count": 2,
   "metadata": {},
   "outputs": [
    {
     "name": "stdout",
     "output_type": "stream",
     "text": [
      "Eman\n",
      "Ahmed\n",
      "Sameh\n",
      "Osama\n"
     ]
    }
   ],
   "source": [
    "for cleaned_str in map(lambda myStr: myStr[1:-1], friends_map):\n",
    "\tprint(cleaned_str)"
   ]
  }
 ],
 "metadata": {
  "interpreter": {
   "hash": "8fba8154b0252bca3907b3434358ffda4f5e7cfd4d68fde71816b37dc430d8ed"
  },
  "kernelspec": {
   "display_name": "Python 3.9.2 64-bit",
   "name": "python3"
  },
  "language_info": {
   "codemirror_mode": {
    "name": "ipython",
    "version": 3
   },
   "file_extension": ".py",
   "mimetype": "text/x-python",
   "name": "python",
   "nbconvert_exporter": "python",
   "pygments_lexer": "ipython3",
   "version": "3.10.1"
  },
  "orig_nbformat": 4
 },
 "nbformat": 4,
 "nbformat_minor": 2
}
