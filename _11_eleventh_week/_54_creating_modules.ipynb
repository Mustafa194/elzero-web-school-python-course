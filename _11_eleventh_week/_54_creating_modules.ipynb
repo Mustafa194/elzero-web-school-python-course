{
 "cells": [
  {
   "cell_type": "markdown",
   "metadata": {},
   "source": [
    "# <mark style=\"background-color: cyan; padding: 0 1rem;\">Modules => Create your own Module</mark>"
   ]
  },
  {
   "cell_type": "markdown",
   "metadata": {},
   "source": [
    "## <mark style=\"background-color: #1050D1; color: white; padding: 0 1rem;\">Importing Your Own Module</mark>"
   ]
  },
  {
   "cell_type": "markdown",
   "metadata": {},
   "source": [
    "#### <mark style=\"padding: 0 1rem; font-size: 1.2rem; font-weight: normal; color: black;\"><i>1. Appending & and Deleting the file folder into system path<i></mark>"
   ]
  },
  {
   "cell_type": "code",
   "execution_count": 21,
   "metadata": {},
   "outputs": [
    {
     "name": "stdout",
     "output_type": "stream",
     "text": [
      "['d:\\\\VS code\\\\Python\\\\Elzero Web School\\\\elzero_web_school_course\\\\11_eleventh_week\\\\python_modules', 'c:\\\\Users\\\\mrmus\\\\.vscode\\\\extensions\\\\ms-toolsai.jupyter-2021.10.1101450599\\\\pythonFiles', 'c:\\\\Users\\\\mrmus\\\\.vscode\\\\extensions\\\\ms-toolsai.jupyter-2021.10.1101450599\\\\pythonFiles\\\\lib\\\\python', 'C:\\\\Users\\\\mrmus\\\\AppData\\\\Local\\\\Programs\\\\Python\\\\Python39\\\\python39.zip', 'C:\\\\Users\\\\mrmus\\\\AppData\\\\Local\\\\Programs\\\\Python\\\\Python39\\\\DLLs', 'C:\\\\Users\\\\mrmus\\\\AppData\\\\Local\\\\Programs\\\\Python\\\\Python39\\\\lib', 'C:\\\\Users\\\\mrmus\\\\AppData\\\\Local\\\\Programs\\\\Python\\\\Python39', '', 'C:\\\\Users\\\\mrmus\\\\AppData\\\\Roaming\\\\Python\\\\Python39\\\\site-packages', 'C:\\\\Users\\\\mrmus\\\\AppData\\\\Local\\\\Programs\\\\Python\\\\Python39\\\\lib\\\\site-packages', 'C:\\\\Users\\\\mrmus\\\\AppData\\\\Local\\\\Programs\\\\Python\\\\Python39\\\\lib\\\\site-packages\\\\win32', 'C:\\\\Users\\\\mrmus\\\\AppData\\\\Local\\\\Programs\\\\Python\\\\Python39\\\\lib\\\\site-packages\\\\win32\\\\lib', 'C:\\\\Users\\\\mrmus\\\\AppData\\\\Local\\\\Programs\\\\Python\\\\Python39\\\\lib\\\\site-packages\\\\Pythonwin', 'C:\\\\Users\\\\mrmus\\\\AppData\\\\Local\\\\Programs\\\\Python\\\\Python39\\\\lib\\\\site-packages\\\\IPython\\\\extensions', 'C:\\\\Users\\\\mrmus\\\\.ipython', 'D:\\\\VS code\\\\Python\\\\Elzero Web School\\\\elzero_web_school_course\\\\11_eleventh_week\\\\python_modules\\\\modules']\n"
     ]
    }
   ],
   "source": [
    "import sys\n",
    "sys.path.append(r\"D:\\VS code\\Python\\Elzero Web School\\elzero_web_school_course\\11_eleventh_week\\python_modules\\modules\")\n",
    "print(sys.path)"
   ]
  },
  {
   "cell_type": "code",
   "execution_count": 22,
   "metadata": {},
   "outputs": [
    {
     "name": "stdout",
     "output_type": "stream",
     "text": [
      "['d:\\\\VS code\\\\Python\\\\Elzero Web School\\\\elzero_web_school_course\\\\11_eleventh_week\\\\python_modules', 'c:\\\\Users\\\\mrmus\\\\.vscode\\\\extensions\\\\ms-toolsai.jupyter-2021.10.1101450599\\\\pythonFiles', 'c:\\\\Users\\\\mrmus\\\\.vscode\\\\extensions\\\\ms-toolsai.jupyter-2021.10.1101450599\\\\pythonFiles\\\\lib\\\\python', 'C:\\\\Users\\\\mrmus\\\\AppData\\\\Local\\\\Programs\\\\Python\\\\Python39\\\\python39.zip', 'C:\\\\Users\\\\mrmus\\\\AppData\\\\Local\\\\Programs\\\\Python\\\\Python39\\\\DLLs', 'C:\\\\Users\\\\mrmus\\\\AppData\\\\Local\\\\Programs\\\\Python\\\\Python39\\\\lib', 'C:\\\\Users\\\\mrmus\\\\AppData\\\\Local\\\\Programs\\\\Python\\\\Python39', '', 'C:\\\\Users\\\\mrmus\\\\AppData\\\\Roaming\\\\Python\\\\Python39\\\\site-packages', 'C:\\\\Users\\\\mrmus\\\\AppData\\\\Local\\\\Programs\\\\Python\\\\Python39\\\\lib\\\\site-packages', 'C:\\\\Users\\\\mrmus\\\\AppData\\\\Local\\\\Programs\\\\Python\\\\Python39\\\\lib\\\\site-packages\\\\win32', 'C:\\\\Users\\\\mrmus\\\\AppData\\\\Local\\\\Programs\\\\Python\\\\Python39\\\\lib\\\\site-packages\\\\win32\\\\lib', 'C:\\\\Users\\\\mrmus\\\\AppData\\\\Local\\\\Programs\\\\Python\\\\Python39\\\\lib\\\\site-packages\\\\Pythonwin', 'C:\\\\Users\\\\mrmus\\\\AppData\\\\Local\\\\Programs\\\\Python\\\\Python39\\\\lib\\\\site-packages\\\\IPython\\\\extensions', 'C:\\\\Users\\\\mrmus\\\\.ipython']\n"
     ]
    }
   ],
   "source": [
    "sys.path.pop(sys.path.index(r'D:\\VS code\\Python\\Elzero Web School\\elzero_web_school_course\\11_eleventh_week\\python_modules\\modules'))\n",
    "print(sys.path)"
   ]
  },
  {
   "cell_type": "markdown",
   "metadata": {},
   "source": [
    "#### <mark style=\"padding: 0 1rem; font-size: 1.2rem; font-weight: normal; color: black;\"><i>2. importing the file name<i></mark>"
   ]
  },
  {
   "cell_type": "code",
   "execution_count": 8,
   "metadata": {},
   "outputs": [
    {
     "name": "stdout",
     "output_type": "stream",
     "text": [
      "['__builtins__', '__cached__', '__doc__', '__file__', '__loader__', '__name__', '__package__', '__spec__', 'say_hello', 'say_how_are_you']\n"
     ]
    }
   ],
   "source": [
    "import mustafa\n",
    "print(dir(mustafa))"
   ]
  },
  {
   "cell_type": "markdown",
   "metadata": {},
   "source": [
    "#### <mark style=\"padding: 0 1rem; font-size: 1.2rem; font-weight: normal; color: black;\"><i>3. Using Module's Functions<i></mark>"
   ]
  },
  {
   "cell_type": "code",
   "execution_count": 9,
   "metadata": {},
   "outputs": [
    {
     "name": "stdout",
     "output_type": "stream",
     "text": [
      "Hello Mustafa\n"
     ]
    }
   ],
   "source": [
    "print(mustafa.say_hello('Mustafa'))"
   ]
  },
  {
   "cell_type": "markdown",
   "metadata": {},
   "source": [
    "#### <mark style=\"padding: 0 1rem; font-size: 1.2rem; font-weight: normal; color: black;\"><i>4. Creating Alias fro the module name<i></mark>"
   ]
  },
  {
   "cell_type": "code",
   "execution_count": 10,
   "metadata": {},
   "outputs": [
    {
     "name": "stdout",
     "output_type": "stream",
     "text": [
      "How are you Mustafa\n"
     ]
    }
   ],
   "source": [
    "import mustafa as mst\n",
    "print(mst.say_how_are_you('Mustafa'))"
   ]
  },
  {
   "cell_type": "markdown",
   "metadata": {},
   "source": [
    "#### <mark style=\"padding: 0 1rem; font-size: 1.2rem; font-weight: normal; color: black;\"><i>5. Importing a function from our module<i></mark>"
   ]
  },
  {
   "cell_type": "code",
   "execution_count": 24,
   "metadata": {},
   "outputs": [
    {
     "name": "stdout",
     "output_type": "stream",
     "text": [
      "Hello Mustafa\n"
     ]
    }
   ],
   "source": [
    "from mustafa import say_hello\n",
    "print(say_hello('Mustafa'))"
   ]
  },
  {
   "cell_type": "markdown",
   "metadata": {},
   "source": [
    "#### <mark style=\"padding: 0 1rem; font-size: 1.2rem; font-weight: normal; color: black;\"><i>6. Creating an Alias for the function name<i></mark>"
   ]
  },
  {
   "cell_type": "code",
   "execution_count": 27,
   "metadata": {},
   "outputs": [
    {
     "name": "stdout",
     "output_type": "stream",
     "text": [
      "How are you Mustafa\n"
     ]
    }
   ],
   "source": [
    "from mustafa import say_how_are_you as say_how\n",
    "print(say_how('Mustafa'))"
   ]
  }
 ],
 "metadata": {
  "interpreter": {
   "hash": "8fba8154b0252bca3907b3434358ffda4f5e7cfd4d68fde71816b37dc430d8ed"
  },
  "kernelspec": {
   "display_name": "Python 3.9.2 64-bit",
   "language": "python",
   "name": "python3"
  },
  "language_info": {
   "codemirror_mode": {
    "name": "ipython",
    "version": 3
   },
   "file_extension": ".py",
   "mimetype": "text/x-python",
   "name": "python",
   "nbconvert_exporter": "python",
   "pygments_lexer": "ipython3",
   "version": "3.9.2"
  },
  "orig_nbformat": 4
 },
 "nbformat": 4,
 "nbformat_minor": 2
}
