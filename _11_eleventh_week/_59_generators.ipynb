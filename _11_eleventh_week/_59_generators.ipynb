{
 "cells": [
  {
   "cell_type": "markdown",
   "metadata": {},
   "source": [
    "# <mark style=\"background-color: cyan; padding: 0 1rem;\">Generators</mark>"
   ]
  },
  {
   "cell_type": "markdown",
   "metadata": {},
   "source": [
    "<ol>\n",
    "\t<h3><li>It is a function with \"yield\" keyword instead of \"return\"</li></h3>\n",
    "\t<h3><li>It support iteration and return generator iterator by calling \"yield\"</li></h3>\n",
    "\t<h3><li>It can have more than one \"yield\"</li></h3>\n",
    "\t<h3><li>By using next() it resumes from where it called \"yield\" not from beginning</li></h3>\n",
    "\t<h3><li>When called, it does not start automatically, it only give you the control</li></h3>\n",
    "</ol>"
   ]
  },
  {
   "cell_type": "code",
   "execution_count": 4,
   "metadata": {},
   "outputs": [
    {
     "name": "stdout",
     "output_type": "stream",
     "text": [
      "<generator object my_generator at 0x0000024A2AFA6270>\n"
     ]
    }
   ],
   "source": [
    "def my_generator():\n",
    "    yield 1\n",
    "    yield 2\n",
    "    yield 3\n",
    "    yield 4\n",
    "\n",
    "print(my_generator())"
   ]
  },
  {
   "cell_type": "markdown",
   "metadata": {},
   "source": []
  },
  {
   "cell_type": "code",
   "execution_count": 9,
   "metadata": {},
   "outputs": [
    {
     "name": "stdout",
     "output_type": "stream",
     "text": [
      "1\n",
      "2\n",
      "3\n",
      "4\n"
     ]
    }
   ],
   "source": [
    "my_gen = my_generator()\n",
    "\n",
    "print(next(my_gen))\n",
    "print(next(my_gen))\n",
    "print(next(my_gen))\n",
    "print(next(my_gen))"
   ]
  },
  {
   "cell_type": "code",
   "execution_count": 11,
   "metadata": {},
   "outputs": [
    {
     "name": "stdout",
     "output_type": "stream",
     "text": [
      "1\n",
      "Hello World!\n",
      "2\n",
      "Hello World!\n",
      "3\n",
      "Hello World!\n",
      "4\n",
      "Hello World!\n"
     ]
    }
   ],
   "source": [
    "my_gen = my_generator()\n",
    "print(next(my_gen))\n",
    "print('Hello World!')\n",
    "print(next(my_gen))\n",
    "print('Hello World!')\n",
    "print(next(my_gen))\n",
    "print('Hello World!')\n",
    "print(next(my_gen))\n",
    "print('Hello World!')"
   ]
  },
  {
   "cell_type": "code",
   "execution_count": 16,
   "metadata": {},
   "outputs": [
    {
     "name": "stdout",
     "output_type": "stream",
     "text": [
      "1\n",
      "    Hello World!\n",
      "2\n",
      "    Hello World!\n",
      "3\n",
      "    Hello World!\n",
      "4\n",
      "    Hello World!\n"
     ]
    }
   ],
   "source": [
    "my_gen = my_generator()\n",
    "for n in my_gen:\n",
    "    print(f\"{n}\\n\\tHello World!\".expandtabs(4))"
   ]
  }
 ],
 "metadata": {
  "interpreter": {
   "hash": "8fba8154b0252bca3907b3434358ffda4f5e7cfd4d68fde71816b37dc430d8ed"
  },
  "kernelspec": {
   "display_name": "Python 3.9.2 64-bit",
   "language": "python",
   "name": "python3"
  },
  "language_info": {
   "codemirror_mode": {
    "name": "ipython",
    "version": 3
   },
   "file_extension": ".py",
   "mimetype": "text/x-python",
   "name": "python",
   "nbconvert_exporter": "python",
   "pygments_lexer": "ipython3",
   "version": "3.9.2"
  },
  "orig_nbformat": 4
 },
 "nbformat": 4,
 "nbformat_minor": 2
}
