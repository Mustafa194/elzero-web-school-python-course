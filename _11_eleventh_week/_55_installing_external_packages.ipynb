{
 "cells": [
  {
   "cell_type": "markdown",
   "metadata": {},
   "source": [
    "# <mark style=\"background-color: cyan; padding: 0 1rem;\">Installing External Packages</mark>"
   ]
  },
  {
   "cell_type": "markdown",
   "metadata": {},
   "source": [
    "## <mark style=\"background-color: #1050D1; color: white; padding: 0 1rem;\">Notes:</mark>"
   ]
  },
  {
   "cell_type": "markdown",
   "metadata": {},
   "source": [
    "<ol>\n",
    "\t<h4 style=\"font-weight: semi-bold;\"><li><i>Module & Package</i></li></h4>\n",
    "\t<h4 style=\"font-weight: semi-bold;\"><li><i>External packages download from the internet</i></li></h4>\n",
    "\t<h4 style=\"font-weight: semi-bold;\"><li><i>The packages can be installed using Python Package Manager PIP</i></li></h4>\n",
    "\t<h4 style=\"font-weight: semi-bold;\"><li><i>PIP install the package and its dependencies</i></li></h4>\n",
    "\t<h4 style=\"font-weight: semi-bold;\"><li><i><a href=\"https://docs.python.org/3/py-modindex.html\">Modules List</a></i></li></h4>\n",
    "\t<h4 style=\"font-weight: semi-bold;\"><li><i><a href=\"https://pypi.org/\">Packages and Modules Directory</a></i></li></h4>\n",
    "\t<h4 style=\"font-weight: semi-bold;\"><li><i><a href=\"https://pip.pypa.io/en/stable/reference/pip_install/\">PIP Manual</a></i></li></h4>\n",
    "</ol>"
   ]
  },
  {
   "cell_type": "markdown",
   "metadata": {},
   "source": [
    "## <mark style=\"background-color: #1050D1; color: white; padding: 0 1rem;\">pip version</mark>"
   ]
  },
  {
   "cell_type": "code",
   "execution_count": 1,
   "metadata": {},
   "outputs": [
    {
     "name": "stdout",
     "output_type": "stream",
     "text": [
      "pip 21.3.1 from C:\\Users\\mrmus\\AppData\\Local\\Programs\\Python\\Python39\\lib\\site-packages\\pip (python 3.9)\n",
      "\n",
      "Note: you may need to restart the kernel to use updated packages.\n"
     ]
    }
   ],
   "source": [
    "pip --version"
   ]
  },
  {
   "cell_type": "markdown",
   "metadata": {},
   "source": [
    "## <mark style=\"background-color: #1050D1; color: white; padding: 0 1rem;\">pip packages list</mark>"
   ]
  },
  {
   "cell_type": "code",
   "execution_count": 2,
   "metadata": {},
   "outputs": [
    {
     "name": "stdout",
     "output_type": "stream",
     "text": [
      "Package           Version\n",
      "----------------- ---------\n",
      "autopep8          1.5.7\n",
      "backcall          0.2.0\n",
      "colorama          0.4.4\n",
      "debugpy           1.4.3\n",
      "decorator         5.1.0\n",
      "entrypoints       0.3\n",
      "ipykernel         6.4.1\n",
      "ipython           7.27.0\n",
      "ipython-genutils  0.2.0\n",
      "jedi              0.18.0\n",
      "jupyter-client    7.0.3\n",
      "jupyter-core      4.8.1\n",
      "matplotlib-inline 0.1.3\n",
      "nest-asyncio      1.5.1\n",
      "numpy             1.21.3\n",
      "pandas            1.3.4\n",
      "parso             0.8.2\n",
      "pickleshare       0.7.5\n",
      "pip               21.3.1\n",
      "prompt-toolkit    3.0.20\n",
      "pycodestyle       2.7.0\n",
      "pyfiglet          0.8.post1\n",
      "Pygments          2.10.0\n",
      "python-dateutil   2.8.2\n",
      "pytz              2021.3\n",
      "pywin32           301Note: you may need to restart the kernel to use updated packages.\n",
      "pyzmq             22.3.0\n",
      "setuptools        49.2.1\n",
      "six               1.16.0\n",
      "termcolor         1.1.0\n",
      "toml              0.10.2\n",
      "tornado           6.1\n",
      "traitlets         5.1.0\n",
      "wcwidth           0.2.5\n",
      "\n"
     ]
    }
   ],
   "source": [
    "pip list"
   ]
  },
  {
   "cell_type": "markdown",
   "metadata": {},
   "source": [
    "## <mark style=\"background-color: #1050D1; color: white; padding: 0 1rem;\">Ways of Installing PIP</mark>"
   ]
  },
  {
   "cell_type": "markdown",
   "metadata": {},
   "source": [
    "<ol>\n",
    "\t<h3><li><pre>pip get-pip.py</pre></li></h3>\n",
    "\t<h3><li><pre>pip install pip</pre></li></h3>\n",
    "</ol>"
   ]
  },
  {
   "cell_type": "markdown",
   "metadata": {},
   "source": [
    "### <mark style=\"padding: 0 1rem\">Updating PIP Version in PC</mark>"
   ]
  },
  {
   "cell_type": "markdown",
   "metadata": {},
   "source": [
    "<h3><pre>python -m pip install -U pip</pre></h3>"
   ]
  },
  {
   "cell_type": "markdown",
   "metadata": {},
   "source": [
    "## <mark style=\"background-color: #1050D1; color: white; padding: 0 1rem;\">List of All Our Packages</mark>"
   ]
  },
  {
   "cell_type": "markdown",
   "metadata": {},
   "source": [
    "<h3><pre>pip list</pre></h3>"
   ]
  },
  {
   "cell_type": "markdown",
   "metadata": {},
   "source": [
    "<h3><pre>pip install <mark style=\"background-color: lightgreen; padding: 0 1rem;\">module_name</mark></pre></h3>"
   ]
  },
  {
   "cell_type": "markdown",
   "metadata": {},
   "source": [
    "## <mark style=\"background-color: #1050D1; color: white; padding: 0 1rem;\">Installing Some Packages</mark>"
   ]
  },
  {
   "cell_type": "markdown",
   "metadata": {},
   "source": [
    "<ol>\n",
    "<h2><li><mark style=\"padding: 0 1rem\">Syntax: </mark><pre>pip install module_name module_name ...</pre></li></h2>\n",
    "<h2><li><mark style=\"padding: 0 1rem\">Syntax of installing with version: </mark>\n",
    "\t<ol>\n",
    "\t\t<li><pre>pip install ### <mark style=\"padding: 0 1rem\">module_name==version_number module_name ...</mark></pre></li>\n",
    "\t\t<li><pre>pip install ### <mark style=\"padding: 0 1rem\">module_name>=version_number module_name ...</mark></pre></li>\n",
    "\t\t<li><pre>pip install ### <mark style=\"padding: 0 1rem\">module_name<=version_number module_name ...</mark></pre></li>\n",
    "\t</ol>\n",
    "</li></h2>\n",
    "<h2><li><mark style=\"padding: 0 1rem\">Example</mark>\n",
    "\t<ol>\n",
    "\t\t<li><pre>pip install termcolor</pre></li>\n",
    "\t\t<li><pre>pip install pyfiglet</pre></li>\n",
    "\t</ol>\n",
    "</li></h2>\n",
    "</ol>"
   ]
  },
  {
   "cell_type": "code",
   "execution_count": 3,
   "metadata": {},
   "outputs": [
    {
     "name": "stdout",
     "output_type": "stream",
     "text": [
      "Requirement already satisfied: termcolor in c:\\users\\mrmus\\appdata\\local\\programs\\python\\python39\\lib\\site-packages (1.1.0)\n",
      "Note: you may need to restart the kernel to use updated packages.\n"
     ]
    }
   ],
   "source": [
    "pip install termcolor"
   ]
  },
  {
   "cell_type": "code",
   "execution_count": 4,
   "metadata": {},
   "outputs": [
    {
     "name": "stdout",
     "output_type": "stream",
     "text": [
      "Requirement already satisfied: pyfiglet in c:\\users\\mrmus\\appdata\\local\\programs\\python\\python39\\lib\\site-packages (0.8.post1)\n",
      "Note: you may need to restart the kernel to use updated packages.\n"
     ]
    }
   ],
   "source": [
    "pip install pyfiglet"
   ]
  },
  {
   "cell_type": "markdown",
   "metadata": {},
   "source": [
    "## <mark style=\"background-color: #1050D1; color: white; padding: 0 1rem;\">Upgrading Modules</mark>"
   ]
  },
  {
   "cell_type": "markdown",
   "metadata": {},
   "source": [
    "<h3><pre>pip install module_name --upgrade </pre></h3>"
   ]
  },
  {
   "cell_type": "markdown",
   "metadata": {},
   "source": [
    "### <mark style=\"padding: 0 1rem\">Examples</mark>"
   ]
  },
  {
   "cell_type": "code",
   "execution_count": 5,
   "metadata": {},
   "outputs": [
    {
     "name": "stdout",
     "output_type": "stream",
     "text": [
      "Requirement already satisfied: pip in c:\\users\\mrmus\\appdata\\local\\programs\\python\\python39\\lib\\site-packages (21.3.1)\n",
      "Note: you may need to restart the kernel to use updated packages.\n"
     ]
    }
   ],
   "source": [
    "pip install pip --upgrade"
   ]
  },
  {
   "cell_type": "markdown",
   "metadata": {},
   "source": [
    "## <mark style=\"background-color: #1050D1; color: white; padding: 0 1rem;\">Importing Installed Packages</mark>"
   ]
  },
  {
   "cell_type": "code",
   "execution_count": 6,
   "metadata": {},
   "outputs": [],
   "source": [
    "import termcolor\n",
    "import pyfiglet"
   ]
  },
  {
   "cell_type": "code",
   "execution_count": 7,
   "metadata": {},
   "outputs": [
    {
     "name": "stdout",
     "output_type": "stream",
     "text": [
      "['COLOR_CODES', 'CharNotPrinted', 'DEFAULT_FONT', 'Figlet', 'FigletBuilder', 'FigletError', 'FigletFont', 'FigletProduct', 'FigletRenderingEngine', 'FigletString', 'FontError', 'FontNotFound', 'InvalidColor', 'OptionParser', 'RESET_COLORS', 'SHARED_DIRECTORY', '__author__', '__builtins__', '__cached__', '__copyright__', '__doc__', '__file__', '__loader__', '__name__', '__package__', '__path__', '__spec__', '__version__', 'color_to_ansi', 'figlet_format', 'main', 'os', 'parse_color', 'pkg_resources', 'print_figlet', 'print_function', 're', 'shutil', 'sys', 'unicode_literals', 'unicode_string', 'version', 'zipfile']\n"
     ]
    }
   ],
   "source": [
    "print(dir(pyfiglet))"
   ]
  },
  {
   "cell_type": "code",
   "execution_count": 8,
   "metadata": {},
   "outputs": [
    {
     "name": "stdout",
     "output_type": "stream",
     "text": [
      " __  __           _         __       \n",
      "|  \\/  |_   _ ___| |_ __ _ / _| __ _ \n",
      "| |\\/| | | | / __| __/ _` | |_ / _` |\n",
      "| |  | | |_| \\__ \\ || (_| |  _| (_| |\n",
      "|_|  |_|\\__,_|___/\\__\\__,_|_|  \\__,_|\n",
      "                                     \n",
      "\n"
     ]
    }
   ],
   "source": [
    "print(pyfiglet.figlet_format('Mustafa'))"
   ]
  },
  {
   "cell_type": "code",
   "execution_count": 15,
   "metadata": {},
   "outputs": [
    {
     "name": "stdout",
     "output_type": "stream",
     "text": [
      "\u001b[31mMustafa\u001b[0m\n"
     ]
    }
   ],
   "source": [
    "print(termcolor.colored(\"Mustafa\", 'red'))"
   ]
  },
  {
   "cell_type": "code",
   "execution_count": 22,
   "metadata": {},
   "outputs": [
    {
     "name": "stdout",
     "output_type": "stream",
     "text": [
      "\u001b[31m __  __           _         __       \n",
      "|  \\/  |_   _ ___| |_ __ _ / _| __ _ \n",
      "| |\\/| | | | / __| __/ _` | |_ / _` |\n",
      "| |  | | |_| \\__ \\ || (_| |  _| (_| |\n",
      "|_|  |_|\\__,_|___/\\__\\__,_|_|  \\__,_|\n",
      "                                     \n",
      "\u001b[0m\n"
     ]
    }
   ],
   "source": [
    "print(termcolor.colored(pyfiglet.figlet_format('Mustafa'), 'red'))"
   ]
  }
 ],
 "metadata": {
  "interpreter": {
   "hash": "8fba8154b0252bca3907b3434358ffda4f5e7cfd4d68fde71816b37dc430d8ed"
  },
  "kernelspec": {
   "display_name": "Python 3.9.2 64-bit",
   "language": "python",
   "name": "python3"
  },
  "language_info": {
   "codemirror_mode": {
    "name": "ipython",
    "version": 3
   },
   "file_extension": ".py",
   "mimetype": "text/x-python",
   "name": "python",
   "nbconvert_exporter": "python",
   "pygments_lexer": "ipython3",
   "version": "3.9.2"
  },
  "orig_nbformat": 4
 },
 "nbformat": 4,
 "nbformat_minor": 2
}
