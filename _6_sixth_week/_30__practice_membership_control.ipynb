{
 "cells": [
  {
   "cell_type": "markdown",
   "metadata": {},
   "source": [
    "# <mark style=\"background-color: cyan; padding: 0 1rem;\">Practical Membership Control</mark>"
   ]
  },
  {
   "cell_type": "markdown",
   "metadata": {},
   "source": [
    "### <mark style=\"padding: 0 1rem;\">Admins of Website</mark>"
   ]
  },
  {
   "cell_type": "code",
   "execution_count": 1,
   "metadata": {},
   "outputs": [],
   "source": [
    "admins = ['Mustafa', 'Mohanad', 'Ismail', 'Abdulrahman', 'Omer', 'Othman']\n",
    "password = '*A1D2M3I4N5S%'"
   ]
  },
  {
   "cell_type": "markdown",
   "metadata": {},
   "source": [
    "### <mark style=\"padding: 0 1rem;\">Log In</mark>"
   ]
  },
  {
   "cell_type": "code",
   "execution_count": 2,
   "metadata": {},
   "outputs": [],
   "source": [
    "name = input('Enter you name').strip().capitalize()"
   ]
  },
  {
   "cell_type": "markdown",
   "metadata": {},
   "source": [
    "### <mark style=\"padding: 0 1rem;\">If name in admin</mark>"
   ]
  },
  {
   "cell_type": "code",
   "execution_count": null,
   "metadata": {},
   "outputs": [],
   "source": [
    "if name in admins:\n",
    "    print(f'Hello {name}, welcome to admin\\'s panel')\n",
    "    option = input('Do you want to delete or update your name').strip().capitalize()\n",
    "    if option == 'update' or 'Update':\n",
    "        updatedName = input('Enter the new name').strip().capitalize()\n",
    "        admins[admins.index(name)] = updatedName\n",
    "        print('Name Updated.')\n",
    "        print(f'Admins: {admins}')\n",
    "    elif option == 'delete' or 'Delete':\n",
    "        admins.pop(admins.index(name))\n",
    "        print('Name Deleted.')\n",
    "        print('Log Out.')\n",
    "        print(f'Admins {admins}')\n",
    "    else:\n",
    "        print('Invalid Option')\n",
    "else:\n",
    "    yesList = [\"y\", \"Y\",\"yes\", \"Yes\"]\n",
    "    noList = ['n', 'N', 'no', 'No']\n",
    "    status = input('Not an Admin, Do you want to add youself to the admins panel?\\nWrite \"Yes\" or \"yes\" or \"Y\"  or \"y\" for yes\\n and write \"No\" or \"no\" or \"N\" or \"n\"').strip()\n",
    "    if status in yesList:\n",
    "        inputPassword = input('Enter the admin password')\n",
    "        if inputPassword == password:\n",
    "            admins.append(name)\n",
    "            print('Added to the admins')\n",
    "        else:\n",
    "            print('Wrong Password!')\n",
    "    elif status in noList:\n",
    "        print('You haven\\'t been added to the admins')\n",
    "        print('Welcome to User panel')\n",
    "    else:\n",
    "        print('Invalid Option')"
   ]
  }
 ],
 "metadata": {
  "interpreter": {
   "hash": "8fba8154b0252bca3907b3434358ffda4f5e7cfd4d68fde71816b37dc430d8ed"
  },
  "kernelspec": {
   "display_name": "Python 3.9.2 64-bit",
   "name": "python3"
  },
  "language_info": {
   "codemirror_mode": {
    "name": "ipython",
    "version": 3
   },
   "file_extension": ".py",
   "mimetype": "text/x-python",
   "name": "python",
   "nbconvert_exporter": "python",
   "pygments_lexer": "ipython3",
   "version": "3.9.2"
  },
  "orig_nbformat": 4
 },
 "nbformat": 4,
 "nbformat_minor": 2
}
