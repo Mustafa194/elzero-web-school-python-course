{
 "cells": [
  {
   "cell_type": "markdown",
   "metadata": {},
   "source": [
    "# <mark style=\"background-color: cyan\">Ternary (Conditional) Operator</mark>"
   ]
  },
  {
   "cell_type": "code",
   "execution_count": 11,
   "metadata": {},
   "outputs": [
    {
     "name": "stdout",
     "output_type": "stream",
     "text": [
      "The weather in Iraq is 45\n"
     ]
    }
   ],
   "source": [
    "country = 'Iraq'\n",
    "if country == 'Iraq': weather = 45\n",
    "elif country == 'Egypt': weather == 38\n",
    "else: weather = 'Unknown Region'\n",
    "\n",
    "print(f'The weather in {country} is {weather}')\n"
   ]
  },
  {
   "cell_type": "code",
   "execution_count": 12,
   "metadata": {},
   "outputs": [
    {
     "name": "stdout",
     "output_type": "stream",
     "text": [
      "The weather in Iraq is 45\n"
     ]
    }
   ],
   "source": [
    "country = 'Iraq'\n",
    "if country == 'Iraq':\n",
    "    weather = 45\n",
    "elif country == 'Egypt':\n",
    "    weather == 38\n",
    "else:\n",
    "    weather = 'Unknown Region'\n",
    "\n",
    "print(f'The weather in {country} is {weather}')"
   ]
  },
  {
   "cell_type": "markdown",
   "metadata": {},
   "source": [
    "## <mark style=\"background-color: #1050D1; color: white\">Short if</mark>"
   ]
  },
  {
   "cell_type": "code",
   "execution_count": 13,
   "metadata": {},
   "outputs": [
    {
     "name": "stdout",
     "output_type": "stream",
     "text": [
      "You are not allowed to watch the movie\n",
      "You are not allowed to watch the movie\n"
     ]
    }
   ],
   "source": [
    "movieRate = 18\n",
    "age = 16\n",
    "\n",
    "if age < movieRate:\n",
    "    print('You are not allowed to watch the movie')\n",
    "else:\n",
    "    print('You are old enough to watch the movie')\n",
    "\n",
    "print('You are not allowed to watch the movie' if age <\n",
    "    movieRate else 'You ae old enough to watch the movie')\n"
   ]
  },
  {
   "cell_type": "markdown",
   "metadata": {},
   "source": [
    "## <mark style=\"background-color: #1050D1; color: white\">Syntax</mark>"
   ]
  },
  {
   "cell_type": "markdown",
   "metadata": {},
   "source": [
    "### True Case + if + condition + else + False Case "
   ]
  }
 ],
 "metadata": {
  "interpreter": {
   "hash": "8fba8154b0252bca3907b3434358ffda4f5e7cfd4d68fde71816b37dc430d8ed"
  },
  "kernelspec": {
   "display_name": "Python 3.9.2 64-bit",
   "name": "python3"
  },
  "language_info": {
   "codemirror_mode": {
    "name": "ipython",
    "version": 3
   },
   "file_extension": ".py",
   "mimetype": "text/x-python",
   "name": "python",
   "nbconvert_exporter": "python",
   "pygments_lexer": "ipython3",
   "version": "3.9.2"
  },
  "orig_nbformat": 4
 },
 "nbformat": 4,
 "nbformat_minor": 2
}
