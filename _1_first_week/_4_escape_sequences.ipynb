{
 "cells": [
  {
   "cell_type": "markdown",
   "metadata": {},
   "source": [
    "# <mark style=\"background-color: cyan\">Escape Sequences</mark>"
   ]
  },
  {
   "cell_type": "markdown",
   "metadata": {},
   "source": [
    "## <mark style=\"background-color: #1050D1; color: white\">Note: '\\\\' this character is called escape character</mark>"
   ]
  },
  {
   "cell_type": "markdown",
   "metadata": {},
   "source": [
    "## <mark style=\"background-color: #1050D1; color: white\">Types of Escaping Sequences</mark>\n",
    "1. ### Back space: \\b\n",
    "2. ### Escaping new line: \\newline\n",
    "3. ### Escaping back slash: \\\\\n",
    "4. ### Escape single quote: \\'\n",
    "5. ### Escape double quotes: \\\"\n",
    "6. ### Line feed character: \\n\n",
    "7. ### Carriage return: \\r\n",
    "8. ### Horizontal tab: \\t\n",
    "9. ### Character's hex value: \\xvalue"
   ]
  },
  {
   "cell_type": "code",
   "execution_count": 1,
   "metadata": {},
   "outputs": [
    {
     "name": "stdout",
     "output_type": "stream",
     "text": [
      "Back space:  Hell World!\n",
      "Hello   I love     programming\n",
      "My birthday was on 5\\22\\2001\n",
      "I love single quote 'Test'\n",
      "I love double quote \"Test\"\n",
      "Hello\n",
      "World!\n",
      "ABCD\n",
      "Hello\tWorld!\n",
      "Os\n"
     ]
    }
   ],
   "source": [
    "# [1] back Space\n",
    "print(\"Back space: \", \"Hello\\b World!\")  # will remove 'o' from the string\n",
    "\n",
    "# [2] escaping new line\n",
    "print('Hello \\\n",
    "  I love \\\n",
    "    programming')  # it'll be printed as showed here: \"Hello I love programming\"\n",
    "\n",
    "print('dkkkkkkkkkkkkkkkkkkkkkkkkkkkkkkkkkkkkkkkkkkkkkkkkkkkkkkkkkkk\\\n",
    "kkkkkkkkkkkkkkkkkkkkkkkkkkkkkkkkkkkkkkkkkkkkkkkkkkkkk\\\n",
    "kkkkkkkkkkkkkkkkkkkkkkkkkkkkkkkkkkkkkkkkkkkkkkkkkkkkkkkkkkkkkk')\n",
    "\n",
    "# [3] escape back slash\n",
    "print('My birthday was on 5\\\\22\\\\2001') # it will print \"My birthday was on 5\\22\\2001\"\n",
    "\n",
    "# [4] escape single quote\n",
    "print('I love single quote \\'Test\\'')\n",
    "\n",
    "# [5] escape double quotes\n",
    "print(\"I love double quote \\\"Test\\\"\")\n",
    "\n",
    "# [6] line feed character (newline character)\n",
    "print('Hello\\nWorld!')\n",
    "\n",
    "# [7] carriage return\n",
    "print('123456\\rABCD')\n",
    "\n",
    "# [8] horizontal tab\n",
    "print('Hello\\tWorld!')\n",
    "\n",
    "# [9] character's hexadecimal value\n",
    "print('\\x4F\\x73')"
   ]
  }
 ],
 "metadata": {
  "interpreter": {
   "hash": "8fba8154b0252bca3907b3434358ffda4f5e7cfd4d68fde71816b37dc430d8ed"
  },
  "kernelspec": {
   "display_name": "Python 3.9.2 64-bit",
   "name": "python3"
  },
  "language_info": {
   "codemirror_mode": {
    "name": "ipython",
    "version": 3
   },
   "file_extension": ".py",
   "mimetype": "text/x-python",
   "name": "python",
   "nbconvert_exporter": "python",
   "pygments_lexer": "ipython3",
   "version": "3.9.2"
  },
  "orig_nbformat": 4
 },
 "nbformat": 4,
 "nbformat_minor": 2
}
