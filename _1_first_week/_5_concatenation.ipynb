{
 "cells": [
  {
   "cell_type": "markdown",
   "metadata": {},
   "source": [
    "# <mark style=\"background-color: cyan\">Concatenation of Strings</mark>"
   ]
  },
  {
   "cell_type": "markdown",
   "metadata": {},
   "source": [
    "## <mark style=\"background-color: #1050D1; color: white\">Note: the '+' operator is used to concatenate strings</mark>"
   ]
  },
  {
   "cell_type": "code",
   "execution_count": 2,
   "metadata": {},
   "outputs": [
    {
     "name": "stdout",
     "output_type": "stream",
     "text": [
      "I love Python\n",
      "First \n",
      "   Second \n",
      "     Third A \n",
      "   B\n",
      "     C\n"
     ]
    }
   ],
   "source": [
    "msg = \"I love\"\n",
    "lang = \"Python\"\n",
    "\n",
    "print(msg + ' ' + lang)  # prints \"I love Python\"\n",
    "\n",
    "full = msg + ' ' + lang  # contains the value \"I love Python\"\n",
    "\n",
    "a = \"First \\n \\\n",
    "  Second \\n \\\n",
    "    Third\"\n",
    "\n",
    "b = \"A \\n \\\n",
    "  B\\n \\\n",
    "    C\"\n",
    "\n",
    "print(a + ' ' + b)"
   ]
  },
  {
   "cell_type": "code",
   "execution_count": 3,
   "metadata": {},
   "outputs": [
    {
     "name": "stdout",
     "output_type": "stream",
     "text": [
      "Mustafa Ahmed\n"
     ]
    }
   ],
   "source": [
    "firstName = 'Mustafa'\n",
    "lastName = 'Ahmed'\n",
    "print(firstName + ' ' + lastName)"
   ]
  }
 ],
 "metadata": {
  "interpreter": {
   "hash": "8fba8154b0252bca3907b3434358ffda4f5e7cfd4d68fde71816b37dc430d8ed"
  },
  "kernelspec": {
   "display_name": "Python 3.9.2 64-bit",
   "name": "python3"
  },
  "language_info": {
   "codemirror_mode": {
    "name": "ipython",
    "version": 3
   },
   "file_extension": ".py",
   "mimetype": "text/x-python",
   "name": "python",
   "nbconvert_exporter": "python",
   "pygments_lexer": "ipython3",
   "version": "3.9.2"
  },
  "orig_nbformat": 4
 },
 "nbformat": 4,
 "nbformat_minor": 2
}
