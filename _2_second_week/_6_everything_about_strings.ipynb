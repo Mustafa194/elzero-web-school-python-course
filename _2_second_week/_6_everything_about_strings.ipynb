{
 "cells": [
  {
   "cell_type": "markdown",
   "metadata": {},
   "source": [
    "# <mark style=\"background-color: cyan\">Everything About Strings</mark>"
   ]
  },
  {
   "cell_type": "markdown",
   "metadata": {},
   "source": [
    "## <mark style=\"background-color: #1050D1; color: white\">Multiple Line Strings</mark>"
   ]
  },
  {
   "cell_type": "code",
   "execution_count": 1,
   "metadata": {},
   "outputs": [
    {
     "name": "stdout",
     "output_type": "stream",
     "text": [
      "First Line\n",
      "Second Line\n",
      "Third Line\n",
      "\n",
      "First Line\n",
      "Second Line\n",
      "Third Line\n",
      "First Line\n",
      "Second \\ \"Line\" Third 'Line'\n",
      "\n"
     ]
    }
   ],
   "source": [
    "multipleLineString = \"\"\"First Line\n",
    "Second Line\n",
    "Third Line\n",
    "\"\"\"\n",
    "\n",
    "multipleLineString2 = '''First Line\n",
    "Second Line\n",
    "Third Line'''\n",
    "\n",
    "multipleLineString3 = \"\"\"First Line\n",
    "Second \\ \"Line\" \\\n",
    "Third 'Line'\n",
    "\"\"\" # you don't need escape sequence for the slash symbol\n",
    "print(multipleLineString)\n",
    "print(multipleLineString2)\n",
    "print(multipleLineString3)"
   ]
  },
  {
   "cell_type": "markdown",
   "metadata": {},
   "source": [
    "### Note: <mark style=\"background-color: #fdf050\">String is an immutable object</mark>"
   ]
  },
  {
   "cell_type": "markdown",
   "metadata": {},
   "source": [
    "## <mark style=\"background-color: #1050D1; color: white\">Indexing of string</mark>"
   ]
  },
  {
   "cell_type": "markdown",
   "metadata": {},
   "source": [
    "### Note: indexing accesses only single element"
   ]
  },
  {
   "cell_type": "markdown",
   "metadata": {},
   "source": [
    "## <mark style=\"background-color: #1050D1; color: white\">Notes</mark>\n",
    "1. ### All the data in Python are objects\n",
    "2. ### Object contains elements\n",
    "3. ### Every element has its own index\n",
    "4. ### Python use zero based indexing (The index start from zero)\n",
    "5. ### Use square brackets to access the element\n",
    "6. ### Enable accessing parts of strings, tuples, or lists"
   ]
  },
  {
   "cell_type": "markdown",
   "metadata": {},
   "source": [
    "## <mark style=\"background-color: #1050D1; color: white\">Note</mark>\n",
    "### The indexing in python can start from zero to +inf, or it can start from -1 and goes -inf\n",
    "* ### For the positive indexing it starts from zero and goes to the last character (A-Z) so the index increases\n",
    "* ### But for the negative indexing it stats from the last character and goes to the first character (Z-A) so the index decreases"
   ]
  },
  {
   "cell_type": "code",
   "execution_count": 2,
   "metadata": {},
   "outputs": [
    {
     "name": "stdout",
     "output_type": "stream",
     "text": [
      "I\n",
      "t\n",
      "n\n",
      "p\n"
     ]
    }
   ],
   "source": [
    "myString = 'I love python'\n",
    "print(myString[0]) # prints 'I'\n",
    "print(myString[9]) # prints 't'\n",
    "print(myString[-1]) # prints the last character which is 'n'\n",
    "print(myString[-6]) # prints 'p'"
   ]
  },
  {
   "cell_type": "markdown",
   "metadata": {},
   "source": [
    "## <mark style=\"background-color: #1050D1; color: white\">Slicing of string</mark>"
   ]
  },
  {
   "cell_type": "markdown",
   "metadata": {},
   "source": [
    "## <mark style=\"background-color: #1050D1; color: white\">Notes</mark>\n",
    "* ### slicing accesses multiple sequence of elements\n",
    "* ### Syntax: <b>object[start : end]</b> or <b>object[start : end : steps]</b>\n",
    "* ### the starting point is included but the end point is excluded\n",
    "* ### if you don't write the start point it will start from <b>zero</b> (first character)\n",
    "\t* ### Example: <b>stringVar[: 5]</b> # it will start from zero and ends at 4\n",
    "* ### if you don't write the end point it will end in <b>-1</b> (last character)\n",
    "\t* ### Example: <b>stringVar[3 :]</b> # it will start from 3 and ends at the last character\n",
    "* ### if you don't write both the start and the end points it will give the whole string\n",
    "\t* ### Example: <b>stringVar[:]</b> # start from zero and ends at -1"
   ]
  },
  {
   "cell_type": "code",
   "execution_count": 3,
   "metadata": {},
   "outputs": [
    {
     "name": "stdout",
     "output_type": "stream",
     "text": [
      "yth\n",
      "ov\n",
      "I love pyt\n",
      "ython\n",
      "I love python\n"
     ]
    }
   ],
   "source": [
    "print(myString[8:11]) # prints 'yth'\n",
    "print(myString[3:5]) # prints 'ov'\n",
    "print(myString[:10]) # prints the first 10 characters\n",
    "print(myString[8:]) # prints 'ython'\n",
    "print(myString[:]) # prints the whole string"
   ]
  },
  {
   "cell_type": "code",
   "execution_count": 4,
   "metadata": {},
   "outputs": [
    {
     "name": "stdout",
     "output_type": "stream",
     "text": [
      "Ilv yhn\n",
      " oepto\n",
      "Io tn\n"
     ]
    }
   ],
   "source": [
    "print(myString[::2]) # prints the elements in even indexes\n",
    "print(myString[1::2]) # prints the elements in odd indexes\n",
    "print(myString[::3]) # prints 'Io tn'"
   ]
  }
 ],
 "metadata": {
  "interpreter": {
   "hash": "8fba8154b0252bca3907b3434358ffda4f5e7cfd4d68fde71816b37dc430d8ed"
  },
  "kernelspec": {
   "display_name": "Python 3.9.2 64-bit",
   "name": "python3"
  },
  "language_info": {
   "codemirror_mode": {
    "name": "ipython",
    "version": 3
   },
   "file_extension": ".py",
   "mimetype": "text/x-python",
   "name": "python",
   "nbconvert_exporter": "python",
   "pygments_lexer": "ipython3",
   "version": "3.9.2"
  },
  "orig_nbformat": 4
 },
 "nbformat": 4,
 "nbformat_minor": 2
}
