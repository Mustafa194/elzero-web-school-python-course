{
 "cells": [
  {
   "cell_type": "markdown",
   "metadata": {},
   "source": [
    "# <mark style=\"background-color: cyan; padding: 0 1rem;\">Installing and use PyLint for better code</mark>"
   ]
  },
  {
   "cell_type": "code",
   "execution_count": null,
   "metadata": {},
   "outputs": [],
   "source": [
    "def say_hello(name):\n",
    "    return f\"Hello {name}\""
   ]
  },
  {
   "cell_type": "code",
   "execution_count": null,
   "metadata": {},
   "outputs": [
    {
     "name": "stdout",
     "output_type": "stream",
     "text": [
      "Hello Mustafa\n"
     ]
    }
   ],
   "source": [
    "print(say_hello('Mustafa'))"
   ]
  },
  {
   "cell_type": "code",
   "execution_count": 2,
   "metadata": {},
   "outputs": [
    {
     "name": "stdout",
     "output_type": "stream",
     "text": [
      "Requirement already satisfied: pylint in c:\\users\\mrmus\\appdata\\local\\programs\\python\\python39\\lib\\site-packages (2.12.2)\n",
      "Requirement already satisfied: astroid<2.10,>=2.9.0 in c:\\users\\mrmus\\appdata\\local\\programs\\python\\python39\\lib\\site-packages (from pylint) (2.9.0)\n",
      "Requirement already satisfied: toml>=0.9.2 in c:\\users\\mrmus\\appdata\\roaming\\python\\python39\\site-packages (from pylint) (0.10.2)\n",
      "Requirement already satisfied: isort<6,>=4.2.5 in c:\\users\\mrmus\\appdata\\local\\programs\\python\\python39\\lib\\site-packages (from pylint) (5.10.1)\n",
      "Requirement already satisfied: platformdirs>=2.2.0 in c:\\users\\mrmus\\appdata\\local\\programs\\python\\python39\\lib\\site-packages (from pylint) (2.4.0)\n",
      "Requirement already satisfied: typing-extensions>=3.10.0 in c:\\users\\mrmus\\appdata\\local\\programs\\python\\python39\\lib\\site-packages (from pylint) (4.0.1)\n",
      "Requirement already satisfied: colorama in c:\\users\\mrmus\\appdata\\local\\programs\\python\\python39\\lib\\site-packages (from pylint) (0.4.4)\n",
      "Requirement already satisfied: mccabe<0.7,>=0.6 in c:\\users\\mrmus\\appdata\\local\\programs\\python\\python39\\lib\\site-packages (from pylint) (0.6.1)\n",
      "Requirement already satisfied: lazy-object-proxy>=1.4.0 in c:\\users\\mrmus\\appdata\\local\\programs\\python\\python39\\lib\\site-packages (from astroid<2.10,>=2.9.0->pylint) (1.6.0)\n",
      "Requirement already satisfied: wrapt<1.14,>=1.11 in c:\\users\\mrmus\\appdata\\local\\programs\\python\\python39\\lib\\site-packages (from astroid<2.10,>=2.9.0->pylint) (1.13.3)\n",
      "Requirement already satisfied: setuptools>=20.0 in c:\\users\\mrmus\\appdata\\local\\programs\\python\\python39\\lib\\site-packages (from astroid<2.10,>=2.9.0->pylint) (49.2.1)\n",
      "Note: you may need to restart the kernel to use updated packages.\n"
     ]
    }
   ],
   "source": [
    "pip install pylint"
   ]
  },
  {
   "cell_type": "code",
   "execution_count": 4,
   "metadata": {},
   "outputs": [
    {
     "ename": "SyntaxError",
     "evalue": "invalid syntax (Temp/ipykernel_15728/554074500.py, line 1)",
     "output_type": "error",
     "traceback": [
      "\u001b[1;36m  File \u001b[1;32m\"C:\\Users\\mrmus\\AppData\\Local\\Temp/ipykernel_15728/554074500.py\"\u001b[1;36m, line \u001b[1;32m1\u001b[0m\n\u001b[1;33m    pylint.exe D:\\VS_Code\\Python\\Elzero_Web_School\\elzero_web_school_course\\_12_twelveth_week\\_64_installing_and_using_pylint.py\u001b[0m\n\u001b[1;37m               ^\u001b[0m\n\u001b[1;31mSyntaxError\u001b[0m\u001b[1;31m:\u001b[0m invalid syntax\n"
     ]
    }
   ],
   "source": [
    "pylint.exe D:\\VS_Code\\Python\\Elzero_Web_School\\elzero_web_school_course\\_12_twelveth_week\\_64_installing_and_using_pylint.py"
   ]
  },
  {
   "cell_type": "code",
   "execution_count": null,
   "metadata": {},
   "outputs": [],
   "source": []
  }
 ],
 "metadata": {
  "interpreter": {
   "hash": "8fba8154b0252bca3907b3434358ffda4f5e7cfd4d68fde71816b37dc430d8ed"
  },
  "kernelspec": {
   "display_name": "Python 3.9.2 64-bit",
   "language": "python",
   "name": "python3"
  },
  "language_info": {
   "codemirror_mode": {
    "name": "ipython",
    "version": 3
   },
   "file_extension": ".py",
   "mimetype": "text/x-python",
   "name": "python",
   "nbconvert_exporter": "python",
   "pygments_lexer": "ipython3",
   "version": "3.9.2"
  },
  "orig_nbformat": 4
 },
 "nbformat": 4,
 "nbformat_minor": 2
}
