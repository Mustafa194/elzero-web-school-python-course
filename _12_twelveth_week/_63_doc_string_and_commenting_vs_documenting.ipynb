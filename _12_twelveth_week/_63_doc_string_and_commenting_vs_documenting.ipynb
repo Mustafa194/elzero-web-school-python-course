{
 "cells": [
  {
   "cell_type": "markdown",
   "metadata": {},
   "source": [
    "# <mark style=\"background-color: cyan; padding: 0 1rem;\">Doc String & Commenting vs Documentation</mark>"
   ]
  },
  {
   "cell_type": "code",
   "execution_count": 11,
   "metadata": {},
   "outputs": [],
   "source": [
    "def mustafa_function(name):\n",
    "    '''\n",
    "    Mustafa Function\n",
    "\t\tprints hello from mustafa\n",
    "\tparameter:\n",
    "\t\tname => person Name\n",
    "\tReturn:\n",
    "\t\treturns Hello Message to the person\n",
    "    '''\n",
    "    print(f\"Hello {name} From Mustafa\")"
   ]
  },
  {
   "cell_type": "code",
   "execution_count": 12,
   "metadata": {},
   "outputs": [
    {
     "name": "stdout",
     "output_type": "stream",
     "text": [
      "\n",
      "    Mustafa Function\n",
      "\t\tprints hello from mustafa\n",
      "\tparameter:\n",
      "\t\tname => person Name\n",
      "\tReturn:\n",
      "\t\treturns Hello Message to the person\n",
      "    \n"
     ]
    }
   ],
   "source": [
    "print(mustafa_function.__doc__)"
   ]
  },
  {
   "cell_type": "code",
   "execution_count": 14,
   "metadata": {},
   "outputs": [
    {
     "name": "stdout",
     "output_type": "stream",
     "text": [
      "Help on function mustafa_function in module __main__:\n",
      "\n",
      "mustafa_function(name)\n",
      "    Mustafa Function\n",
      "                prints hello from mustafa\n",
      "        parameter:\n",
      "                name => person Name\n",
      "        Return:\n",
      "                returns Hello Message to the person\n",
      "\n"
     ]
    }
   ],
   "source": [
    "help(mustafa_function)"
   ]
  }
 ],
 "metadata": {
  "interpreter": {
   "hash": "8fba8154b0252bca3907b3434358ffda4f5e7cfd4d68fde71816b37dc430d8ed"
  },
  "kernelspec": {
   "display_name": "Python 3.9.2 64-bit",
   "language": "python",
   "name": "python3"
  },
  "language_info": {
   "codemirror_mode": {
    "name": "ipython",
    "version": 3
   },
   "file_extension": ".py",
   "mimetype": "text/x-python",
   "name": "python",
   "nbconvert_exporter": "python",
   "pygments_lexer": "ipython3",
   "version": "3.9.2"
  },
  "orig_nbformat": 4
 },
 "nbformat": 4,
 "nbformat_minor": 2
}
