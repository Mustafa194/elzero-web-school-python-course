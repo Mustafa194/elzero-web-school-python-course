{
 "cells": [
  {
   "cell_type": "markdown",
   "metadata": {},
   "source": [
    "## <mark style=\"background-color: #1050D1; color: white; padding: 0 1rem;\">Loop on many iterators with zip()</mark>"
   ]
  },
  {
   "cell_type": "markdown",
   "metadata": {},
   "source": [
    "<ol>\n",
    "\t<h3><li>Returns a zip object contains all objects</li></h3>\n",
    "\t<h3><li>Length is the length of the lowest object</li></h3>\n",
    "</ol>"
   ]
  },
  {
   "cell_type": "code",
   "execution_count": 1,
   "metadata": {},
   "outputs": [
    {
     "name": "stdout",
     "output_type": "stream",
     "text": [
      "[(1, 'A'), (2, 'B'), (3, 'C')]\n"
     ]
    }
   ],
   "source": [
    "list1 = [1, 2, 3, 4, 5]\n",
    "list2 = ['A', 'B', 'C']\n",
    "\n",
    "ultimate_list = zip(list1, list2)\n",
    "\n",
    "print(list(ultimate_list))"
   ]
  },
  {
   "cell_type": "code",
   "execution_count": 2,
   "metadata": {},
   "outputs": [],
   "source": [
    "list1 = [1, 2, 3, 4, 5]\n",
    "list2 = ['A', 'B', 'C']\n",
    "tuple1 = (\"Man\", 'Woman', 'Girl', \"Boy\")\n",
    "dict1 = {'Name': 'Mustafa', 'Age': 20, 'Country': 'Iraq'}"
   ]
  },
  {
   "cell_type": "code",
   "execution_count": 3,
   "metadata": {},
   "outputs": [
    {
     "name": "stdout",
     "output_type": "stream",
     "text": [
      "List 1 item => 1\n",
      "List 2 item => A\n",
      "List 1 item => 2\n",
      "List 2 item => B\n",
      "List 1 item => 3\n",
      "List 2 item => C\n"
     ]
    }
   ],
   "source": [
    "for item1, item2 in zip(list1, list2):\n",
    "    print('List 1 item =>', item1)\n",
    "    print('List 2 item =>', item2)"
   ]
  },
  {
   "cell_type": "code",
   "execution_count": 4,
   "metadata": {},
   "outputs": [
    {
     "name": "stdout",
     "output_type": "stream",
     "text": [
      "List 1 item => 1\n",
      "List 2 item => A\n",
      "Tuple 1 item => Man\n",
      "List 1 item => 2\n",
      "List 2 item => B\n",
      "Tuple 1 item => Woman\n",
      "List 1 item => 3\n",
      "List 2 item => C\n",
      "Tuple 1 item => Girl\n"
     ]
    }
   ],
   "source": [
    "for item1, item2, item3 in zip(list1, list2, tuple1):\n",
    "    print('List 1 item =>', item1)\n",
    "    print('List 2 item =>', item2)\n",
    "    print('Tuple 1 item =>', item3)"
   ]
  },
  {
   "cell_type": "code",
   "execution_count": 5,
   "metadata": {},
   "outputs": [
    {
     "name": "stdout",
     "output_type": "stream",
     "text": [
      "List 1 item => 1\n",
      "List 2 item => A\n",
      "Tuple 1 item => Man\n",
      "Dictionary 1 item => Name : Mustafa\n",
      "List 1 item => 2\n",
      "List 2 item => B\n",
      "Tuple 1 item => Woman\n",
      "Dictionary 1 item => Age : 20\n",
      "List 1 item => 3\n",
      "List 2 item => C\n",
      "Tuple 1 item => Girl\n",
      "Dictionary 1 item => Country : Iraq\n"
     ]
    }
   ],
   "source": [
    "for item1, item2, item3, item4 in zip(list1, list2, tuple1, dict1):\n",
    "    print('List 1 item =>', item1)\n",
    "    print('List 2 item =>', item2)\n",
    "    print('Tuple 1 item =>', item3)\n",
    "    print('Dictionary 1 item =>', item4, ':', dict1[item4])"
   ]
  }
 ],
 "metadata": {
  "interpreter": {
   "hash": "8fba8154b0252bca3907b3434358ffda4f5e7cfd4d68fde71816b37dc430d8ed"
  },
  "kernelspec": {
   "display_name": "Python 3.9.2 64-bit",
   "language": "python",
   "name": "python3"
  },
  "language_info": {
   "codemirror_mode": {
    "name": "ipython",
    "version": 3
   },
   "file_extension": ".py",
   "mimetype": "text/x-python",
   "name": "python",
   "nbconvert_exporter": "python",
   "pygments_lexer": "ipython3",
   "version": "3.9.2"
  },
  "orig_nbformat": 4
 },
 "nbformat": 4,
 "nbformat_minor": 2
}
