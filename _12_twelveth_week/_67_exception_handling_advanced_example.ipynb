{
 "cells": [
  {
   "cell_type": "markdown",
   "metadata": {},
   "source": [
    "# <mark style=\"background-color: cyan; padding: 0 1rem;\">Exceptions Handling Advanced Examples</mark>"
   ]
  },
  {
   "cell_type": "code",
   "execution_count": 11,
   "metadata": {},
   "outputs": [
    {
     "name": "stdout",
     "output_type": "stream",
     "text": [
      "Enter the file name with the absolute path to open\n",
      "You have only 5 Tries\n",
      "Example: C:\\Users\\mrmus\\Desktop\\file.txt\n",
      "File Not Found Error\n",
      "----------------------------------------------------------------------\n",
      "Enter the file name with the absolute path to open\n",
      "You have only 4 Tries\n",
      "Example: C:\\Users\\mrmus\\Desktop\\file.txt\n",
      "File Not Found Error\n",
      "----------------------------------------------------------------------\n",
      "Enter the file name with the absolute path to open\n",
      "You have only 3 Tries\n",
      "Example: C:\\Users\\mrmus\\Desktop\\file.txt\n",
      "File Not Found Error\n",
      "----------------------------------------------------------------------\n",
      "Enter the file name with the absolute path to open\n",
      "You have only 2 Tries\n",
      "Example: C:\\Users\\mrmus\\Desktop\\file.txt\n",
      "File Not Found Error\n",
      "----------------------------------------------------------------------\n",
      "Enter the file name with the absolute path to open\n",
      "You have only 1 Tries\n",
      "Example: C:\\Users\\mrmus\\Desktop\\file.txt\n",
      "File Not Found Error\n",
      "----------------------------------------------------------------------\n",
      "All tries are done\n"
     ]
    }
   ],
   "source": [
    "the_file = None\n",
    "tries = 5\n",
    "\n",
    "while tries > 0:\n",
    "    try: # try to open the file\n",
    "        print('Enter the file name with the absolute path to open')\n",
    "        print(f'You have only {tries} Tries')\n",
    "        print('Example: C:\\\\Users\\\\mrmus\\\\Desktop\\\\file.txt')\n",
    "        file_path = input('File Name: ').strip()\n",
    "        the_file = open(file_path, 'r') # here the exception will happend if there is an error\n",
    "        print(the_file.read())\n",
    "        break\n",
    "    except FileNotFoundError:\n",
    "        print('File Not Found Error')\n",
    "        tries -= 1\n",
    "        print('-'*70)\n",
    "    except:\n",
    "        print('Another Error')\n",
    "    finally:\n",
    "        if the_file != None:\n",
    "            the_file.close()\n",
    "            print('File Closed')\n",
    "else:\n",
    "    print('All tries are done')\n"
   ]
  },
  {
   "cell_type": "code",
   "execution_count": null,
   "metadata": {},
   "outputs": [],
   "source": []
  }
 ],
 "metadata": {
  "interpreter": {
   "hash": "8fba8154b0252bca3907b3434358ffda4f5e7cfd4d68fde71816b37dc430d8ed"
  },
  "kernelspec": {
   "display_name": "Python 3.9.2 64-bit",
   "language": "python",
   "name": "python3"
  },
  "language_info": {
   "codemirror_mode": {
    "name": "ipython",
    "version": 3
   },
   "file_extension": ".py",
   "mimetype": "text/x-python",
   "name": "python",
   "nbconvert_exporter": "python",
   "pygments_lexer": "ipython3",
   "version": "3.9.2"
  },
  "orig_nbformat": 4
 },
 "nbformat": 4,
 "nbformat_minor": 2
}
