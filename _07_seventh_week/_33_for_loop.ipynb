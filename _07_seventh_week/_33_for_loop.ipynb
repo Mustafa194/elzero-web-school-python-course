{
 "cells": [
  {
   "cell_type": "markdown",
   "metadata": {},
   "source": [
    "# <mark style=\"background-color: cyan; padding: 0 1rem;\">for loop</mark>"
   ]
  },
  {
   "cell_type": "markdown",
   "metadata": {},
   "source": [
    "## <mark style=\"background-color: #1050D1; color: white; padding: 0 1rem;\">Syntax</mark>"
   ]
  },
  {
   "cell_type": "markdown",
   "metadata": {},
   "source": [
    "### <mark>for</mark> item <mark>in</mark> iterable_object:\n",
    "### &nbsp;&nbsp;&nbsp;&nbsp;block of code"
   ]
  },
  {
   "cell_type": "markdown",
   "metadata": {},
   "source": [
    "* ### item is a variable you create and call whenever you want\n",
    "* ### item stores the current position and will run and visit all items to the end\n",
    "* ### iterable_object => sequence, such as: <mark style=\"padding: 0 1rem;\">lists, tuples, sets, dictionaries, strings ...etc.</mark>"
   ]
  },
  {
   "cell_type": "markdown",
   "metadata": {},
   "source": [
    "## <mark style=\"background-color: #1050D1; color: white; padding: 0 1rem;\">Examples</mark>"
   ]
  },
  {
   "cell_type": "markdown",
   "metadata": {},
   "source": [
    "### <mark style=\"background-color: #CD6354; color: white; padding: 0 1rem;\">printing all elements in a list</mark>"
   ]
  },
  {
   "cell_type": "code",
   "execution_count": 1,
   "metadata": {},
   "outputs": [
    {
     "name": "stdout",
     "output_type": "stream",
     "text": [
      "1\n",
      "2\n",
      "3\n",
      "4\n",
      "5\n",
      "6\n",
      "7\n",
      "8\n",
      "9\n"
     ]
    }
   ],
   "source": [
    "myNumbers = [1, 2, 3, 4, 5, 6, 7, 8, 9]\n",
    "for number in myNumbers:\n",
    "    print(number)"
   ]
  },
  {
   "cell_type": "markdown",
   "metadata": {},
   "source": [
    "### <mark style=\"background-color: #CD6354; color: white; padding: 0 1rem;\">Even numbers</mark>"
   ]
  },
  {
   "cell_type": "code",
   "execution_count": 3,
   "metadata": {},
   "outputs": [
    {
     "name": "stdout",
     "output_type": "stream",
     "text": [
      "2 is even number.\n",
      "4 is even number.\n",
      "6 is even number.\n",
      "8 is even number.\n"
     ]
    }
   ],
   "source": [
    "myNumbers = [1, 2, 3, 4, 5, 6, 7, 8, 9]\n",
    "for number in myNumbers:\n",
    "    if number % 2 == 0: # or number % 2 != 1\n",
    "        print(f'{number} is even number.')"
   ]
  },
  {
   "cell_type": "markdown",
   "metadata": {},
   "source": [
    "### <mark style=\"background-color: #CD6354; color: white; padding: 0 1rem;\">Odd numbers</mark>"
   ]
  },
  {
   "cell_type": "code",
   "execution_count": 5,
   "metadata": {},
   "outputs": [
    {
     "name": "stdout",
     "output_type": "stream",
     "text": [
      "1 is odd number.\n",
      "3 is odd number.\n",
      "5 is odd number.\n",
      "7 is odd number.\n",
      "9 is odd number.\n"
     ]
    }
   ],
   "source": [
    "myNumbers = [1, 2, 3, 4, 5, 6, 7, 8, 9]\n",
    "for number in myNumbers:\n",
    "    if number % 2 == 1: # number % 2 != 0\n",
    "        print(f'{number} is odd number.')"
   ]
  },
  {
   "cell_type": "markdown",
   "metadata": {},
   "source": [
    "### <mark style=\"background-color: #CD6354; color: white; padding: 0 1rem;\">Even and odd numbers</mark>"
   ]
  },
  {
   "cell_type": "code",
   "execution_count": 7,
   "metadata": {},
   "outputs": [
    {
     "name": "stdout",
     "output_type": "stream",
     "text": [
      "1 is odd number.\n",
      "2 is even number.\n",
      "3 is odd number.\n",
      "4 is even number.\n",
      "5 is odd number.\n",
      "6 is even number.\n",
      "7 is odd number.\n",
      "8 is even number.\n",
      "9 is odd number.\n"
     ]
    }
   ],
   "source": [
    "myNumbers = [1, 2, 3, 4, 5, 6, 7, 8, 9]\n",
    "for number in myNumbers:\n",
    "    if number % 2 == 0:  # or number % 2 != 1\n",
    "        print(f'{number} is even number.')\n",
    "    else:\n",
    "        print(f'{number} is odd number.')"
   ]
  },
  {
   "cell_type": "markdown",
   "metadata": {},
   "source": [
    "## <mark style=\"background-color: #1050D1; color: white; padding: 0 1rem;\">for else</mark>"
   ]
  },
  {
   "cell_type": "markdown",
   "metadata": {},
   "source": [
    "### The deference between the else in while loop and the for loop is:\n",
    "* ### The else in <mark>while loop</mark> executes when the loop condition become False.\n",
    "* ### The else in <mark>for loop</mark> executes when the loop terminates."
   ]
  },
  {
   "cell_type": "code",
   "execution_count": 10,
   "metadata": {},
   "outputs": [
    {
     "name": "stdout",
     "output_type": "stream",
     "text": [
      "1 is odd number.\n",
      "2 is even number.\n",
      "3 is odd number.\n",
      "4 is even number.\n",
      "5 is odd number.\n",
      "6 is even number.\n",
      "7 is odd number.\n",
      "8 is even number.\n",
      "9 is odd number.\n",
      "Loop is finished!\n"
     ]
    }
   ],
   "source": [
    "myNumbers = [1, 2, 3, 4, 5, 6, 7, 8, 9]\n",
    "for number in myNumbers:\n",
    "    if number % 2 == 0:  # or number % 2 != 1\n",
    "        print(f'{number} is even number.')\n",
    "    else:\n",
    "        print(f'{number} is odd number.')\n",
    "else:\n",
    "    print('Loop is finished!')"
   ]
  },
  {
   "cell_type": "markdown",
   "metadata": {},
   "source": [
    "### <mark style=\"background-color: #CD6354; color: white; padding: 0 1rem;\">printing all characters in a string</mark>"
   ]
  },
  {
   "cell_type": "code",
   "execution_count": 15,
   "metadata": {},
   "outputs": [
    {
     "name": "stdout",
     "output_type": "stream",
     "text": [
      "M\n",
      "u\n",
      "s\n",
      "t\n",
      "a\n",
      "f\n",
      "a\n"
     ]
    }
   ],
   "source": [
    "name = 'Mustafa'\n",
    "for letter in name:\n",
    "    print(letter)"
   ]
  },
  {
   "cell_type": "code",
   "execution_count": 16,
   "metadata": {},
   "outputs": [
    {
     "name": "stdout",
     "output_type": "stream",
     "text": [
      "M\n",
      "U\n",
      "S\n",
      "T\n",
      "A\n",
      "F\n",
      "A\n"
     ]
    }
   ],
   "source": [
    "for letter in name:\n",
    "    print(letter.upper())"
   ]
  }
 ],
 "metadata": {
  "interpreter": {
   "hash": "8fba8154b0252bca3907b3434358ffda4f5e7cfd4d68fde71816b37dc430d8ed"
  },
  "kernelspec": {
   "display_name": "Python 3.9.2 64-bit",
   "name": "python3"
  },
  "language_info": {
   "codemirror_mode": {
    "name": "ipython",
    "version": 3
   },
   "file_extension": ".py",
   "mimetype": "text/x-python",
   "name": "python",
   "nbconvert_exporter": "python",
   "pygments_lexer": "ipython3",
   "version": "3.9.2"
  },
  "orig_nbformat": 4
 },
 "nbformat": 4,
 "nbformat_minor": 2
}
