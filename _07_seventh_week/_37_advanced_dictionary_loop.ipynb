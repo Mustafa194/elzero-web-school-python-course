{
 "cells": [
  {
   "cell_type": "markdown",
   "metadata": {},
   "source": [
    "# <mark style=\"background-color: cyan; padding: 0 1rem;\">Advanced Dictionary Loop</mark>"
   ]
  },
  {
   "cell_type": "markdown",
   "metadata": {},
   "source": [
    "## <mark style=\"background-color: #1050D1; color: white; padding: 0 1rem;\">Basic way of looping through dictionary</mark>"
   ]
  },
  {
   "cell_type": "code",
   "execution_count": 1,
   "metadata": {},
   "outputs": [],
   "source": [
    "mySkills = {\n",
    "\t'Html': '65%',\n",
    "\t'Css': '40%',\n",
    "\t'JS': '30%',\n",
    "\t'Python': '30%'\n",
    "}"
   ]
  },
  {
   "cell_type": "code",
   "execution_count": 2,
   "metadata": {},
   "outputs": [
    {
     "name": "stdout",
     "output_type": "stream",
     "text": [
      "Html: 65%\n",
      "Css: 40%\n",
      "JS: 30%\n",
      "Python: 30%\n"
     ]
    }
   ],
   "source": [
    "for skill in mySkills:\n",
    "    print(f\"{skill}: {mySkills[skill]}\")"
   ]
  },
  {
   "cell_type": "markdown",
   "metadata": {},
   "source": [
    "## <mark style=\"background-color: #1050D1; color: white; padding: 0 1rem;\">Using .items() method</mark>"
   ]
  },
  {
   "cell_type": "markdown",
   "metadata": {},
   "source": [
    "### <mark style=\"padding: 0 1rem\">This method returns a list tuples</mark>\n",
    "### <mark style=\"padding: 0 1rem\">Every tuple contains a key and its value</mark>"
   ]
  },
  {
   "cell_type": "code",
   "execution_count": 3,
   "metadata": {},
   "outputs": [
    {
     "name": "stdout",
     "output_type": "stream",
     "text": [
      "dict_items([('Html', '65%'), ('Css', '40%'), ('JS', '30%'), ('Python', '30%')])\n"
     ]
    }
   ],
   "source": [
    "print(mySkills.items())"
   ]
  },
  {
   "cell_type": "code",
   "execution_count": 4,
   "metadata": {},
   "outputs": [
    {
     "name": "stdout",
     "output_type": "stream",
     "text": [
      "Html: 65%\n",
      "Css: 40%\n",
      "JS: 30%\n",
      "Python: 30%\n"
     ]
    }
   ],
   "source": [
    "for skill_key, skill_progress in mySkills.items():\n",
    "    print(f\"{skill_key}: {skill_progress}\")"
   ]
  },
  {
   "cell_type": "markdown",
   "metadata": {},
   "source": [
    "### <mark style=\"background-color: #CD6354; color: white; padding: 0 1rem;\">nested dictionaries using .items()</mark>"
   ]
  },
  {
   "cell_type": "markdown",
   "metadata": {},
   "source": [
    "### <mark style=\"background-color: #CD6354; color: white; padding: 0 1rem;\">Example 1</mark>"
   ]
  },
  {
   "cell_type": "code",
   "execution_count": 2,
   "metadata": {},
   "outputs": [],
   "source": [
    "people = {\n",
    "\t'Mustafa': {\n",
    "\t\t'Html': '60%',\n",
    "            'Css': '40%',\n",
    "            'JS': '40%',\n",
    "            'C++': '60%',\n",
    "            'Python': '30%',\n",
    "            'MSSQL': '20%'\n",
    "\t},\n",
    "\t'Ahmed': {\n",
    "\t\t'Adobe Photoshop': '55%',\n",
    "\t\t'Adobe Illustrator': '40%',\n",
    "\t\t'Adobe XD': '65%',\n",
    "\t\t'Adobe Premiere': '80%',\n",
    "\t\t'Adobe After Effects': '70%'\n",
    "\t},\n",
    "\t'Mahmood': {\n",
    "\t\t'Html': '90%',\n",
    "\t\t'Css': '85%',\n",
    "\t\t'JS': '85%',\n",
    "\t\t'Sass': '70%',\n",
    "\t\t'React.js': '75%',\n",
    "\t\t'Node.js': '70%',\n",
    "\t\t'Express.js': '60%',\n",
    "\t\t'MongodDB': '60%',\n",
    "\t\t'MySQL': '80%',\n",
    "\t\t'Command Line': '80%'\n",
    "\t},\n",
    "\t'Ameer': {\n",
    "\t\t'Networking': '90%',\n",
    "\t\t'Windows 10 Troubleshooting': '90%',\n",
    "\t\t'Command Line': '90%',\n",
    "\t\t'Linux': '75%',\n",
    "\t\t'CyberSecurity': '80%',\n",
    "\t\t'Ethical Hacking': '80%',\n",
    "\t\t'Artificial Intelligence': '80%',\n",
    "\t\t'Python': '90%',\n",
    "\t\t'JS': '90%',\n",
    "\t\t'MySQL': '90%',\n",
    "\t\t'MSSQL': '90%',\n",
    "\t\t'MariaDB': '90%',\n",
    "\t\t'PostgreSQL': '90%',\n",
    "\t}\n",
    "}"
   ]
  },
  {
   "cell_type": "code",
   "execution_count": 11,
   "metadata": {},
   "outputs": [
    {
     "name": "stdout",
     "output_type": "stream",
     "text": [
      "Mustafa's Skills:\n",
      "    Html: 60%\n",
      "    Css: 40%\n",
      "    JS: 40%\n",
      "    C++: 60%\n",
      "    Python: 30%\n",
      "    MSSQL: 20%\n",
      "----------------------------------------------------------------------\n",
      "Ahmed's Skills:\n",
      "    Adobe Photoshop: 55%\n",
      "    Adobe Illustrator: 40%\n",
      "    Adobe XD: 65%\n",
      "    Adobe Premiere: 80%\n",
      "    Adobe After Effects: 70%\n",
      "----------------------------------------------------------------------\n",
      "Mahmood's Skills:\n",
      "    Html: 90%\n",
      "    Css: 85%\n",
      "    JS: 85%\n",
      "    Sass: 70%\n",
      "    React.js: 75%\n",
      "    Node.js: 70%\n",
      "    Express.js: 60%\n",
      "    MongodDB: 60%\n",
      "    MySQL: 80%\n",
      "    Command Line: 80%\n",
      "----------------------------------------------------------------------\n",
      "Ameer's Skills:\n",
      "    Networking: 90%\n",
      "    Windows 10 Troubleshooting: 90%\n",
      "    Command Line: 90%\n",
      "    Linux: 75%\n",
      "    CyberSecurity: 80%\n",
      "    Ethical Hacking: 80%\n",
      "    Artificial Intelligence: 80%\n",
      "    Python: 90%\n",
      "    JS: 90%\n",
      "    MySQL: 90%\n",
      "    MSSQL: 90%\n",
      "    MariaDB: 90%\n",
      "    PostgreSQL: 90%\n",
      "----------------------------------------------------------------------\n"
     ]
    }
   ],
   "source": [
    "for person in people:\n",
    "    print(f\"{person.capitalize()}\\'s Skills:\")\n",
    "    for skill_name, skill_progress in people[person].items():\n",
    "        print(f\"\\t{skill_name}: {skill_progress}\".expandtabs(4))\n",
    "    print('-'*70)"
   ]
  },
  {
   "cell_type": "markdown",
   "metadata": {},
   "source": [
    "### <mark style=\"background-color: #CD6354; color: white; padding: 0 1rem;\">Example 2</mark>"
   ]
  },
  {
   "cell_type": "code",
   "execution_count": 7,
   "metadata": {},
   "outputs": [],
   "source": [
    "people = {\n",
    "\t'Mustafa': {\n",
    "\t\t'First Name':'Mustafa',\n",
    "\t\t'Middle Name':'Ahmed',\n",
    "\t\t'Last Name':'Mohammed',\n",
    "\t\t'Skills': {\n",
    "\t\t\t'Html': '60%',\n",
    "\t\t\t'Css': '40%',\n",
    "\t\t\t'JS': '40%',\n",
    "\t\t\t'C++': '60%',\n",
    "\t\t\t'Python': '30%',\n",
    "\t\t\t'MSSQL': '20%'\n",
    "\t\t}\n",
    "\t},\n",
    "\t'Ahmed': {\n",
    "\t\t'First Name':'Ahmed',\n",
    "\t\t'Middle Name':'Ali',\n",
    "\t\t'Last Name':'Mahmood',\n",
    "\t\t'Skills': {\n",
    "\t\t\t'Adobe Photoshop': '55%',\n",
    "\t\t\t'Adobe Illustrator': '40%',\n",
    "\t\t\t'Adobe XD': '65%',\n",
    "\t\t\t'Adobe Premiere': '80%',\n",
    "\t\t\t'Adobe After Effects': '70%'\n",
    "\t\t}\n",
    "\t},\n",
    "\t'Mahmood': {\n",
    "\t\t'First Name':'Mahmood',\n",
    "\t\t'Middle Name':'Mohammed',\n",
    "\t\t'Last Name':'Salih',\n",
    "\t\t'Skills': {\n",
    "\t\t\t'Html': '90%',\n",
    "\t\t\t'Css': '85%',\n",
    "\t\t\t'JS': '85%',\n",
    "\t\t\t'Sass': '70%',\n",
    "\t\t\t'React.js': '75%',\n",
    "\t\t\t'Node.js': '70%',\n",
    "\t\t\t'Express.js': '60%',\n",
    "\t\t\t'MongodDB': '60%',\n",
    "\t\t\t'MySQL': '80%',\n",
    "\t\t\t'Command Line': '80%'\n",
    "\t\t}\n",
    "\t},\n",
    "\t'Ameer': {\n",
    "\t\t'First Name':'Ameer',\n",
    "\t\t'Middle Name':'Hossain',\n",
    "\t\t'Last Name':'Mustafa',\n",
    "\t\t'Skills': {\n",
    "\t\t\t'Networking': '90%',\n",
    "\t\t\t'Windows 10 Troubleshooting': '90%',\n",
    "\t\t\t'Command Line': '90%',\n",
    "\t\t\t'Linux': '75%',\n",
    "\t\t\t'CyberSecurity': '80%',\n",
    "\t\t\t'Ethical Hacking': '80%',\n",
    "\t\t\t'Artificial Intelligence': '80%',\n",
    "\t\t\t'Python': '90%',\n",
    "\t\t\t'JS': '90%',\n",
    "\t\t\t'MySQL': '90%',\n",
    "\t\t\t'MSSQL': '90%',\n",
    "\t\t\t'MariaDB': '90%',\n",
    "\t\t\t'PostgreSQL': '90%'\n",
    "\t\t}\n",
    "\t}\n",
    "}"
   ]
  },
  {
   "cell_type": "code",
   "execution_count": 8,
   "metadata": {},
   "outputs": [
    {
     "name": "stdout",
     "output_type": "stream",
     "text": [
      "Mustafa's Information\n",
      "First Name: Mustafa\n",
      "Middle Name: Ahmed\n",
      "Last Name: Mohammed\n",
      "Skills:\n",
      "    Html: 60%\n",
      "    Css: 40%\n",
      "    JS: 40%\n",
      "    C++: 60%\n",
      "    Python: 30%\n",
      "    MSSQL: 20%\n",
      "----------------------------------------------------------------------\n",
      "Ahmed's Information\n",
      "First Name: Ahmed\n",
      "Middle Name: Ali\n",
      "Last Name: Mahmood\n",
      "Skills:\n",
      "    Adobe Photoshop: 55%\n",
      "    Adobe Illustrator: 40%\n",
      "    Adobe XD: 65%\n",
      "    Adobe Premiere: 80%\n",
      "    Adobe After Effects: 70%\n",
      "----------------------------------------------------------------------\n",
      "Mahmood's Information\n",
      "First Name: Mahmood\n",
      "Middle Name: Mohammed\n",
      "Last Name: Salih\n",
      "Skills:\n",
      "    Html: 90%\n",
      "    Css: 85%\n",
      "    JS: 85%\n",
      "    Sass: 70%\n",
      "    React.js: 75%\n",
      "    Node.js: 70%\n",
      "    Express.js: 60%\n",
      "    MongodDB: 60%\n",
      "    MySQL: 80%\n",
      "    Command Line: 80%\n",
      "----------------------------------------------------------------------\n",
      "Ameer's Information\n",
      "First Name: Ameer\n",
      "Middle Name: Hossain\n",
      "Last Name: Mustafa\n",
      "Skills:\n",
      "    Networking: 90%\n",
      "    Windows 10 Troubleshooting: 90%\n",
      "    Command Line: 90%\n",
      "    Linux: 75%\n",
      "    CyberSecurity: 80%\n",
      "    Ethical Hacking: 80%\n",
      "    Artificial Intelligence: 80%\n",
      "    Python: 90%\n",
      "    JS: 90%\n",
      "    MySQL: 90%\n",
      "    MSSQL: 90%\n",
      "    MariaDB: 90%\n",
      "    PostgreSQL: 90%\n",
      "----------------------------------------------------------------------\n"
     ]
    }
   ],
   "source": [
    "for person_key, person_value in people.items():\n",
    "    print(f\"{person_key}\\'s Information\")\n",
    "    for info_key, info_value in person_value.items():\n",
    "        if type(info_value) == dict:\n",
    "            print('Skills:')\n",
    "            for skill_key, skill_value in info_value.items():\n",
    "                print(f\"\\t{skill_key}: {skill_value}\".expandtabs(4))\n",
    "        else:\n",
    "            print(f\"{info_key}: {info_value}\")\n",
    "    print('-'*70)"
   ]
  },
  {
   "cell_type": "code",
   "execution_count": null,
   "metadata": {},
   "outputs": [],
   "source": []
  }
 ],
 "metadata": {
  "interpreter": {
   "hash": "8fba8154b0252bca3907b3434358ffda4f5e7cfd4d68fde71816b37dc430d8ed"
  },
  "kernelspec": {
   "display_name": "Python 3.9.2 64-bit",
   "name": "python3"
  },
  "language_info": {
   "codemirror_mode": {
    "name": "ipython",
    "version": 3
   },
   "file_extension": ".py",
   "mimetype": "text/x-python",
   "name": "python",
   "nbconvert_exporter": "python",
   "pygments_lexer": "ipython3",
   "version": "3.9.2"
  },
  "orig_nbformat": 4
 },
 "nbformat": 4,
 "nbformat_minor": 2
}
