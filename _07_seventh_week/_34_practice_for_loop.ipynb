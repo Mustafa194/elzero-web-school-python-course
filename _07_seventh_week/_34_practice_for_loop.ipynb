{
 "cells": [
  {
   "cell_type": "markdown",
   "metadata": {},
   "source": [
    "# <mark style=\"background-color: cyan; padding: 0 1rem;\">For loop practices</mark>"
   ]
  },
  {
   "cell_type": "markdown",
   "metadata": {},
   "source": [
    "## <mark style=\"background-color: #1050D1; color: white; padding: 0 1rem;\">range function</mark>"
   ]
  },
  {
   "cell_type": "markdown",
   "metadata": {},
   "source": [
    "### <mark style=\"padding: 0 1rem\">Dictionary</mark>"
   ]
  },
  {
   "cell_type": "code",
   "execution_count": 6,
   "metadata": {},
   "outputs": [
    {
     "name": "stdout",
     "output_type": "stream",
     "text": [
      "60%\n",
      "60%\n"
     ]
    }
   ],
   "source": [
    "mySkills = {\n",
    "\t'Html': '60%',\n",
    "\t'Css': '40%',\n",
    "\t'JS': '40%',\n",
    "\t'C++': '60%',\n",
    "\t'Python': '40%'\n",
    "}\n",
    "print(mySkills['Html'])\n",
    "print(mySkills.get('C++'))"
   ]
  },
  {
   "cell_type": "markdown",
   "metadata": {},
   "source": [
    "### <mark style=\"background-color: #CD6354; color: white; padding: 0 1rem;\">printing the keys</mark>"
   ]
  },
  {
   "cell_type": "code",
   "execution_count": 7,
   "metadata": {},
   "outputs": [
    {
     "name": "stdout",
     "output_type": "stream",
     "text": [
      "Html\n",
      "Css\n",
      "JS\n",
      "C++\n",
      "Python\n"
     ]
    }
   ],
   "source": [
    "for skill in mySkills:\n",
    "    print(skill)"
   ]
  },
  {
   "cell_type": "code",
   "execution_count": 9,
   "metadata": {},
   "outputs": [
    {
     "name": "stdout",
     "output_type": "stream",
     "text": [
      "Html\n",
      "Css\n",
      "JS\n",
      "C++\n",
      "Python\n"
     ]
    }
   ],
   "source": [
    "for skill in mySkills.keys():\n",
    "    print(skill)"
   ]
  },
  {
   "cell_type": "markdown",
   "metadata": {},
   "source": [
    "### <mark style=\"background-color: #CD6354; color: white; padding: 0 1rem;\">printing the values</mark>"
   ]
  },
  {
   "cell_type": "code",
   "execution_count": 8,
   "metadata": {},
   "outputs": [
    {
     "name": "stdout",
     "output_type": "stream",
     "text": [
      "60%\n",
      "40%\n",
      "40%\n",
      "60%\n",
      "40%\n"
     ]
    }
   ],
   "source": [
    "for skill in mySkills.values():\n",
    "    print(skill)"
   ]
  },
  {
   "cell_type": "code",
   "execution_count": 10,
   "metadata": {},
   "outputs": [
    {
     "name": "stdout",
     "output_type": "stream",
     "text": [
      "60%\n",
      "40%\n",
      "40%\n",
      "60%\n",
      "40%\n"
     ]
    }
   ],
   "source": [
    "for skill in mySkills:\n",
    "    print(mySkills[skill])"
   ]
  },
  {
   "cell_type": "markdown",
   "metadata": {},
   "source": [
    "### <mark style=\"background-color: #CD6354; color: white; padding: 0 1rem;\">printing the keys and values</mark>"
   ]
  },
  {
   "cell_type": "code",
   "execution_count": 11,
   "metadata": {},
   "outputs": [
    {
     "name": "stdout",
     "output_type": "stream",
     "text": [
      "My progress in Html is 60%\n",
      "My progress in Css is 40%\n",
      "My progress in JS is 40%\n",
      "My progress in C++ is 60%\n",
      "My progress in Python is 40%\n"
     ]
    }
   ],
   "source": [
    "for skill in mySkills:\n",
    "    print(f\"My progress in {skill} is {mySkills[skill]}\")"
   ]
  },
  {
   "cell_type": "markdown",
   "metadata": {},
   "source": [
    "### <mark style=\"background-color: #CD6354; color: white; padding: 0 1rem;\">adding new item and printing the keys and values</mark>"
   ]
  },
  {
   "cell_type": "code",
   "execution_count": 15,
   "metadata": {},
   "outputs": [
    {
     "name": "stdout",
     "output_type": "stream",
     "text": [
      "My progress in Html is 60%\n",
      "My progress in Css is 40%\n",
      "My progress in JS is 40%\n",
      "My progress in C++ is 60%\n",
      "My progress in Python is 40%\n",
      "My progress in MSSQL is 20%\n"
     ]
    }
   ],
   "source": [
    "mySkills['MSSQL'] = '20%'\n",
    "for skill in mySkills:\n",
    "    print(f\"My progress in {skill} is {mySkills[skill]}\")"
   ]
  }
 ],
 "metadata": {
  "interpreter": {
   "hash": "8fba8154b0252bca3907b3434358ffda4f5e7cfd4d68fde71816b37dc430d8ed"
  },
  "kernelspec": {
   "display_name": "Python 3.9.2 64-bit",
   "name": "python3"
  },
  "language_info": {
   "codemirror_mode": {
    "name": "ipython",
    "version": 3
   },
   "file_extension": ".py",
   "mimetype": "text/x-python",
   "name": "python",
   "nbconvert_exporter": "python",
   "pygments_lexer": "ipython3",
   "version": "3.9.2"
  },
  "orig_nbformat": 4
 },
 "nbformat": 4,
 "nbformat_minor": 2
}
