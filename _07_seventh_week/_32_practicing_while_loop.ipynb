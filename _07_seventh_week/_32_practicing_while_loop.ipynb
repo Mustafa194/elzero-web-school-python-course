{
 "cells": [
  {
   "cell_type": "markdown",
   "metadata": {},
   "source": [
    "# <mark style=\"background-color: cyan; padding: 0 1rem;\">Practicing While Loop Statement</mark>\n"
   ]
  },
  {
   "cell_type": "markdown",
   "metadata": {},
   "source": [
    "## <mark style=\"background-color: #1050D1; color: white; padding: 0 1rem;\">Exercise 1. creating a simple bookmark manager</mark>\n"
   ]
  },
  {
   "cell_type": "markdown",
   "metadata": {},
   "source": [
    "### Empty list ot be filled later\n"
   ]
  },
  {
   "cell_type": "code",
   "execution_count": 1,
   "metadata": {},
   "outputs": [],
   "source": [
    "myFavourateWebsites = []"
   ]
  },
  {
   "cell_type": "markdown",
   "metadata": {},
   "source": [
    "### Maximum number of Websites is 5\n"
   ]
  },
  {
   "cell_type": "code",
   "execution_count": 2,
   "metadata": {},
   "outputs": [
    {
     "name": "stdout",
     "output_type": "stream",
     "text": [
      "Website added, 4 websites left\n",
      "Website added, 3 websites left\n",
      "Website added, 2 websites left\n",
      "Website added, 1 websites left\n",
      "Website added, 0 websites left\n",
      "Bookmarks is full.\n"
     ]
    }
   ],
   "source": [
    "maximumWebsites = 5\n",
    "\n",
    "while maximumWebsites > 0:\n",
    "    myFavourateWebsites.append(\n",
    "        f\"https://{input('Enter a website domain without https://').strip().lower()}\")\n",
    "    maximumWebsites -= 1\n",
    "    print(f'Website added, {maximumWebsites} websites left')\n",
    "else:\n",
    "    print('Bookmarks is full.')\n"
   ]
  },
  {
   "cell_type": "code",
   "execution_count": 3,
   "metadata": {},
   "outputs": [
    {
     "name": "stdout",
     "output_type": "stream",
     "text": [
      "https://www.google.com\n",
      "https://www.google.com\n",
      "https://www.google.com\n",
      "https://www.google.com\n",
      "https://www.google.com\n"
     ]
    }
   ],
   "source": [
    "i = 0\n",
    "while i < len(myFavourateWebsites):\n",
    "    print(myFavourateWebsites[i])\n",
    "    i += 1\n"
   ]
  },
  {
   "cell_type": "markdown",
   "metadata": {},
   "source": [
    "### Check if list is not empty\n"
   ]
  },
  {
   "cell_type": "code",
   "execution_count": 4,
   "metadata": {},
   "outputs": [
    {
     "name": "stdout",
     "output_type": "stream",
     "text": [
      "https://www.google.com\n",
      "https://www.google.com\n",
      "https://www.google.com\n",
      "https://www.google.com\n",
      "https://www.google.com\n"
     ]
    }
   ],
   "source": [
    "if len(myFavourateWebsites) > 0:\n",
    "    myFavourateWebsites.sort()\n",
    "    i = 0\n",
    "    while i < len(myFavourateWebsites):\n",
    "        print(myFavourateWebsites[i])\n",
    "        i += 1\n"
   ]
  },
  {
   "cell_type": "markdown",
   "metadata": {},
   "source": [
    "## <mark style=\"background-color: #1050D1; color: white; padding: 0 1rem;\">Excercise 2. Password Guess</mark>\n"
   ]
  },
  {
   "cell_type": "code",
   "execution_count": 5,
   "metadata": {},
   "outputs": [
    {
     "name": "stdout",
     "output_type": "stream",
     "text": [
      "Wrong password!, 3 chances left.\n",
      "Wrong password!, 2 chances left.\n",
      "You guessed it right!\n"
     ]
    }
   ],
   "source": [
    "tries = 4\n",
    "mainPassword = 'Mustafa789'\n",
    "inputPassword = input('Write your password: ')\n",
    "\n",
    "while inputPassword != mainPassword:\n",
    "    tries -= 1\n",
    "    print(\n",
    "        f'Wrong password!, {\"Last Chance!\" if tries < 1 else str(tries) + \" chances left.\" }')\n",
    "    inputPassword = input('Write your password: ')\n",
    "    if tries < 1:\n",
    "        break\n",
    "\n",
    "if inputPassword != mainPassword:\n",
    "    print('You\\'re out of tries!')\n",
    "else:\n",
    "    print('You guessed it right!')\n"
   ]
  },
  {
   "cell_type": "markdown",
   "metadata": {},
   "source": []
  },
  {
   "cell_type": "code",
   "execution_count": 7,
   "metadata": {},
   "outputs": [
    {
     "name": "stdout",
     "output_type": "stream",
     "text": [
      "5993533\n"
     ]
    }
   ],
   "source": [
    "num = input('Enter a number')\n",
    "if int(num) > 0:  # Must be Positive\n",
    "    numList = list(num)\n",
    "    for i in range(len(numList)):\n",
    "        numList[i] = int(numList[i])\n",
    "\n",
    "    for i in range(len(numList)):\n",
    "        if numList[i] % 2 == 0:\n",
    "            numList[i] += 1\n",
    "        else:\n",
    "            numList[i] += 2\n",
    "\n",
    "    for i in range(len(numList)):\n",
    "        numList[i] = str(numList[i])\n",
    "    n = int(\"\".join(numList))\n",
    "    print(n)\n",
    "else:\n",
    "    print('Not Positive!')\n"
   ]
  }
 ],
 "metadata": {
  "interpreter": {
   "hash": "8fba8154b0252bca3907b3434358ffda4f5e7cfd4d68fde71816b37dc430d8ed"
  },
  "kernelspec": {
   "display_name": "Python 3.9.2 64-bit",
   "name": "python3"
  },
  "language_info": {
   "codemirror_mode": {
    "name": "ipython",
    "version": 3
   },
   "file_extension": ".py",
   "mimetype": "text/x-python",
   "name": "python",
   "nbconvert_exporter": "python",
   "pygments_lexer": "ipython3",
   "version": "3.9.2"
  },
  "orig_nbformat": 4
 },
 "nbformat": 4,
 "nbformat_minor": 2
}
