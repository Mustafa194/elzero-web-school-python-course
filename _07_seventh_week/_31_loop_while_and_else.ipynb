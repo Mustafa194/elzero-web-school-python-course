{
 "cells": [
  {
   "cell_type": "markdown",
   "metadata": {},
   "source": [
    "# <mark style=\"background-color: cyan; padding: 0 1rem;\">Loop => While</mark>"
   ]
  },
  {
   "cell_type": "markdown",
   "metadata": {},
   "source": [
    "## <mark style=\"background-color: #1050D1; color: white; padding: 0 1rem;\">Syntax</mark>\n",
    "### <code style=\"background-color: #CD6354; color: white; padding: 0 1rem; font: serif;\">while condition_is_true:<br>Code Will Run</code>"
   ]
  },
  {
   "cell_type": "code",
   "execution_count": 2,
   "metadata": {},
   "outputs": [
    {
     "name": "stdout",
     "output_type": "stream",
     "text": [
      "0\n",
      "1\n",
      "2\n",
      "3\n",
      "4\n",
      "5\n",
      "6\n",
      "7\n",
      "8\n",
      "9\n",
      "10\n",
      "11\n",
      "12\n",
      "13\n",
      "14\n",
      "Loop is Done!\n"
     ]
    }
   ],
   "source": [
    "a = 0\n",
    "while a < 15:\n",
    "    print(a)\n",
    "    a += 1\n",
    "print('Loop is Done!')"
   ]
  },
  {
   "cell_type": "code",
   "execution_count": 3,
   "metadata": {},
   "outputs": [],
   "source": [
    "while a < -1:\n",
    "    print('Hello World!')"
   ]
  },
  {
   "cell_type": "markdown",
   "metadata": {},
   "source": [
    "## <mark style=\"background-color: #1050D1; color: white; padding: 0 1rem;\">While Loop Training</mark>"
   ]
  },
  {
   "cell_type": "markdown",
   "metadata": {},
   "source": [
    "### <mark style=\"padding: 0 1rem;\">print the elements in below list each in one line</mark>"
   ]
  },
  {
   "cell_type": "code",
   "execution_count": 1,
   "metadata": {},
   "outputs": [
    {
     "name": "stdout",
     "output_type": "stream",
     "text": [
      "Os\n",
      "Ah\n",
      "Ga\n",
      "Al\n",
      "Ra\n",
      "Sa\n",
      "Ta\n",
      "Ma\n",
      "Mo\n",
      "Wa\n"
     ]
    }
   ],
   "source": [
    "myF = ['Os', 'Ah', 'Ga', 'Al', 'Ra', \"Sa\", 'Ta', 'Ma', \"Mo\", \"Wa\"]\n",
    "\n",
    "a = 0\n",
    "\n",
    "while a < len(myF):\n",
    "    print(myF[a])\n",
    "    a += 1"
   ]
  },
  {
   "cell_type": "markdown",
   "metadata": {},
   "source": [
    "### <mark style=\"padding: 0 1rem;\">print all the element of above list with their position number</mark>"
   ]
  },
  {
   "cell_type": "code",
   "execution_count": 8,
   "metadata": {},
   "outputs": [
    {
     "name": "stdout",
     "output_type": "stream",
     "text": [
      "1 Os\n",
      "2 Ah\n",
      "3 Ga\n",
      "4 Al\n",
      "5 Ra\n",
      "6 Sa\n",
      "7 Ta\n",
      "8 Ma\n",
      "9 Mo\n",
      "10 Wa\n"
     ]
    }
   ],
   "source": [
    "a = 0\n",
    "while a < len(myF):\n",
    "    print(f\"{a + 1} {myF[a]}\")\n",
    "    a += 1"
   ]
  },
  {
   "cell_type": "markdown",
   "metadata": {},
   "source": [
    "## <mark style=\"background-color: #1050D1; color: white; padding: 0 1rem;\">Using else with while</mark>"
   ]
  },
  {
   "cell_type": "markdown",
   "metadata": {},
   "source": [
    "### If the loop terminates we can the block of code in else will be executed"
   ]
  },
  {
   "cell_type": "code",
   "execution_count": 12,
   "metadata": {},
   "outputs": [
    {
     "name": "stdout",
     "output_type": "stream",
     "text": [
      "01 Os\n",
      "02 Ah\n",
      "03 Ga\n",
      "04 Al\n",
      "05 Ra\n",
      "06 Sa\n",
      "07 Ta\n",
      "08 Ma\n",
      "09 Mo\n",
      "10 Wa\n",
      "All elements printed.\n"
     ]
    }
   ],
   "source": [
    "a = 0\n",
    "while a < len(myF):\n",
    "    print(f\"{str(a + 1).zfill(2)} {myF[a]}\")\n",
    "    a += 1\n",
    "else:\n",
    "    print('All elements printed.')"
   ]
  }
 ],
 "metadata": {
  "interpreter": {
   "hash": "8fba8154b0252bca3907b3434358ffda4f5e7cfd4d68fde71816b37dc430d8ed"
  },
  "kernelspec": {
   "display_name": "Python 3.9.2 64-bit",
   "name": "python3"
  },
  "language_info": {
   "codemirror_mode": {
    "name": "ipython",
    "version": 3
   },
   "file_extension": ".py",
   "mimetype": "text/x-python",
   "name": "python",
   "nbconvert_exporter": "python",
   "pygments_lexer": "ipython3",
   "version": "3.9.2"
  },
  "orig_nbformat": 4
 },
 "nbformat": 4,
 "nbformat_minor": 2
}
