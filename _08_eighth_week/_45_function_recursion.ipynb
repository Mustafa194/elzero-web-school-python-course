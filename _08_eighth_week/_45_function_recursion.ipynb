{
 "cells": [
  {
   "cell_type": "markdown",
   "metadata": {},
   "source": [
    "# <mark style=\"background-color: cyan; padding: 0 1rem;\">Function Recursion</mark>"
   ]
  },
  {
   "cell_type": "markdown",
   "metadata": {},
   "source": [
    "## <mark style=\"background-color: #1050D1; color: white; padding: 0 1rem;\">Examples</mark>"
   ]
  },
  {
   "cell_type": "markdown",
   "metadata": {},
   "source": [
    "### <mark style=\"background-color: #CD6354; color: white; padding: 0 1rem;\">Factorial</mark>"
   ]
  },
  {
   "cell_type": "code",
   "execution_count": 4,
   "metadata": {},
   "outputs": [
    {
     "name": "stdout",
     "output_type": "stream",
     "text": [
      "120\n",
      "3628800\n",
      "1\n",
      "1\n",
      "--------------------\n",
      "120\n",
      "3628800\n",
      "1\n",
      "1\n",
      "--------------------\n",
      "120\n",
      "3628800\n",
      "1\n",
      "1\n"
     ]
    }
   ],
   "source": [
    "def fact(num):\n",
    "    if num == 0 or num == 1:\n",
    "        return 1\n",
    "    else:\n",
    "        return num * fact(num - 1)\n",
    "\n",
    "print(fact(5))\n",
    "print(fact(10))\n",
    "print(fact(0))\n",
    "print(fact(1))\n",
    "print('-'*20)\n",
    "\n",
    "def fact2(num):\n",
    "    return 1 if num == 0 or num == 1 else num * fact2(num - 1)\n",
    "\n",
    "print(fact2(5))\n",
    "print(fact2(10))\n",
    "print(fact2(0))\n",
    "print(fact2(1))\n",
    "print('-'*20)\n",
    "\n",
    "def fact3(num):\n",
    "    return num * fact3(num - 1) if num >= 1 else 1\n",
    "\n",
    "print(fact2(5))\n",
    "print(fact2(10))\n",
    "print(fact2(0))\n",
    "print(fact2(1))"
   ]
  },
  {
   "cell_type": "markdown",
   "metadata": {},
   "source": [
    "### <mark style=\"background-color: #CD6354; color: white; padding: 0 1rem;\">Fibonacci Sequence</mark>"
   ]
  },
  {
   "cell_type": "code",
   "execution_count": 6,
   "metadata": {},
   "outputs": [
    {
     "name": "stdout",
     "output_type": "stream",
     "text": [
      "2\n",
      "3\n"
     ]
    },
    {
     "data": {
      "text/plain": [
       "5"
      ]
     },
     "execution_count": 6,
     "metadata": {},
     "output_type": "execute_result"
    }
   ],
   "source": [
    "def fib(n):\n",
    "    if n == 1 or n == 2:\n",
    "        return 1\n",
    "    else:\n",
    "        return fib(n - 1) + fib(n - 2)\n",
    "\n",
    "print(fib(3))\n",
    "\n",
    "def fib2(n):\n",
    "    if n >= 3:\n",
    "        return fib(n - 1) + fib(n - 2)\n",
    "    else:\n",
    "        return 1\n",
    "\n",
    "print(fib2(4))\n",
    "\n",
    "def fib2(n):\n",
    "    return fib(n - 1) + fib(n - 2) if n >= 3 else 1\n",
    "\n",
    "fib2(5)\n"
   ]
  },
  {
   "cell_type": "markdown",
   "metadata": {},
   "source": [
    "### <mark style=\"background-color: #CD6354; color: white; padding: 0 1rem;\">Countdown</mark>"
   ]
  },
  {
   "cell_type": "code",
   "execution_count": 1,
   "metadata": {},
   "outputs": [
    {
     "name": "stdout",
     "output_type": "stream",
     "text": [
      "10\n",
      "9\n",
      "8\n",
      "7\n",
      "6\n",
      "5\n",
      "4\n",
      "3\n",
      "2\n",
      "1\n",
      "0\n"
     ]
    }
   ],
   "source": [
    "def count_down(n):\n",
    "    print(n)\n",
    "    if n == 0:\n",
    "        return\n",
    "    else:\n",
    "        count_down(n - 1)\n",
    "\n",
    "count_down(10)"
   ]
  },
  {
   "cell_type": "markdown",
   "metadata": {},
   "source": [
    "### <mark style=\"background-color: #CD6354; color: white; padding: 0 1rem;\">Removing Duplicated Letters From A String</mark>"
   ]
  },
  {
   "cell_type": "code",
   "execution_count": 1,
   "metadata": {},
   "outputs": [
    {
     "name": "stdout",
     "output_type": "stream",
     "text": [
      "Helo\n",
      "Helo\n"
     ]
    }
   ],
   "source": [
    "def cleanWord(word):\n",
    "    if len(word) == 1:\n",
    "        return word\n",
    "    \n",
    "    if word[0] == word[1]:\n",
    "        # print(f\"\\nPrinted From Condition: {word}\\n\")\n",
    "        return cleanWord(word[1:])\n",
    "    \n",
    "    # print('-' * 80, f\"\\nprinted Before Return\\n\", '-' * 80)\n",
    "    return word[0] + cleanWord(word[1:])\n",
    "\n",
    "print(cleanWord('HHHHHHHHeeeeeeeeeeelllllllllloooooooo'))\n",
    "\n",
    "def cleanWord2(word):\n",
    "    return word if len(word) == 1 else (cleanWord2(word[1:]) if word[0] == word[1] else word[0] + cleanWord2(word[1:]))\n",
    "\n",
    "print(cleanWord2('HHHHHHHHHeeeeeeeellllllllllloooooo'))"
   ]
  },
  {
   "cell_type": "code",
   "execution_count": null,
   "metadata": {},
   "outputs": [],
   "source": []
  }
 ],
 "metadata": {
  "interpreter": {
   "hash": "8fba8154b0252bca3907b3434358ffda4f5e7cfd4d68fde71816b37dc430d8ed"
  },
  "kernelspec": {
   "display_name": "Python 3.9.2 64-bit",
   "name": "python3"
  },
  "language_info": {
   "codemirror_mode": {
    "name": "ipython",
    "version": 3
   },
   "file_extension": ".py",
   "mimetype": "text/x-python",
   "name": "python",
   "nbconvert_exporter": "python",
   "pygments_lexer": "ipython3",
   "version": "3.9.2"
  },
  "orig_nbformat": 4
 },
 "nbformat": 4,
 "nbformat_minor": 2
}
