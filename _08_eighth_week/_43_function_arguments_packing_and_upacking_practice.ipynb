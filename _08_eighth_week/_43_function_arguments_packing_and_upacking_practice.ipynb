{
 "cells": [
  {
   "cell_type": "markdown",
   "metadata": {},
   "source": [
    "# <mark style=\"background-color: cyan; padding: 0 1rem;\">Function Packing, Unpacking Arguments Practice</mark>"
   ]
  },
  {
   "cell_type": "markdown",
   "metadata": {},
   "source": [
    "## <mark style=\"background-color: #1050D1; color: white; padding: 0 1rem;\">Exercises</mark>"
   ]
  },
  {
   "cell_type": "markdown",
   "metadata": {},
   "source": [
    "### <mark style=\"background-color: #CD6354; color: white; padding: 0 1rem;\">Exercise 1</mark>"
   ]
  },
  {
   "cell_type": "code",
   "execution_count": 4,
   "metadata": {},
   "outputs": [
    {
     "name": "stdout",
     "output_type": "stream",
     "text": [
      "Hello Mustafa\n",
      "Skills without progress:\n",
      "\t* ('Fast Typing', 'Self Motivated')\n",
      "\t* {'Html': '65%', 'CSS': '40%', 'JS': '30%', 'Python': '30%', 'C++': '50%'}\n",
      "Skills with progress:\n",
      "Hello Mustafa\n",
      "Skills without progress:\n",
      "\t* Fast Typing\n",
      "\t* Self Motivated\n",
      "Skills with progress:\n",
      "\t* Html: 65%\n",
      "\t* CSS: 40%\n",
      "\t* JS: 30%\n",
      "\t* Python: 30%\n",
      "\t* C++: 50%\n"
     ]
    }
   ],
   "source": [
    "mySkills_with_progress = {\n",
    "\t'Html': '65%',\n",
    "\t'CSS': '40%',\n",
    "\t'JS': '30%',\n",
    "\t'Python': '30%',\n",
    "\t'C++': '50%'\n",
    "}\n",
    "\n",
    "mySkills_without_progress = ('Fast Typing', 'Self Motivated')\n",
    "\n",
    "def show_skills(name, *no_progress_skills, **skills_with_progress):\n",
    "    print(f\"Hello {name.title()}\\nSkills without progress:\")\n",
    "    for no_progress_skill in no_progress_skills:\n",
    "        print(f\"\\t* {no_progress_skill}\")\n",
    "    print('Skills with progress:')\n",
    "    for skill_with_progress_key, skill_with_progress_value in skills_with_progress.items():\n",
    "        print(f\"\\t* {skill_with_progress_key}: {skill_with_progress_value}\")\n",
    "\n",
    "show_skills('Mustafa', mySkills_without_progress, mySkills_with_progress)\n",
    "show_skills('Mustafa', *mySkills_without_progress, **mySkills_with_progress)"
   ]
  },
  {
   "cell_type": "markdown",
   "metadata": {},
   "source": [
    "### <mark style=\"background-color: #CD6354; color: white; padding: 0 1rem;\">Exercise 2</mark>"
   ]
  },
  {
   "cell_type": "markdown",
   "metadata": {},
   "source": [
    "## <mark style=\"background-color: #1050D1; color: white; padding: 0 1rem;\">This function is the answer of the below question</mark>"
   ]
  },
  {
   "cell_type": "code",
   "execution_count": 1,
   "metadata": {},
   "outputs": [],
   "source": [
    "def get_score(**obj):\n",
    "    for subj_key, subj_value in obj.items():\n",
    "        print(f\"{subj_key} => {subj_value}\")\n",
    "\n",
    "def get_people_scores(name = \"\", **subjects):\n",
    "    if name == \"\":\n",
    "        if len(subjects) != 0:\n",
    "            get_score(**subjects)\n",
    "    else:\n",
    "        if len(subjects) == 0:\n",
    "            print(f\"Hello {name.capitalize()} you have no score to show\")\n",
    "        else:\n",
    "            print(f\"Hello {name.capitalize()} your score table is:\")\n",
    "            get_score(**subjects)"
   ]
  },
  {
   "cell_type": "markdown",
   "metadata": {},
   "source": [
    "## <mark style=\"background-color: #1050D1; color: white; padding: 0 1rem;\">Write a function that output the below results when from the given code below</mark>"
   ]
  },
  {
   "cell_type": "code",
   "execution_count": 2,
   "metadata": {},
   "outputs": [
    {
     "name": "stdout",
     "output_type": "stream",
     "text": [
      "Hello Osama your score table is:\n",
      "Math => 90\n",
      "Science => 80\n",
      "Language => 70\n"
     ]
    }
   ],
   "source": [
    "get_people_scores(\"Osama\", Math=90, Science=80, Language=70)"
   ]
  },
  {
   "cell_type": "code",
   "execution_count": 3,
   "metadata": {},
   "outputs": [
    {
     "name": "stdout",
     "output_type": "stream",
     "text": [
      "Hello Mahmoud your score table is:\n",
      "Logic => 70\n",
      "Problems => 60\n"
     ]
    }
   ],
   "source": [
    "get_people_scores(\"Mahmoud\", Logic=70, Problems=60)"
   ]
  },
  {
   "cell_type": "code",
   "execution_count": 4,
   "metadata": {},
   "outputs": [
    {
     "name": "stdout",
     "output_type": "stream",
     "text": [
      "Logic => 70\n",
      "Problems => 60\n"
     ]
    }
   ],
   "source": [
    "get_people_scores(Logic=70, Problems=60)"
   ]
  },
  {
   "cell_type": "code",
   "execution_count": 5,
   "metadata": {},
   "outputs": [
    {
     "name": "stdout",
     "output_type": "stream",
     "text": [
      "Hello Ahmed you have no score to show\n"
     ]
    }
   ],
   "source": [
    "get_people_scores(\"Ahmed\")"
   ]
  }
 ],
 "metadata": {
  "interpreter": {
   "hash": "8fba8154b0252bca3907b3434358ffda4f5e7cfd4d68fde71816b37dc430d8ed"
  },
  "kernelspec": {
   "display_name": "Python 3.9.2 64-bit",
   "name": "python3"
  },
  "language_info": {
   "codemirror_mode": {
    "name": "ipython",
    "version": 3
   },
   "file_extension": ".py",
   "mimetype": "text/x-python",
   "name": "python",
   "nbconvert_exporter": "python",
   "pygments_lexer": "ipython3",
   "version": "3.9.2"
  },
  "orig_nbformat": 4
 },
 "nbformat": 4,
 "nbformat_minor": 2
}
