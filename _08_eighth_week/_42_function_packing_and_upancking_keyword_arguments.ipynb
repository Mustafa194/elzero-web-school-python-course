{
 "cells": [
  {
   "cell_type": "markdown",
   "metadata": {},
   "source": [
    "# <mark style=\"background-color: cyan; padding: 0 1rem;\">Packing and Unpacking Keyword Arguments (**KWArgs)</mark>"
   ]
  },
  {
   "cell_type": "markdown",
   "metadata": {},
   "source": [
    "## <mark style=\"background-color: #1050D1; color: white; padding: 0 1rem;\">Notes</mark>"
   ]
  },
  {
   "cell_type": "markdown",
   "metadata": {},
   "source": [
    "### <mark style=\"padding: 0 1rem\">The type of packed arguments is \"Tuple\"</mark>"
   ]
  },
  {
   "cell_type": "code",
   "execution_count": 8,
   "metadata": {},
   "outputs": [
    {
     "name": "stdout",
     "output_type": "stream",
     "text": [
      "The type of Skills: <class 'tuple'>\n",
      "C++\n",
      "Game Development Using Unreal Engine\n",
      "OpenCV\n"
     ]
    }
   ],
   "source": [
    "def showSkills(*skills):\n",
    "    print(f\"The type of Skills: {type(skills)}\")\n",
    "    for skill in skills:\n",
    "        print(skill)\n",
    "\n",
    "showSkills('C++', 'Game Development Using Unreal Engine', 'OpenCV')"
   ]
  },
  {
   "cell_type": "markdown",
   "metadata": {},
   "source": [
    "### <mark style=\"padding: 0 1rem\">Note</mark>\n",
    "* ### If you write as below, the tuple will be counted as one element"
   ]
  },
  {
   "cell_type": "code",
   "execution_count": 17,
   "metadata": {},
   "outputs": [
    {
     "name": "stdout",
     "output_type": "stream",
     "text": [
      "The type of Skills: <class 'tuple'>\n",
      "('C++', 'Game Development Using Unreal Engine', 'OpenCV')\n"
     ]
    }
   ],
   "source": [
    "def showSkills(*skills):\n",
    "    print(f\"The type of Skills: {type(skills)}\")\n",
    "    for skill in skills:\n",
    "        print(skill)\n",
    "\n",
    "myTuple = ('C++', 'Game Development Using Unreal Engine', 'OpenCV')\n",
    "showSkills(myTuple)"
   ]
  },
  {
   "cell_type": "markdown",
   "metadata": {},
   "source": [
    "### <mark style=\"padding: 0 1rem\">But if you write like this it won't count the tuple as one element</mark>"
   ]
  },
  {
   "cell_type": "code",
   "execution_count": 18,
   "metadata": {},
   "outputs": [
    {
     "name": "stdout",
     "output_type": "stream",
     "text": [
      "The type of Skills: <class 'tuple'>\n",
      "C++\n",
      "Game Development Using Unreal Engine\n",
      "OpenCV\n"
     ]
    }
   ],
   "source": [
    "def showSkills(*skills):\n",
    "    print(f\"The type of Skills: {type(skills)}\")\n",
    "    for skill in skills:\n",
    "        print(skill)\n",
    "\n",
    "myTuple = ('C++', 'Game Development Using Unreal Engine', 'OpenCV')\n",
    "showSkills(*myTuple)"
   ]
  },
  {
   "cell_type": "markdown",
   "metadata": {},
   "source": [
    "### <mark style=\"padding: 0 1rem\">When Using \"**Args\" it Orders a Dictionary Arguments</mark>"
   ]
  },
  {
   "cell_type": "code",
   "execution_count": 2,
   "metadata": {},
   "outputs": [
    {
     "name": "stdout",
     "output_type": "stream",
     "text": [
      "The type of Skills: <class 'dict'>\n",
      "HTML: 65%\n",
      "CSS: 40%\n",
      "CPP: 50%\n"
     ]
    }
   ],
   "source": [
    "def showSkills(**skills):\n",
    "    print(f\"The type of Skills: {type(skills)}\")\n",
    "    for skill, value in skills.items():\n",
    "        print(f\"{skill}: {value}\")\n",
    "\n",
    "showSkills(HTML=\"65%\", CSS=\"40%\", CPP=\"50%\")"
   ]
  },
  {
   "cell_type": "markdown",
   "metadata": {},
   "source": [
    "### Since the **Args is from dictionary type, lets create a dictionary and pass it as an argument"
   ]
  },
  {
   "cell_type": "code",
   "execution_count": 3,
   "metadata": {},
   "outputs": [
    {
     "ename": "TypeError",
     "evalue": "showSkills() takes 0 positional arguments but 1 was given",
     "output_type": "error",
     "traceback": [
      "\u001b[1;31m---------------------------------------------------------------------------\u001b[0m",
      "\u001b[1;31mTypeError\u001b[0m                                 Traceback (most recent call last)",
      "\u001b[1;32m~\\AppData\\Local\\Temp/ipykernel_3932/1959676383.py\u001b[0m in \u001b[0;36m<module>\u001b[1;34m\u001b[0m\n\u001b[0;32m      7\u001b[0m }\n\u001b[0;32m      8\u001b[0m \u001b[1;33m\u001b[0m\u001b[0m\n\u001b[1;32m----> 9\u001b[1;33m \u001b[0mshowSkills\u001b[0m\u001b[1;33m(\u001b[0m\u001b[0mmySkills\u001b[0m\u001b[1;33m)\u001b[0m\u001b[1;33m\u001b[0m\u001b[1;33m\u001b[0m\u001b[0m\n\u001b[0m",
      "\u001b[1;31mTypeError\u001b[0m: showSkills() takes 0 positional arguments but 1 was given"
     ]
    }
   ],
   "source": [
    "mySkills = {\n",
    "\t'HTML':'65%',\n",
    "\t'CSS':'40%',\n",
    "\t'C++':'50%',\n",
    "\t'JS':'40%',\n",
    "\t'Python':'40%'\n",
    "}\n",
    "\n",
    "showSkills(mySkills)"
   ]
  },
  {
   "cell_type": "markdown",
   "metadata": {},
   "source": [
    "### <mark style=\"padding: 0 1rem\">The Previous Example Threw an Error</mark>\n",
    "### <mark style=\"padding: 0 1rem\">But the Next Example Won't Throw an Error</mark>"
   ]
  },
  {
   "cell_type": "code",
   "execution_count": 4,
   "metadata": {},
   "outputs": [
    {
     "name": "stdout",
     "output_type": "stream",
     "text": [
      "The type of Skills: <class 'dict'>\n",
      "HTML: 65%\n",
      "CSS: 40%\n",
      "C++: 50%\n",
      "JS: 40%\n",
      "Python: 40%\n"
     ]
    }
   ],
   "source": [
    "showSkills(**mySkills)"
   ]
  }
 ],
 "metadata": {
  "interpreter": {
   "hash": "8fba8154b0252bca3907b3434358ffda4f5e7cfd4d68fde71816b37dc430d8ed"
  },
  "kernelspec": {
   "display_name": "Python 3.9.2 64-bit",
   "name": "python3"
  },
  "language_info": {
   "codemirror_mode": {
    "name": "ipython",
    "version": 3
   },
   "file_extension": ".py",
   "mimetype": "text/x-python",
   "name": "python",
   "nbconvert_exporter": "python",
   "pygments_lexer": "ipython3",
   "version": "3.9.2"
  },
  "orig_nbformat": 4
 },
 "nbformat": 4,
 "nbformat_minor": 2
}
