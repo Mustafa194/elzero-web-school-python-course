{
 "cells": [
  {
   "cell_type": "markdown",
   "metadata": {},
   "source": [
    "# <mark style=\"background-color: cyan; padding: 0 1rem;\">Function Packing, Unpacking Arguments *Args</mark>"
   ]
  },
  {
   "cell_type": "markdown",
   "metadata": {},
   "source": [
    "## <mark style=\"background-color: #1050D1; color: white; padding: 0 1rem;\">Unpacking Arguments</mark>"
   ]
  },
  {
   "cell_type": "code",
   "execution_count": 10,
   "metadata": {},
   "outputs": [
    {
     "name": "stdout",
     "output_type": "stream",
     "text": [
      "1 2 3 4\n"
     ]
    }
   ],
   "source": [
    "myList = [1, 2, 3, 4]\n",
    "print(*myList)"
   ]
  },
  {
   "cell_type": "markdown",
   "metadata": {},
   "source": [
    "## <mark style=\"background-color: #1050D1; color: white; padding: 0 1rem;\">Packing Arguments</mark>"
   ]
  },
  {
   "cell_type": "code",
   "execution_count": 11,
   "metadata": {},
   "outputs": [
    {
     "name": "stdout",
     "output_type": "stream",
     "text": [
      "Hello Mustafa\n",
      "Hello Ahmed\n",
      "Hello Mohammed\n",
      "Hello Salih\n"
     ]
    }
   ],
   "source": [
    "def sayHello(n1, n2, n3, n4):\n",
    "    people = [n1, n2, n3, n4]\n",
    "    for person in people:\n",
    "        print(f\"Hello {person.title()}\")\n",
    "\n",
    "sayHello('Mustafa', \"Ahmed\", 'Mohammed', 'Salih')"
   ]
  },
  {
   "cell_type": "markdown",
   "metadata": {},
   "source": [
    "### <mark style=\"padding: 0 1rem\">If we add fifth argument when calling sayHello() function It won't work</mark>"
   ]
  },
  {
   "cell_type": "code",
   "execution_count": 12,
   "metadata": {},
   "outputs": [
    {
     "ename": "TypeError",
     "evalue": "sayHello() takes 4 positional arguments but 5 were given",
     "output_type": "error",
     "traceback": [
      "\u001b[1;31m---------------------------------------------------------------------------\u001b[0m",
      "\u001b[1;31mTypeError\u001b[0m                                 Traceback (most recent call last)",
      "\u001b[1;32m~\\AppData\\Local\\Temp/ipykernel_7844/731517744.py\u001b[0m in \u001b[0;36m<module>\u001b[1;34m\u001b[0m\n\u001b[1;32m----> 1\u001b[1;33m \u001b[0msayHello\u001b[0m\u001b[1;33m(\u001b[0m\u001b[1;34m'Mustafa'\u001b[0m\u001b[1;33m,\u001b[0m \u001b[1;34m\"Ahmed\"\u001b[0m\u001b[1;33m,\u001b[0m \u001b[1;34m'Mohammed'\u001b[0m\u001b[1;33m,\u001b[0m \u001b[1;34m'Salih'\u001b[0m\u001b[1;33m,\u001b[0m \u001b[1;34m\"Abdulraheem\"\u001b[0m\u001b[1;33m)\u001b[0m\u001b[1;33m\u001b[0m\u001b[1;33m\u001b[0m\u001b[0m\n\u001b[0m",
      "\u001b[1;31mTypeError\u001b[0m: sayHello() takes 4 positional arguments but 5 were given"
     ]
    }
   ],
   "source": [
    "sayHello('Mustafa', \"Ahmed\", 'Mohammed', 'Salih', \"Abdulraheem\")"
   ]
  },
  {
   "cell_type": "markdown",
   "metadata": {},
   "source": [
    "### <mark style=\"background-color: #CD6354; color: white; padding: 0 1rem;\">Packing the arguments in sayHello() function</mark>"
   ]
  },
  {
   "cell_type": "code",
   "execution_count": 13,
   "metadata": {},
   "outputs": [
    {
     "name": "stdout",
     "output_type": "stream",
     "text": [
      "Hello Mustafa\n",
      "Hello Ahmed\n",
      "Hello Mohammed\n",
      "Hello Salih\n",
      "Hello Abdulraheem\n"
     ]
    }
   ],
   "source": [
    "def sayHello(*people):\n",
    "    for person in people:\n",
    "        print(f\"Hello {person.title()}\")\n",
    "\n",
    "\n",
    "sayHello('Mustafa', \"Ahmed\", 'Mohammed', 'Salih', \"Abdulraheem\")\n"
   ]
  },
  {
   "cell_type": "markdown",
   "metadata": {},
   "source": [
    "## <mark style=\"background-color: #1050D1; color: white; padding: 0 1rem;\">Notes</mark>\n",
    "* ### Unpacking Arguments is done during the function call\n",
    "* ### Packing Arguments is done at the function definition"
   ]
  },
  {
   "cell_type": "markdown",
   "metadata": {},
   "source": [
    "### <mark style=\"background-color: #CD6354; color: white; padding: 0 1rem;\">Other Examples</mark>"
   ]
  },
  {
   "cell_type": "code",
   "execution_count": 14,
   "metadata": {},
   "outputs": [
    {
     "name": "stdout",
     "output_type": "stream",
     "text": [
      "Hello Mustafa\n",
      "Hello Ahmed\n",
      "Hello Mohammed\n",
      "Hello Salih\n",
      "Hello Mustafa\n",
      "Hello Ahmed\n",
      "Hello Mohammed\n"
     ]
    }
   ],
   "source": [
    "sayHello('Mustafa', \"Ahmed\", 'Mohammed', 'Salih')\n",
    "sayHello('Mustafa', \"Ahmed\", 'Mohammed')"
   ]
  },
  {
   "cell_type": "markdown",
   "metadata": {},
   "source": [
    "## <mark style=\"background-color: #1050D1; color: white; padding: 0 1rem;\">Examples</mark>"
   ]
  },
  {
   "cell_type": "markdown",
   "metadata": {},
   "source": [
    "### <mark style=\"background-color: #CD6354; color: white; padding: 0 1rem;\">Example 1</mark>"
   ]
  },
  {
   "cell_type": "code",
   "execution_count": 24,
   "metadata": {},
   "outputs": [
    {
     "name": "stdout",
     "output_type": "stream",
     "text": [
      "Hello Mustafa\n",
      "Your Skills Are:\n",
      "                * HTML\n",
      "                * CSS\n",
      "                * JS\n",
      "                * Python\n",
      "                * C++\n"
     ]
    }
   ],
   "source": [
    "def showDetails(name, *skills):\n",
    "    print(f\"Hello {name}\")\n",
    "    myText = 'Your Skills Are:' # this is just for decoration\n",
    "    print(myText)\n",
    "    for skill in skills:\n",
    "        print(f\"\\t* {skill}\".expandtabs(len(myText)))\n",
    "\n",
    "showDetails('Mustafa', 'HTML', 'CSS', \"JS\", \"Python\", \"C++\")"
   ]
  }
 ],
 "metadata": {
  "interpreter": {
   "hash": "8fba8154b0252bca3907b3434358ffda4f5e7cfd4d68fde71816b37dc430d8ed"
  },
  "kernelspec": {
   "display_name": "Python 3.9.2 64-bit",
   "name": "python3"
  },
  "language_info": {
   "codemirror_mode": {
    "name": "ipython",
    "version": 3
   },
   "file_extension": ".py",
   "mimetype": "text/x-python",
   "name": "python",
   "nbconvert_exporter": "python",
   "pygments_lexer": "ipython3",
   "version": "3.9.2"
  },
  "orig_nbformat": 4
 },
 "nbformat": 4,
 "nbformat_minor": 2
}
