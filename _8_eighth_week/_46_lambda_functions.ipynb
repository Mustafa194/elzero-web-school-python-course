{
 "cells": [
  {
   "cell_type": "markdown",
   "metadata": {},
   "source": [
    "# <mark style=\"background-color: cyan; padding: 0 1rem;\">Lambda Functions OR Anonymous Functions</mark>"
   ]
  },
  {
   "cell_type": "markdown",
   "metadata": {},
   "source": [
    "## <mark style=\"background-color: #1050D1; color: white; padding: 0 1rem;\">Note</mark>"
   ]
  },
  {
   "cell_type": "markdown",
   "metadata": {},
   "source": [
    "1. ### It has no name.\n",
    "2. ### You can call it inline without defining it.\n",
    "3. ### You can use it in return data from another function.\n",
    "4. ### Lambda used for simple functions and \"def\" handles large tasks.\n",
    "5. ### Lambda is one single expression, but not block of code.\n",
    "6. ### Lambda type is function"
   ]
  },
  {
   "cell_type": "code",
   "execution_count": 1,
   "metadata": {},
   "outputs": [
    {
     "name": "stdout",
     "output_type": "stream",
     "text": [
      "Hello Mustafa\n",
      "Hello Ahmed\n",
      "sayHello\n",
      "<lambda>\n"
     ]
    }
   ],
   "source": [
    "def sayHello(name):\n",
    "    return f\"Hello {name}\"\n",
    "\n",
    "print(sayHello('Mustafa'))\n",
    "\n",
    "hello = lambda name: f\"Hello {name}\"\n",
    "\n",
    "print(hello('Ahmed'))\n",
    "\n",
    "print(sayHello.__name__)\n",
    "print(hello.__name__)"
   ]
  },
  {
   "cell_type": "code",
   "execution_count": 1,
   "metadata": {},
   "outputs": [
    {
     "name": "stdout",
     "output_type": "stream",
     "text": [
      "Hello Mustafa, you're 20 years old.\n",
      "Hello Ahmed, you're 55 years old.\n",
      "<class 'function'>\n",
      "<class 'function'>\n"
     ]
    }
   ],
   "source": [
    "def sayHello(name, age):\n",
    "    return f\"Hello {name}, you're {age} years old.\"\n",
    "\n",
    "print(sayHello('Mustafa', 20))\n",
    "\n",
    "hello = lambda name, age: f\"Hello {name}, you're {age} years old.\"\n",
    "\n",
    "print(hello('Ahmed', 55))\n",
    "\n",
    "print(type(hello))\n",
    "print(type(sayHello))"
   ]
  }
 ],
 "metadata": {
  "interpreter": {
   "hash": "8fba8154b0252bca3907b3434358ffda4f5e7cfd4d68fde71816b37dc430d8ed"
  },
  "kernelspec": {
   "display_name": "Python 3.9.2 64-bit",
   "name": "python3"
  },
  "language_info": {
   "codemirror_mode": {
    "name": "ipython",
    "version": 3
   },
   "file_extension": ".py",
   "mimetype": "text/x-python",
   "name": "python",
   "nbconvert_exporter": "python",
   "pygments_lexer": "ipython3",
   "version": "3.9.2"
  },
  "orig_nbformat": 4
 },
 "nbformat": 4,
 "nbformat_minor": 2
}
