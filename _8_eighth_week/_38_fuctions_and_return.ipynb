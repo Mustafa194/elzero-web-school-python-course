{
 "cells": [
  {
   "cell_type": "markdown",
   "metadata": {},
   "source": [
    "# <mark style=\"background-color: cyan; padding: 0 1rem;\">Functions and Function Return</mark>"
   ]
  },
  {
   "cell_type": "markdown",
   "metadata": {},
   "source": [
    "## <mark style=\"background-color: #1050D1; color: white; padding: 0 1rem;\">Notes:</mark>"
   ]
  },
  {
   "cell_type": "markdown",
   "metadata": {},
   "source": [
    "<ol>\n",
    "<h3> <Li> A function is a reusable block of code that does a specific task. </li> </h3>\n",
    "<h3> <Li> A function run when you call it. </li> </h3>\n",
    "<h3> <Li> A function accept elements to deal with called (<mark>Parameters</mark>). </li> </h3>\n",
    "<h3> <Li> the elements passed to the function when it is called, called (<mark>Arguments</mark>). </li> </h3>\n",
    "<h3> <Li> Some functions can do tasks and return data after their job is finished. </li> </h3>\n",
    "<h3> <Li> Some functions can do tasks and without returning data when their job is finished. </li> </h3>\n",
    "<h3> <Li> The functions are created to prevent the DRY (<mark>Don't Repeat Yourself</mark>) concept. </li> </h3>\n",
    "<h3> <Li> There are two types of functions. \n",
    "\t<ul style=\"list-style-type: disc;\">\n",
    "\t\t<li>Built-In Functions.</li>\n",
    "\t\t<li>User Defined Functions.</li>\n",
    "\t</ul>\n",
    "</li> </h3>\n",
    "</ol>"
   ]
  },
  {
   "cell_type": "markdown",
   "metadata": {},
   "source": [
    "## <mark style=\"background-color: #1050D1; color: white; padding: 0 1rem;\">Syntax</mark>"
   ]
  },
  {
   "cell_type": "markdown",
   "metadata": {},
   "source": [
    "### def function_name(parameter_if_needed):\n",
    "### &nbsp;&nbsp;&nbsp;&nbsp;# block of code"
   ]
  },
  {
   "cell_type": "markdown",
   "metadata": {},
   "source": [
    "## <mark style=\"background-color: #1050D1; color: white; padding: 0 1rem;\">Examples</mark>"
   ]
  },
  {
   "cell_type": "markdown",
   "metadata": {},
   "source": [
    "### <mark style=\"background-color: #CD6354; color: white; padding: 0 1rem;\">Example for functions with no return</mark>"
   ]
  },
  {
   "cell_type": "code",
   "execution_count": 1,
   "metadata": {},
   "outputs": [
    {
     "name": "stdout",
     "output_type": "stream",
     "text": [
      "Hello from the inside function\n"
     ]
    }
   ],
   "source": [
    "def printHello():\n",
    "    print('Hello from inside the function')\n",
    "\n",
    "printHello()"
   ]
  },
  {
   "cell_type": "markdown",
   "metadata": {},
   "source": [
    "### <mark style=\"background-color: #CD6354; color: white; padding: 0 1rem;\">Example for functions with return</mark>"
   ]
  },
  {
   "cell_type": "code",
   "execution_count": 3,
   "metadata": {},
   "outputs": [
    {
     "name": "stdout",
     "output_type": "stream",
     "text": [
      "Hello from inside the function\n",
      "My Variable: Hello from inside the function\n"
     ]
    }
   ],
   "source": [
    "def printHello2():\n",
    "    return 'Hello from inside the function'\n",
    "\n",
    "print(printHello2()) # you can print the returned value to another function that needs a parameter\n",
    "\n",
    "myVar = printHello2() # you can stor the returned value into variables\n",
    "print(f\"My Variable: {myVar}\")"
   ]
  }
 ],
 "metadata": {
  "interpreter": {
   "hash": "8fba8154b0252bca3907b3434358ffda4f5e7cfd4d68fde71816b37dc430d8ed"
  },
  "kernelspec": {
   "display_name": "Python 3.9.2 64-bit",
   "name": "python3"
  },
  "language_info": {
   "codemirror_mode": {
    "name": "ipython",
    "version": 3
   },
   "file_extension": ".py",
   "mimetype": "text/x-python",
   "name": "python",
   "nbconvert_exporter": "python",
   "pygments_lexer": "ipython3",
   "version": "3.9.2"
  },
  "orig_nbformat": 4
 },
 "nbformat": 4,
 "nbformat_minor": 2
}
