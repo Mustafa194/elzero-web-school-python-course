{
 "cells": [
  {
   "cell_type": "markdown",
   "metadata": {},
   "source": [
    "# <mark style=\"background-color: cyan\">Numbers</mark>"
   ]
  },
  {
   "cell_type": "markdown",
   "metadata": {},
   "source": [
    "## <mark style=\"background-color: #1050D1; color: white\">Types of Numbers</mark>\n",
    "1. ### int\n",
    "2. ### float\n",
    "3. ### complex"
   ]
  },
  {
   "cell_type": "code",
   "execution_count": null,
   "metadata": {},
   "outputs": [],
   "source": [
    "print(type(100)) # int\n",
    "print(type(10.00)) # float\n",
    "print(type(2+3j))  # complex"
   ]
  },
  {
   "cell_type": "code",
   "execution_count": 1,
   "metadata": {},
   "outputs": [
    {
     "name": "stdout",
     "output_type": "stream",
     "text": [
      "The real part is: 12.0\n",
      "The imaginary part is: -2.0\n"
     ]
    }
   ],
   "source": [
    "complexNum = 12-2j\n",
    "print(f\"The real part is: {complexNum.real}\") # prints the real part\n",
    "print(f\"The imaginary part is: {complexNum.imag}\") #prints the imaginary part"
   ]
  },
  {
   "cell_type": "markdown",
   "metadata": {},
   "source": [
    "## <mark style=\"background-color: #1050D1; color: white\">Conversion Between Numbers</mark>"
   ]
  },
  {
   "cell_type": "markdown",
   "metadata": {},
   "source": [
    "1. ### int => float or complex\n",
    "2. ### float => int or complex\n",
    "3. ### no conversion between complex to int or float"
   ]
  },
  {
   "cell_type": "code",
   "execution_count": null,
   "metadata": {},
   "outputs": [],
   "source": [
    "print(float(100)) # int => float\n",
    "print(complex(100)) # int => complex\n",
    "print(int(10.8)) # float => int\n",
    "print(complex(10.8)) # float => complex"
   ]
  }
 ],
 "metadata": {
  "interpreter": {
   "hash": "8fba8154b0252bca3907b3434358ffda4f5e7cfd4d68fde71816b37dc430d8ed"
  },
  "kernelspec": {
   "display_name": "Python 3.9.2 64-bit",
   "name": "python3"
  },
  "language_info": {
   "codemirror_mode": {
    "name": "ipython",
    "version": 3
   },
   "file_extension": ".py",
   "mimetype": "text/x-python",
   "name": "python",
   "nbconvert_exporter": "python",
   "pygments_lexer": "ipython3",
   "version": "3.9.2"
  },
  "orig_nbformat": 4
 },
 "nbformat": 4,
 "nbformat_minor": 2
}
