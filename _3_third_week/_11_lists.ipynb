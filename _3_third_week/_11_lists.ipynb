{
 "cells": [
  {
   "cell_type": "markdown",
   "metadata": {},
   "source": [
    "# <mark style=\"background-color: cyan\">Lists</mark>"
   ]
  },
  {
   "cell_type": "markdown",
   "metadata": {},
   "source": [
    "## <mark style=\"background-color: #1050D1; color: white\">Note: list is different from array</mark>"
   ]
  },
  {
   "cell_type": "markdown",
   "metadata": {},
   "source": [
    "## <mark style=\"background-color: #1050D1; color: white\">Notes</mark>\n",
    "1. ### List elements are enclosed in square brackets\n",
    "2. ### Uses index to access an element\n",
    "3. ### List is mutable, this means its elements can be affected when using its methods\n",
    "4. ### List elements are not unique\n",
    "5. ### List can contain different types of data such as: in one list we might have elements of string type, or integer type ...etc"
   ]
  },
  {
   "cell_type": "code",
   "execution_count": 4,
   "metadata": {},
   "outputs": [
    {
     "name": "stdout",
     "output_type": "stream",
     "text": [
      "['one', 1, 100.5, True, [1, 2, 3, 4]]\n"
     ]
    }
   ],
   "source": [
    "myList = [\"one\", 1, 100.5, True, [1, 2, 3, 4]]\n",
    "print(myList)"
   ]
  },
  {
   "cell_type": "markdown",
   "metadata": {},
   "source": [
    "### <mark style=\"padding: 0 1rem\">Note: the indexing and slicing is similar to strings</mark>"
   ]
  },
  {
   "cell_type": "markdown",
   "metadata": {},
   "source": [
    "## <mark style=\"background-color: #1050D1; color: white\">Indexing</mark>"
   ]
  },
  {
   "cell_type": "code",
   "execution_count": 5,
   "metadata": {},
   "outputs": [
    {
     "name": "stdout",
     "output_type": "stream",
     "text": [
      "1\n",
      "[1, 2, 3, 4]\n",
      "True\n"
     ]
    }
   ],
   "source": [
    "print(myList[1]) # 1\n",
    "print(myList[-1]) # True\n",
    "print(myList[-2]) # 100.5"
   ]
  },
  {
   "cell_type": "markdown",
   "metadata": {},
   "source": [
    "## <mark style=\"background-color: #1050D1; color: white\">Slicing</mark>"
   ]
  },
  {
   "cell_type": "code",
   "execution_count": 6,
   "metadata": {},
   "outputs": [
    {
     "name": "stdout",
     "output_type": "stream",
     "text": [
      "[1, 100.5]\n",
      "['one', 1, 100.5, True]\n",
      "[1, 100.5, True, [1, 2, 3, 4]]\n",
      "['one', 1, 100.5]\n",
      "[1, 100.5]\n",
      "['one', 100.5, [1, 2, 3, 4]]\n"
     ]
    }
   ],
   "source": [
    "print(myList[1:3])  # prints the elements of index 1, and 2\n",
    "print(myList[:4]) # prints the element of index 1, 2, and 3\n",
    "print(myList[1:])\n",
    "print(myList[:3])\n",
    "print(myList[1:3])\n",
    "print(myList[::2])"
   ]
  },
  {
   "cell_type": "markdown",
   "metadata": {},
   "source": [
    "## <mark style=\"background-color: #1050D1; color: white\">Changing the List Elements Values</mark>"
   ]
  },
  {
   "cell_type": "code",
   "execution_count": 7,
   "metadata": {},
   "outputs": [
    {
     "name": "stdout",
     "output_type": "stream",
     "text": [
      "['one', 5, 100.5, True, [1, 2, 3, 4]]\n",
      "['one', 5, 'M', 'u', 's', 't', 'a', 'f', 'a']\n"
     ]
    }
   ],
   "source": [
    "myList[1] = 5\n",
    "print(myList)\n",
    "\n",
    "myList[2:] = 'Mustafa'\n",
    "print(myList)"
   ]
  }
 ],
 "metadata": {
  "interpreter": {
   "hash": "8fba8154b0252bca3907b3434358ffda4f5e7cfd4d68fde71816b37dc430d8ed"
  },
  "kernelspec": {
   "display_name": "Python 3.9.2 64-bit",
   "name": "python3"
  },
  "language_info": {
   "codemirror_mode": {
    "name": "ipython",
    "version": 3
   },
   "file_extension": ".py",
   "mimetype": "text/x-python",
   "name": "python",
   "nbconvert_exporter": "python",
   "pygments_lexer": "ipython3",
   "version": "3.9.2"
  },
  "orig_nbformat": 4
 },
 "nbformat": 4,
 "nbformat_minor": 2
}
