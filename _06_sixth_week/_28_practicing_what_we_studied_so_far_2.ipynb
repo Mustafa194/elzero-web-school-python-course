{
 "cells": [
  {
   "cell_type": "markdown",
   "metadata": {},
   "source": [
    "# <mark style=\"background-color: cyan\">Exercising</mark>"
   ]
  },
  {
   "cell_type": "markdown",
   "metadata": {},
   "source": [
    "## <mark style=\"background-color: #1050D1; color: white\">Q1</mark>"
   ]
  },
  {
   "cell_type": "markdown",
   "metadata": {},
   "source": [
    "### <mark>Collect Age Data</mark>"
   ]
  },
  {
   "cell_type": "code",
   "execution_count": 5,
   "metadata": {},
   "outputs": [],
   "source": [
    "age = int(input('Enter your age').strip())"
   ]
  },
  {
   "cell_type": "markdown",
   "metadata": {},
   "source": [
    "### <mark>Collect time unit</mark>"
   ]
  },
  {
   "cell_type": "code",
   "execution_count": 6,
   "metadata": {},
   "outputs": [
    {
     "name": "stdout",
     "output_type": "stream",
     "text": [
      "          Note:\n",
      "You can write the units in different formats:\n",
      "1. All in small letters\n",
      "2. The first letter is capital and the others are small\n",
      "3. The first letter either small or capital letter           #\n"
     ]
    }
   ],
   "source": [
    "x = \"\"\"Note:\n",
    "You can write the units in different formats:\n",
    "1. All in small letters\n",
    "2. The first letter is capital and the others are small\n",
    "3. The first letter either small or capital letter\"\"\"\n",
    "print(x.center(len(x) + 20), '#')\n",
    "unit = input('Choose time unit: Months, Weeks, Days').strip().lower()"
   ]
  },
  {
   "cell_type": "markdown",
   "metadata": {},
   "source": [
    "### <mark>Calculate Time Units</mark>"
   ]
  },
  {
   "cell_type": "code",
   "execution_count": 7,
   "metadata": {},
   "outputs": [
    {
     "name": "stdout",
     "output_type": "stream",
     "text": [
      "Months: 672\n",
      "Weeks: 2688\n",
      "Days: 20440\n"
     ]
    }
   ],
   "source": [
    "months = age * 12\n",
    "print(f'Months: {months}')\n",
    "weeks = months * 4\n",
    "print(f'Weeks: {weeks}')\n",
    "days = age * 365\n",
    "print(f'Days: {days}')"
   ]
  },
  {
   "cell_type": "code",
   "execution_count": 8,
   "metadata": {},
   "outputs": [
    {
     "name": "stdout",
     "output_type": "stream",
     "text": [
      "Your age in weeks is nearly 2,688\n"
     ]
    }
   ],
   "source": [
    "if unit == 'months' or unit == 'Months' or unit == 'm' or unit == 'M':\n",
    "    print(f'Your age in months is nearly {months:,}')\n",
    "elif unit == 'weeks' or unit == 'Weeks' or unit == 'w' or unit == 'W':\n",
    "    print(f'Your age in weeks is nearly {weeks:,}')\n",
    "elif unit == 'days' or unit == 'Days' or unit == 'd' or unit == 'D':\n",
    "    print(f'Your age in days is nearly {days:,}')\n",
    "else:\n",
    "    print('Invalid Unit')"
   ]
  }
 ],
 "metadata": {
  "interpreter": {
   "hash": "8fba8154b0252bca3907b3434358ffda4f5e7cfd4d68fde71816b37dc430d8ed"
  },
  "kernelspec": {
   "display_name": "Python 3.9.2 64-bit",
   "name": "python3"
  },
  "language_info": {
   "codemirror_mode": {
    "name": "ipython",
    "version": 3
   },
   "file_extension": ".py",
   "mimetype": "text/x-python",
   "name": "python",
   "nbconvert_exporter": "python",
   "pygments_lexer": "ipython3",
   "version": "3.9.2"
  },
  "orig_nbformat": 4
 },
 "nbformat": 4,
 "nbformat_minor": 2
}
