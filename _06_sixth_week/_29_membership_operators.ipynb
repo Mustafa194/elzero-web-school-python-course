{
 "cells": [
  {
   "cell_type": "markdown",
   "metadata": {},
   "source": [
    "# <mark style=\"background-color: cyan\">Membership Operators</mark>"
   ]
  },
  {
   "cell_type": "markdown",
   "metadata": {},
   "source": [
    "## <mark style=\"background-color: #1050D1; color: white; padding: 0 1rem;\">in</mark>\n",
    "## <mark style=\"background-color: #1050D1; color: white; padding: 0 1rem;\">not in</mark>"
   ]
  },
  {
   "cell_type": "markdown",
   "metadata": {},
   "source": [
    "### <mark style=\"padding: 0 1rem;\">Membership Operators are Case Sensitive</mark>"
   ]
  },
  {
   "cell_type": "code",
   "execution_count": 3,
   "metadata": {},
   "outputs": [
    {
     "name": "stdout",
     "output_type": "stream",
     "text": [
      "True\n",
      "False\n",
      "True\n",
      "True\n"
     ]
    }
   ],
   "source": [
    "name = 'Mustafa'\n",
    "print('a' in name)\n",
    "print('A' in name)\n",
    "print('us' in name)\n",
    "print('' in name)"
   ]
  },
  {
   "cell_type": "code",
   "execution_count": 16,
   "metadata": {},
   "outputs": [
    {
     "name": "stdout",
     "output_type": "stream",
     "text": [
      "Course Price: $100\n",
      "Course Discount: 60\n",
      "Total Price after calculating the discount: $40.0\n"
     ]
    }
   ],
   "source": [
    "coursePrice = 100\n",
    "\n",
    "countries1 = ['Iraq', 'KSA', 'Egypt', 'Nigeria']\n",
    "countries1_discount = 60 # the discount in percentage\n",
    "\n",
    "countries2 = ['Palestine', 'Libia', 'Sudan', 'Syria']\n",
    "countries2_discount = 50\n",
    "\n",
    "normal_discount = 25\n",
    "\n",
    "myCountry = 'Iraq'\n",
    "\n",
    "if myCountry in countries1:\n",
    "    total_price = coursePrice - (coursePrice * (countries1_discount / 100))\n",
    "    print(f\"\"\"Course Price: ${coursePrice}\n",
    "\t\t\\b\\bCourse Discount: {countries1_discount}\n",
    "\t\t\\b\\bTotal Price after calculating the discount: ${total_price}\"\"\")\n",
    "elif myCountry in countries2:\n",
    "    total_price = coursePrice - (coursePrice * (countries2_discount / 100))\n",
    "    print(f\"\"\"Course Price: ${coursePrice}\n",
    "\t\t\\b\\bCourse Discount: {countries1_discount}\n",
    "\t\t\\b\\bTotal Price after calculating the discount: ${total_price}\"\"\")\n",
    "else:\n",
    "    total_price = coursePrice - (coursePrice * (normal_discount / 100))\n",
    "    print(f\"\"\"Course Price: ${coursePrice}\n",
    "\t\t\\b\\bCourse Discount: {countries1_discount}\n",
    "\t\t\\b\\bTotal Price after calculating the discount: ${total_price}\"\"\")"
   ]
  }
 ],
 "metadata": {
  "interpreter": {
   "hash": "8fba8154b0252bca3907b3434358ffda4f5e7cfd4d68fde71816b37dc430d8ed"
  },
  "kernelspec": {
   "display_name": "Python 3.9.2 64-bit",
   "name": "python3"
  },
  "language_info": {
   "codemirror_mode": {
    "name": "ipython",
    "version": 3
   },
   "file_extension": ".py",
   "mimetype": "text/x-python",
   "name": "python",
   "nbconvert_exporter": "python",
   "pygments_lexer": "ipython3",
   "version": "3.9.2"
  },
  "orig_nbformat": 4
 },
 "nbformat": 4,
 "nbformat_minor": 2
}
