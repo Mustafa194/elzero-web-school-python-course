{
 "cells": [
  {
   "cell_type": "markdown",
   "metadata": {},
   "source": [
    "# <mark style=\"background-color: cyan\">Making Decisions <mark style=\"background-color: rgb(230, 80, 80); color: white; padding: 0 1rem;\">if, elif, else</mark>"
   ]
  },
  {
   "cell_type": "markdown",
   "metadata": {},
   "source": [
    "## <mark style=\"background-color: #1050D1; color: white\">Syntax</mark>"
   ]
  },
  {
   "cell_type": "markdown",
   "metadata": {},
   "source": [
    "### if condition:\n",
    "### &nbsp;&nbsp;&nbsp;&nbsp;# block of code\n",
    "### elif condition:\n",
    "### &nbsp;&nbsp;&nbsp;&nbsp;# block of code\n",
    "### else:\n",
    "### &nbsp;&nbsp;&nbsp;&nbsp;# block of code"
   ]
  },
  {
   "cell_type": "code",
   "execution_count": null,
   "metadata": {},
   "outputs": [],
   "source": [
    "userName = 'Mustafa Ahmed'\n",
    "courseName = 'Mastering Python'\n",
    "coursePrice = 100\n",
    "userCountry = 'Iraq'\n",
    "print(f\"Hello {userName}\\nThe Course \\\"{courseName}\")"
   ]
  },
  {
   "cell_type": "code",
   "execution_count": 4,
   "metadata": {},
   "outputs": [
    {
     "name": "stdout",
     "output_type": "stream",
     "text": [
      "Iraq\n",
      "Hello Mustafa Ahmed\n",
      "The Course \"Mastering Python\" Price Is: $55.0\n"
     ]
    }
   ],
   "source": [
    "if userCountry == 'Egypt':\n",
    "\tcourseDiscount = 50\n",
    "elif userCountry == 'Iraq':\n",
    "\tcourseDiscount = 45\n",
    "else:\n",
    "\tcourseDiscount = 30\n",
    "\n",
    "print(userCountry)\n",
    "totalPrice = coursePrice - coursePrice * (courseDiscount / 100)\n",
    "print(f\"Hello {userName}\\nThe Course \\\"{courseName}\\\" Price Is: ${totalPrice}\")"
   ]
  },
  {
   "cell_type": "code",
   "execution_count": 7,
   "metadata": {},
   "outputs": [
    {
     "name": "stdout",
     "output_type": "stream",
     "text": [
      "Iraq\n",
      "Iraq or Kuwait or Jordan\n",
      "Course Discount: 60\n",
      "Hello Mustafa Ahmed\n",
      "The Course \"Mastering Python\" Price Is: $40.0\n"
     ]
    }
   ],
   "source": [
    "isStudent = True\n",
    "print(userCountry)\n",
    "if userCountry == 'Egypt' or userCountry == 'KSA':\n",
    "\tprint('Egypt or KSA')\n",
    "\tcourseDiscount = 50\n",
    "\tif isStudent:\n",
    "\t\tcourseDiscount = courseDiscount + 10\n",
    "elif userCountry == 'Iraq' or userCountry == 'Kuwait' or userCountry == 'Jordan':\n",
    "\tcourseDiscount = 45\n",
    "\tprint('Iraq or Kuwait or Jordan')\n",
    "\tif isStudent:\n",
    "\t\tcourseDiscount = courseDiscount + 15\n",
    "else:\n",
    "\tcourseDiscount = 30\n",
    "\n",
    "print(f'Course Discount: {courseDiscount}')\n",
    "totalPrice = coursePrice - coursePrice * (courseDiscount / 100)\n",
    "print(f\"Hello {userName}\\nThe Course \\\"{courseName}\\\" Price Is: ${totalPrice}\")"
   ]
  }
 ],
 "metadata": {
  "interpreter": {
   "hash": "8fba8154b0252bca3907b3434358ffda4f5e7cfd4d68fde71816b37dc430d8ed"
  },
  "kernelspec": {
   "display_name": "Python 3.9.2 64-bit",
   "name": "python3"
  },
  "language_info": {
   "codemirror_mode": {
    "name": "ipython",
    "version": 3
   },
   "file_extension": ".py",
   "mimetype": "text/x-python",
   "name": "python",
   "nbconvert_exporter": "python",
   "pygments_lexer": "ipython3",
   "version": "3.9.2"
  },
  "orig_nbformat": 4
 },
 "nbformat": 4,
 "nbformat_minor": 2
}
