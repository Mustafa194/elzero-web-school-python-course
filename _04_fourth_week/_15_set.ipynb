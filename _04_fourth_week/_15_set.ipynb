{
 "cells": [
  {
   "cell_type": "markdown",
   "metadata": {},
   "source": [
    "# <mark style=\"background-color: cyan\">Sets</mark>"
   ]
  },
  {
   "cell_type": "markdown",
   "metadata": {},
   "source": [
    "## <mark style=\"background-color: #1050D1; color: white\">Notes:</mark>\n",
    "1. ### Set elements are enclosed by Curly Braces\n",
    "2. ### Set elements are unordered and not indexed\n",
    "3. ### No indexing or slicing is available in set type\n",
    "4. ### Set elements must be only immutable elements (Numbers, Strings, Tuples, Boolean)\n",
    "5. ### Set elements are unique (if theres is any duplicated element, the set work with it)"
   ]
  },
  {
   "cell_type": "code",
   "execution_count": null,
   "metadata": {},
   "outputs": [],
   "source": [
    "mySet1 = {'Mustafa', 'Ahmed', 100, True}\n",
    "print(mySet1)"
   ]
  },
  {
   "cell_type": "code",
   "execution_count": null,
   "metadata": {},
   "outputs": [],
   "source": [
    "mySet2 = {1, 2, 3, 4, 5, \"A\", \"B\", \"C\", \"D\", \"E\", 1, 2, 2, 1}\n",
    "print(mySet2)"
   ]
  },
  {
   "cell_type": "markdown",
   "metadata": {},
   "source": [
    "## <mark style=\"background-color: #1050D1; color: white\">Empty Set can be created with set() function, because if we do this {} it will be counted as an empty dictionary</mark>"
   ]
  },
  {
   "cell_type": "code",
   "execution_count": null,
   "metadata": {},
   "outputs": [],
   "source": [
    "mySet3 = {}\n",
    "print(mySet3)"
   ]
  }
 ],
 "metadata": {
  "interpreter": {
   "hash": "8fba8154b0252bca3907b3434358ffda4f5e7cfd4d68fde71816b37dc430d8ed"
  },
  "kernelspec": {
   "display_name": "Python 3.9.2 64-bit",
   "name": "python3"
  },
  "language_info": {
   "codemirror_mode": {
    "name": "ipython",
    "version": 3
   },
   "file_extension": ".py",
   "mimetype": "text/x-python",
   "name": "python",
   "nbconvert_exporter": "python",
   "pygments_lexer": "ipython3",
   "version": "3.9.2"
  },
  "orig_nbformat": 4
 },
 "nbformat": 4,
 "nbformat_minor": 2
}
