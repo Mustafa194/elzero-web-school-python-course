{
 "cells": [
  {
   "cell_type": "markdown",
   "metadata": {},
   "source": [
    "# <mark style=\"background-color: cyan\">Dictionary</mark>"
   ]
  },
  {
   "cell_type": "markdown",
   "metadata": {},
   "source": [
    "## <mark style=\"background-color: #1050D1; color: white\">Notes</mark>\n",
    "1. ### Dictionary elements are enclosed in curly braces\n",
    "2. ### dictionary elements use key-value pair instead of index\n",
    "3. ### Dictionary keys must be immutable data types\n",
    "4. ### Dictionary values can be from any data type\n",
    "5. ### Dictionary key must be unique, and if there are duplicated keys it will take the last one added to the dictionary\n",
    "6. ### Dictionary is an unordered data type"
   ]
  },
  {
   "cell_type": "code",
   "execution_count": null,
   "metadata": {},
   "outputs": [],
   "source": [
    "user = {\n",
    "\t\"name\":\"Mustafa\",\n",
    "\t\"age\": 20,\n",
    "\t\"country\": \"Iraq\"\n",
    "}"
   ]
  },
  {
   "cell_type": "code",
   "execution_count": null,
   "metadata": {},
   "outputs": [],
   "source": [
    "print(user)\n",
    "print(user['country'])\n",
    "print(user['name'])\n",
    "print(user.get('age'))"
   ]
  },
  {
   "cell_type": "markdown",
   "metadata": {},
   "source": [
    "## <mark style=\"background-color: #1050D1; color: white\">dict_keys(), dict_values() Objects</mark>"
   ]
  },
  {
   "cell_type": "markdown",
   "metadata": {},
   "source": [
    "### <b>keys():</b> this method returns all the keys in the dictionary\n",
    "### <b>values():</b> this method return all the values in the dictionary"
   ]
  },
  {
   "cell_type": "markdown",
   "metadata": {},
   "source": [
    "## <mark style=\"background-color: #1050D1; color: white\">Nested dictionaries (Multi Dimensional Dictionaries)</mark>"
   ]
  },
  {
   "cell_type": "code",
   "execution_count": null,
   "metadata": {},
   "outputs": [],
   "source": [
    "programmingLanguages = {\n",
    "\t'html' : {\n",
    "\t\t'knowledge' : '70%', # my knowledge of html\n",
    "\t\t'reference': 'freecodecamp.org, Elzero Web School YouTube Channel'\n",
    "  },\n",
    "\t'css' : {\n",
    "\t\t'knowledge' : '50%', # my knowledge of css\n",
    "\t\t'reference' : 'freecodecamp.org, Elzero Web School YouTube Channel'\n",
    "  },\n",
    "\t'js' : {\n",
    "\t\t'knowledge' : '25%', # my knowledge of js\n",
    "\t\t'reference': 'freecodecamp.org, Elzero Web School YouTube Channel'\n",
    "  },\n",
    "\t'python' : {\n",
    "\t\t'knowledge' : '25%', # my knowledge of python\n",
    "\t\t'reference': 'Elzero Web School YouTube Channel'\n",
    "  },\n",
    "\t'c++' : {\n",
    "\t\t'knowledge' : '60%', # my knowledge of c++\n",
    "\t\t'reference': 'محمد الدسوقي YouTube Chanel, Caleb Curry YouTube Channel, Sololearn Website/App'\n",
    "  },\n",
    "}"
   ]
  },
  {
   "cell_type": "code",
   "execution_count": null,
   "metadata": {},
   "outputs": [],
   "source": [
    "print(programmingLanguages)"
   ]
  },
  {
   "cell_type": "markdown",
   "metadata": {},
   "source": [
    "## <mark style=\"background-color: #1050D1; color: white\">Accessing the sub dictionary</mark>"
   ]
  },
  {
   "cell_type": "code",
   "execution_count": null,
   "metadata": {},
   "outputs": [],
   "source": [
    "print(programmingLanguages['html']['knowledge'])\n",
    "print(programmingLanguages['c++']['reference'])"
   ]
  },
  {
   "cell_type": "markdown",
   "metadata": {},
   "source": [
    "## <mark style=\"background-color: #1050D1; color: white\">Dictionary Length</mark>"
   ]
  },
  {
   "cell_type": "code",
   "execution_count": null,
   "metadata": {},
   "outputs": [],
   "source": [
    "print(len(programmingLanguages))\n",
    "print(len(programmingLanguages['css']))"
   ]
  },
  {
   "cell_type": "markdown",
   "metadata": {},
   "source": [
    "## <mark style=\"background-color: #1050D1; color: white\">Merging Dictionaries in one object</mark>"
   ]
  },
  {
   "cell_type": "code",
   "execution_count": null,
   "metadata": {},
   "outputs": [],
   "source": [
    "framework1 = {\n",
    "\t'name': 'React.js',\n",
    "\t'progress': '80%'\n",
    "}\n",
    "framework2 = {\n",
    "\t'name': 'Vue.js',\n",
    "\t'progress': '80%'\n",
    "}\n",
    "framework3 = {\n",
    "\t'name': 'Angular.js',\n",
    "\t'progress': '80%'\n",
    "}\n",
    "framework3 = {\n",
    "\t'name': 'Angular',\n",
    "\t'progress': '80%'\n",
    "}"
   ]
  },
  {
   "cell_type": "code",
   "execution_count": null,
   "metadata": {},
   "outputs": [],
   "source": [
    "all_frameworks = {\n",
    "\t'framework1': framework1,\n",
    "\t'framework2': framework2,\n",
    "\t'framework3': framework3\n",
    "}\n",
    "print(all_frameworks)"
   ]
  }
 ],
 "metadata": {
  "interpreter": {
   "hash": "8fba8154b0252bca3907b3434358ffda4f5e7cfd4d68fde71816b37dc430d8ed"
  },
  "kernelspec": {
   "display_name": "Python 3.9.2 64-bit",
   "name": "python3"
  },
  "language_info": {
   "codemirror_mode": {
    "name": "ipython",
    "version": 3
   },
   "file_extension": ".py",
   "mimetype": "text/x-python",
   "name": "python",
   "nbconvert_exporter": "python",
   "pygments_lexer": "ipython3",
   "version": "3.9.2"
  },
  "orig_nbformat": 4
 },
 "nbformat": 4,
 "nbformat_minor": 2
}
