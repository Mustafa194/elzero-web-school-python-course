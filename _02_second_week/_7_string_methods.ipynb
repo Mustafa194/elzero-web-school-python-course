{
 "cells": [
  {
   "cell_type": "markdown",
   "metadata": {},
   "source": [
    "# <mark style=\"background-color: cyan\">String Methods</mark>"
   ]
  },
  {
   "cell_type": "markdown",
   "metadata": {},
   "source": [
    "## <mark style=\"background-color: #1050D1; color: white\">len(object)</mark>\n",
    "### It is a built-in function that gives the number of elements in a container such as: strings, lists, dictionaries, set, ...etc."
   ]
  },
  {
   "cell_type": "code",
   "execution_count": 107,
   "metadata": {},
   "outputs": [
    {
     "name": "stdout",
     "output_type": "stream",
     "text": [
      "13\n",
      "26\n",
      "26\n"
     ]
    }
   ],
   "source": [
    "a = \"I love python\"\n",
    "b = \"        I love python     \"\n",
    "c = \"########I love python#####\"\n",
    "print(len(a)) # the length of the string is 13\n",
    "print(len(b)) # the length of string is 26'\n",
    "print(len(c))"
   ]
  },
  {
   "cell_type": "markdown",
   "metadata": {},
   "source": [
    "## <mark style=\"background-color: #1050D1; color: white\">strip(subString), rstrip(subString), lstrip(subString)</mark>"
   ]
  },
  {
   "cell_type": "code",
   "execution_count": 108,
   "metadata": {},
   "outputs": [
    {
     "name": "stdout",
     "output_type": "stream",
     "text": [
      "I love python\n",
      "        I love python\n",
      "I love python     \n"
     ]
    }
   ],
   "source": [
    "b = \"        I love python     \"\n",
    "print(b.strip()) # erase the spaces from the left and the right sides of the string\n",
    "print(b.rstrip()) # erase the spaces from the right side of the string\n",
    "print(b.lstrip()) # erase the spaces from the left side of the string\n"
   ]
  },
  {
   "cell_type": "markdown",
   "metadata": {},
   "source": [
    "### Note: if we don't pass parameter the it will strip the spaces, and if we pass parameter it will strip the parameter we passed into it"
   ]
  },
  {
   "cell_type": "code",
   "execution_count": 109,
   "metadata": {},
   "outputs": [
    {
     "name": "stdout",
     "output_type": "stream",
     "text": [
      "########I love python#####\n",
      "I love python\n",
      "I love python\n",
      "#@!#@!#@!#@!I love python\n",
      "I love python#@!#@!#@!\n"
     ]
    }
   ],
   "source": [
    "c = \"########I love python#####\"\n",
    "print(c.strip()) # it won't affect the string\n",
    "print(c.strip('#')) # it will strip the '#' character\n",
    "c = \"#@!#@!#@!#@!I love python#@!#@!#@!\"\n",
    "print(c.strip('#@!'))\n",
    "print(c.rstrip('#@!'))\n",
    "print(c.lstrip('#@!'))\n"
   ]
  },
  {
   "cell_type": "markdown",
   "metadata": {},
   "source": [
    "## <mark style=\"background-color: #1050D1; color: white\">title()</mark>"
   ]
  },
  {
   "cell_type": "markdown",
   "metadata": {},
   "source": [
    "### This method makes every word in the string, and the letter that come with numbers start with a capital letter"
   ]
  },
  {
   "cell_type": "code",
   "execution_count": 110,
   "metadata": {},
   "outputs": [
    {
     "name": "stdout",
     "output_type": "stream",
     "text": [
      "I Love 2D Graphics And 3G Technology And Python Programming\n"
     ]
    }
   ],
   "source": [
    "x = 'i love 2d Graphics and 3g Technology and Python Programming'\n",
    "print(x.title())"
   ]
  },
  {
   "cell_type": "markdown",
   "metadata": {},
   "source": [
    "## <mark style=\"background-color: #1050D1; color: white\">capitalize()</mark>"
   ]
  },
  {
   "cell_type": "markdown",
   "metadata": {},
   "source": [
    "### This method makes every word in the string starts with a capital letter, and the difference between it and \"title()\" method that \"capitalize()\" method doesn't affect the letter that come after numbers"
   ]
  },
  {
   "cell_type": "code",
   "execution_count": 111,
   "metadata": {},
   "outputs": [
    {
     "name": "stdout",
     "output_type": "stream",
     "text": [
      "I love 2d graphics and 3g technology and python programming\n"
     ]
    }
   ],
   "source": [
    "x = 'i love 2d Graphics and 3g Technology and Python Programming'\n",
    "print(x.capitalize())\n"
   ]
  },
  {
   "cell_type": "markdown",
   "metadata": {},
   "source": [
    "## <mark style=\"background-color: #1050D1; color: white\">zfill(width)</mark>"
   ]
  },
  {
   "cell_type": "markdown",
   "metadata": {},
   "source": [
    "### This method has a width parameter"
   ]
  },
  {
   "cell_type": "code",
   "execution_count": 112,
   "metadata": {},
   "outputs": [
    {
     "name": "stdout",
     "output_type": "stream",
     "text": [
      "001\n",
      "011\n",
      "111\n"
     ]
    }
   ],
   "source": [
    "a, b, c = '1', '11', '111'\n",
    "print(a.zfill(3))\n",
    "print(b.zfill(3))\n",
    "print(c.zfill(3))"
   ]
  },
  {
   "cell_type": "markdown",
   "metadata": {},
   "source": [
    "## <mark style=\"background-color: #1050D1; color: white\">upper()</mark>"
   ]
  },
  {
   "cell_type": "markdown",
   "metadata": {},
   "source": [
    "### Turn the string to uppercase"
   ]
  },
  {
   "cell_type": "code",
   "execution_count": 113,
   "metadata": {},
   "outputs": [
    {
     "name": "stdout",
     "output_type": "stream",
     "text": [
      "MUSTAFA\n"
     ]
    }
   ],
   "source": [
    "g = 'Mustafa'\n",
    "print(g.upper())"
   ]
  },
  {
   "cell_type": "markdown",
   "metadata": {},
   "source": [
    "## <mark style=\"background-color: #1050D1; color: white\">lower()</mark>"
   ]
  },
  {
   "cell_type": "markdown",
   "metadata": {},
   "source": [
    "### Turn the string to lowercase"
   ]
  },
  {
   "cell_type": "code",
   "execution_count": 114,
   "metadata": {},
   "outputs": [
    {
     "name": "stdout",
     "output_type": "stream",
     "text": [
      "mustafa\n"
     ]
    }
   ],
   "source": [
    "print(g.lower())"
   ]
  },
  {
   "cell_type": "markdown",
   "metadata": {},
   "source": [
    "## <mark style=\"background-color: #1050D1; color: white\">split(separator, maxSplit), rsplit(separator, maxSplit)</mark>"
   ]
  },
  {
   "cell_type": "markdown",
   "metadata": {},
   "source": [
    "### Using the space character be default and if not using a parameter that passed to the method splits the string and save all the parts in a list"
   ]
  },
  {
   "cell_type": "markdown",
   "metadata": {},
   "source": [
    "### It has two parameters in which \"separator\" and/or \"max split\""
   ]
  },
  {
   "cell_type": "code",
   "execution_count": 115,
   "metadata": {},
   "outputs": [
    {
     "name": "stdout",
     "output_type": "stream",
     "text": [
      "['I', 'love', 'python', 'and', 'c++']\n",
      "['I', 'love', 'python', 'and', 'c++']\n",
      "['I', 'love', 'python-and-c++']\n",
      "['I-l', 've-pyth', 'n-and-c++']\n"
     ]
    }
   ],
   "source": [
    "a = \"I love python and c++\"\n",
    "b = \"I-love-python-and-c++\"\n",
    "print(a.split())\n",
    "print(b.split('-'))\n",
    "print(b.split('-', 2)) # separate two words and the other words put them in the list as one element\n",
    "print(b.split('o'))"
   ]
  },
  {
   "cell_type": "code",
   "execution_count": 116,
   "metadata": {},
   "outputs": [
    {
     "name": "stdout",
     "output_type": "stream",
     "text": [
      "['I-love-python', 'and', 'c++']\n"
     ]
    }
   ],
   "source": [
    "print(b.rsplit('-', 2)) # it start from the end of the string"
   ]
  },
  {
   "cell_type": "markdown",
   "metadata": {},
   "source": [
    "### <mark style=\"background-color: #CD6354; color: white; padding: 0 1rem;\">change the middle name of someone's full name</mark>"
   ]
  },
  {
   "cell_type": "code",
   "execution_count": 117,
   "metadata": {},
   "outputs": [
    {
     "name": "stdout",
     "output_type": "stream",
     "text": [
      "['Mustafa', 'Ahmed', 'Mohammed']\n",
      "Mustafa Ahmed Mohammed\n",
      "['Mustafa', 'Ali', 'Mohammed']\n",
      "Mustafa Ali Mohammed\n"
     ]
    }
   ],
   "source": [
    "a = 'Mustafa Ahmed Mohammed'\n",
    "l = a.split()\n",
    "print(l)\n",
    "l[1] = 'Ali'\n",
    "print(a)\n",
    "print(l)\n",
    "a = l[0] + ' ' + l[1] + ' ' + l[2]\n",
    "print(a)"
   ]
  },
  {
   "cell_type": "markdown",
   "metadata": {},
   "source": [
    "## <mark style=\"background-color: #1050D1; color: white\">center(n, charType)</mark>"
   ]
  },
  {
   "cell_type": "markdown",
   "metadata": {},
   "source": [
    "### This method put characters to the left and right of the string\n",
    "### The characters been given can be controlled by the parameters of the method\n",
    "### This method has two parameters \"number of characters\" and it is compulsory to be given and \"character type\" and it is space by default"
   ]
  },
  {
   "cell_type": "code",
   "execution_count": 118,
   "metadata": {},
   "outputs": [
    {
     "name": "stdout",
     "output_type": "stream",
     "text": [
      "    Mustafa    \n",
      "######Mustafa#######\n",
      "               First Python Lecture               \n"
     ]
    }
   ],
   "source": [
    "e = \"Mustafa\"\n",
    "print(e.center(15))\n",
    "print(e.center(20, '#'))\n",
    "print(\"first python lecture\".title().center(50))"
   ]
  },
  {
   "cell_type": "markdown",
   "metadata": {},
   "source": [
    "## <mark style=\"background-color: #1050D1; color: white\">count(subString, start, end)</mark>"
   ]
  },
  {
   "cell_type": "markdown",
   "metadata": {},
   "source": [
    "### counts how many times a character or group of characters appear in a string and it is case sensitive, and it is must to give the fist parameter to the method"
   ]
  },
  {
   "cell_type": "markdown",
   "metadata": {},
   "source": [
    "### This method have three parameters \"character or string\" and \"starting point\" and \"ending point\"\n",
    "### The first parameter is compulsory to give\n",
    "### The other two aren't compulsory, the \"starting point\" by default is index \"0\" and the \"ending point\" index is by default \"-1\""
   ]
  },
  {
   "cell_type": "code",
   "execution_count": 119,
   "metadata": {},
   "outputs": [
    {
     "name": "stdout",
     "output_type": "stream",
     "text": [
      "3\n",
      "7\n",
      "2\n"
     ]
    }
   ],
   "source": [
    "f = \"I love python, because python has easy syntax, and python also has lots of libraries that help developers to write less and more efficient code\"\n",
    "print(f.count('python')) # counts how many times 'python' appears in the string\n",
    "print(f.count('h')) # counts how many times 'h' appears in the string\n",
    "print(f.count('python',13, 70)) # count from the index 13 to 70"
   ]
  },
  {
   "cell_type": "markdown",
   "metadata": {},
   "source": [
    "## <mark style=\"background-color: #1050D1; color: white\">swapcase()</mark>"
   ]
  },
  {
   "cell_type": "markdown",
   "metadata": {},
   "source": [
    "### Swaps the case of the characters in the string if the its small makes capital and vice versa"
   ]
  },
  {
   "cell_type": "code",
   "execution_count": 120,
   "metadata": {},
   "outputs": [
    {
     "name": "stdout",
     "output_type": "stream",
     "text": [
      "i LOVE pYTHON\n",
      "I love Python\n"
     ]
    }
   ],
   "source": [
    "g = \"I love Python\"\n",
    "h = \"i LOVE pYTHON\"\n",
    "print(g.swapcase())\n",
    "print(h.swapcase())"
   ]
  },
  {
   "cell_type": "markdown",
   "metadata": {},
   "source": [
    "## <mark style=\"background-color: #1050D1; color: white\">startswith(subString, start, end), endswith(subString, start, end)</mark>"
   ]
  },
  {
   "cell_type": "markdown",
   "metadata": {},
   "source": [
    "### They have three parameters \"character/string\" and \"starting point\" and \"ending point\"\n",
    "### Note: they are case sensitive"
   ]
  },
  {
   "cell_type": "code",
   "execution_count": 121,
   "metadata": {},
   "outputs": [
    {
     "name": "stdout",
     "output_type": "stream",
     "text": [
      "True\n",
      "False\n",
      "True\n"
     ]
    }
   ],
   "source": [
    "i = \"I love python\"\n",
    "print(i.startswith('I')) # Ture\n",
    "print(i.startswith('S')) # False\n",
    "print(i.startswith('p', 7, 12)) # True"
   ]
  },
  {
   "cell_type": "code",
   "execution_count": 122,
   "metadata": {},
   "outputs": [
    {
     "name": "stdout",
     "output_type": "stream",
     "text": [
      "True\n",
      "False\n",
      "True\n"
     ]
    }
   ],
   "source": [
    "print(i.endswith('n')) # True\n",
    "print(i.endswith('N')) # False\n",
    "print(i.endswith('p', 2, 8)) # True"
   ]
  },
  {
   "cell_type": "markdown",
   "metadata": {},
   "source": [
    "## <mark style=\"background-color: #1050D1; color: white\">index(subString, start, end)</mark>"
   ]
  },
  {
   "cell_type": "markdown",
   "metadata": {},
   "source": [
    "### Finds the index of a substring that passed to the method and if not find throws an error"
   ]
  },
  {
   "cell_type": "code",
   "execution_count": 123,
   "metadata": {},
   "outputs": [
    {
     "name": "stdout",
     "output_type": "stream",
     "text": [
      "2\n",
      "7\n"
     ]
    },
    {
     "ename": "ValueError",
     "evalue": "substring not found",
     "output_type": "error",
     "traceback": [
      "\u001b[1;31m---------------------------------------------------------------------------\u001b[0m",
      "\u001b[1;31mValueError\u001b[0m                                Traceback (most recent call last)",
      "\u001b[1;32m~\\AppData\\Local\\Temp/ipykernel_12572/3871967396.py\u001b[0m in \u001b[0;36m<module>\u001b[1;34m\u001b[0m\n\u001b[0;32m      2\u001b[0m \u001b[0mprint\u001b[0m\u001b[1;33m(\u001b[0m\u001b[0ma\u001b[0m\u001b[1;33m.\u001b[0m\u001b[0mindex\u001b[0m\u001b[1;33m(\u001b[0m\u001b[1;34m'l'\u001b[0m\u001b[1;33m)\u001b[0m\u001b[1;33m)\u001b[0m \u001b[1;31m# index 2\u001b[0m\u001b[1;33m\u001b[0m\u001b[1;33m\u001b[0m\u001b[0m\n\u001b[0;32m      3\u001b[0m \u001b[0mprint\u001b[0m\u001b[1;33m(\u001b[0m\u001b[0ma\u001b[0m\u001b[1;33m.\u001b[0m\u001b[0mindex\u001b[0m\u001b[1;33m(\u001b[0m\u001b[1;34m'p'\u001b[0m\u001b[1;33m,\u001b[0m \u001b[1;36m6\u001b[0m\u001b[1;33m,\u001b[0m \u001b[1;36m12\u001b[0m\u001b[1;33m)\u001b[0m\u001b[1;33m)\u001b[0m \u001b[1;31m# index 7\u001b[0m\u001b[1;33m\u001b[0m\u001b[1;33m\u001b[0m\u001b[0m\n\u001b[1;32m----> 4\u001b[1;33m \u001b[0mprint\u001b[0m\u001b[1;33m(\u001b[0m\u001b[0ma\u001b[0m\u001b[1;33m.\u001b[0m\u001b[0mindex\u001b[0m\u001b[1;33m(\u001b[0m\u001b[1;34m'p'\u001b[0m\u001b[1;33m,\u001b[0m \u001b[1;36m9\u001b[0m\u001b[1;33m)\u001b[0m\u001b[1;33m)\u001b[0m \u001b[1;31m# Error\u001b[0m\u001b[1;33m\u001b[0m\u001b[1;33m\u001b[0m\u001b[0m\n\u001b[0m",
      "\u001b[1;31mValueError\u001b[0m: substring not found"
     ]
    }
   ],
   "source": [
    "a = \"I love python\"\n",
    "print(a.index('l')) # index 2\n",
    "print(a.index('p', 6, 12)) # index 7\n",
    "print(a.index('p', 9)) # Error"
   ]
  },
  {
   "cell_type": "markdown",
   "metadata": {},
   "source": [
    "## <mark style=\"background-color: #1050D1; color: white\">find(sut_string, start, end)</mark>"
   ]
  },
  {
   "cell_type": "markdown",
   "metadata": {},
   "source": [
    "### Finds the index of a substring that passed to the method and if not find gives '-1' as a result"
   ]
  },
  {
   "cell_type": "code",
   "execution_count": 124,
   "metadata": {},
   "outputs": [
    {
     "name": "stdout",
     "output_type": "stream",
     "text": [
      "2\n",
      "7\n",
      "-1\n"
     ]
    }
   ],
   "source": [
    "print(a.find('l'))  # index 2\n",
    "print(a.find('p', 6, 12)) # index 7\n",
    "print(a.find('p', 9))  # -1"
   ]
  },
  {
   "cell_type": "markdown",
   "metadata": {},
   "source": [
    "## <mark style=\"background-color: #1050D1; color: white\">rjust(widht, fillCharacter), ljust(widht, fillCharacter)</mark>"
   ]
  },
  {
   "cell_type": "markdown",
   "metadata": {},
   "source": [
    "### Justifies the string from the left and right sides by having the number of characters and the type of the fill character"
   ]
  },
  {
   "cell_type": "code",
   "execution_count": 125,
   "metadata": {},
   "outputs": [
    {
     "name": "stdout",
     "output_type": "stream",
     "text": [
      "     Mustafa\n",
      "########Mustafa\n",
      "Mustafa     \n",
      "Mustafa########\n"
     ]
    }
   ],
   "source": [
    "c = 'Mustafa'\n",
    "print(c.rjust(12))\n",
    "print(c.rjust(15, '#'))\n",
    "print(c.ljust(12))\n",
    "print(c.ljust(15, '#'))"
   ]
  },
  {
   "cell_type": "markdown",
   "metadata": {},
   "source": [
    "## <mark style=\"background-color: #1050D1; color: white\">splitlines()</mark>"
   ]
  },
  {
   "cell_type": "markdown",
   "metadata": {},
   "source": [
    "### Splits a multiple line string and save the all the parts into a list"
   ]
  },
  {
   "cell_type": "code",
   "execution_count": 126,
   "metadata": {},
   "outputs": [
    {
     "name": "stdout",
     "output_type": "stream",
     "text": [
      "['First Line', 'Second Line', 'Third Line']\n"
     ]
    }
   ],
   "source": [
    "x = \"\"\"First Line\n",
    "Second Line\n",
    "Third Line\"\"\"\n",
    "print(x.splitlines())"
   ]
  },
  {
   "cell_type": "code",
   "execution_count": 127,
   "metadata": {},
   "outputs": [
    {
     "name": "stdout",
     "output_type": "stream",
     "text": [
      "['First Line', 'Second Line', 'Third Line']\n"
     ]
    }
   ],
   "source": [
    "y = \"First Line\\nSecond Line\\nThird Line\"\n",
    "print(y.splitlines())"
   ]
  },
  {
   "cell_type": "markdown",
   "metadata": {},
   "source": [
    "## <mark style=\"background-color: #1050D1; color: white\">expandtabs(n)</mark>"
   ]
  },
  {
   "cell_type": "markdown",
   "metadata": {},
   "source": [
    "### controls the number of spaces that a tab should take"
   ]
  },
  {
   "cell_type": "code",
   "execution_count": 128,
   "metadata": {},
   "outputs": [
    {
     "name": "stdout",
     "output_type": "stream",
     "text": [
      "Hello               World               I                   love                python\n"
     ]
    }
   ],
   "source": [
    "g = 'Hello\\tWorld\\tI\\tlove\\tpython'\n",
    "print(g.expandtabs(20))"
   ]
  },
  {
   "cell_type": "markdown",
   "metadata": {},
   "source": [
    "## <mark style=\"background-color: #1050D1; color: white\">Some Methods that return Boolean Values</mark>"
   ]
  },
  {
   "cell_type": "markdown",
   "metadata": {},
   "source": [
    "### <mark>istitle()</mark> checks if the string is title or not"
   ]
  },
  {
   "cell_type": "code",
   "execution_count": 129,
   "metadata": {},
   "outputs": [
    {
     "name": "stdout",
     "output_type": "stream",
     "text": [
      "True\n",
      "False\n"
     ]
    }
   ],
   "source": [
    "one = \"I Love Python And 3G\" # True\n",
    "two = \"i love python and 3g\" # False\n",
    "print(one.istitle())\n",
    "print(two.istitle())"
   ]
  },
  {
   "cell_type": "markdown",
   "metadata": {},
   "source": [
    "### <mark>isspaces()</mark> checks if the character is space or not"
   ]
  },
  {
   "cell_type": "code",
   "execution_count": 137,
   "metadata": {},
   "outputs": [
    {
     "name": "stdout",
     "output_type": "stream",
     "text": [
      "True\n",
      "False\n"
     ]
    }
   ],
   "source": [
    "three = \" \"\n",
    "four = \"\"\n",
    "# print(three == ' ')\n",
    "print(three.isspace())\n",
    "print(four.isspace())"
   ]
  },
  {
   "cell_type": "markdown",
   "metadata": {},
   "source": [
    "### <mark>islower()</mark> checks if the whole string written in lower case or not"
   ]
  },
  {
   "cell_type": "code",
   "execution_count": 139,
   "metadata": {},
   "outputs": [
    {
     "name": "stdout",
     "output_type": "stream",
     "text": [
      "True\n",
      "False\n"
     ]
    }
   ],
   "source": [
    "five = \"i love python\"\n",
    "six = \"I Love Python\"\n",
    "print(five.islower())\n",
    "print(six.islower())"
   ]
  },
  {
   "cell_type": "markdown",
   "metadata": {},
   "source": [
    "### <mark>isidentifier()</mark> checks if the string can be a variable name or not"
   ]
  },
  {
   "cell_type": "code",
   "execution_count": 132,
   "metadata": {},
   "outputs": [
    {
     "name": "stdout",
     "output_type": "stream",
     "text": [
      "True\n",
      "True\n",
      "False\n"
     ]
    }
   ],
   "source": [
    "seven = \"mustafa_ahmed\"\n",
    "eight = \"mustafaAhmed2001\"\n",
    "nine = \"mustafa--Ahmed2001\"\n",
    "print(seven.isidentifier())\n",
    "print(eight.isidentifier())\n",
    "print(nine.isidentifier())\n"
   ]
  },
  {
   "cell_type": "markdown",
   "metadata": {},
   "source": [
    "### <mark>isalpha()</mark> checks if the string only have alphabetical characters or not"
   ]
  },
  {
   "cell_type": "code",
   "execution_count": 141,
   "metadata": {},
   "outputs": [
    {
     "name": "stdout",
     "output_type": "stream",
     "text": [
      "True\n",
      "False\n",
      "False\n"
     ]
    }
   ],
   "source": [
    "x = 'AaaaaaBbbbbb'\n",
    "y = 'AaaaaBbbbb21'\n",
    "z = '21'\n",
    "print(x.isalpha())\n",
    "print(y.isalpha())\n",
    "print(z.isalpha())"
   ]
  },
  {
   "cell_type": "markdown",
   "metadata": {},
   "source": [
    "### <mark>isalnum()</mark> checks if the string only have alphabetical characters or numbers or not"
   ]
  },
  {
   "cell_type": "code",
   "execution_count": 145,
   "metadata": {},
   "outputs": [
    {
     "name": "stdout",
     "output_type": "stream",
     "text": [
      "True\n",
      "True\n",
      "True\n",
      "True\n",
      "False\n"
     ]
    }
   ],
   "source": [
    "print(x.isalnum())\n",
    "print(y.isalnum())\n",
    "z1 = 'aaaaabbbbb111112223333'\n",
    "print(z.isalnum())\n",
    "print(z1.isalnum())\n",
    "print('*/!\\#'.isalnum())"
   ]
  },
  {
   "cell_type": "markdown",
   "metadata": {},
   "source": [
    "## <mark style=\"background-color: #1050D1; color: white\">replace(old_value, new_value, count) method</mark>"
   ]
  },
  {
   "cell_type": "markdown",
   "metadata": {},
   "source": [
    "### Replaces the a substring with a new substring"
   ]
  },
  {
   "cell_type": "code",
   "execution_count": 149,
   "metadata": {},
   "outputs": [
    {
     "name": "stdout",
     "output_type": "stream",
     "text": [
      "Hello 1 H Two H Three 1 1\n",
      "Hello 1 H Two H Three One One\n",
      "Hello 1 H Two H Three 1 One\n",
      "2ello One H Two H Three One One\n"
     ]
    }
   ],
   "source": [
    "a = \"Hello One H Two H Three One One\"\n",
    "print(a.replace('One', \"1\"))\n",
    "print(a.replace('One', \"1\", 1))\n",
    "print(a.replace('One', \"1\", 2))\n",
    "print(a.replace('H', '2', 1))"
   ]
  },
  {
   "cell_type": "markdown",
   "metadata": {},
   "source": [
    "## <mark style=\"background-color: #1050D1; color: white\">\"seperator\".join(iterable_object) method</mark>"
   ]
  },
  {
   "cell_type": "markdown",
   "metadata": {},
   "source": [
    "### Joins an iterable object's elements and separate them with a separator of your choice"
   ]
  },
  {
   "cell_type": "code",
   "execution_count": 144,
   "metadata": {},
   "outputs": [
    {
     "name": "stdout",
     "output_type": "stream",
     "text": [
      "Mustafa Ahmed Mohammed\n",
      "Mustafa-Ahmed-Mohammed\n",
      "Mustafa@Ahmed@Mohammed\n",
      "Mustafa#Ahmed#Mohammed\n"
     ]
    }
   ],
   "source": [
    "myList = [\"Mustafa\", \"Ahmed\", \"Mohammed\"]\n",
    "print(\" \".join(myList))\n",
    "print(\"-\".join(myList))\n",
    "print(\"@\".join(myList))\n",
    "print(\"#\".join(myList))"
   ]
  },
  {
   "cell_type": "markdown",
   "metadata": {},
   "source": [
    "## Reference\n",
    "### <a href=\"https://docs.python.org/2.5/lib/string-methods.html\">String Methods</a>\n",
    "### <a href=\"https://www.w3schools.com/python/python_strings_methods.asp\">String Methods W3schools</a>"
   ]
  }
 ],
 "metadata": {
  "interpreter": {
   "hash": "8fba8154b0252bca3907b3434358ffda4f5e7cfd4d68fde71816b37dc430d8ed"
  },
  "kernelspec": {
   "display_name": "Python 3.9.2 64-bit",
   "name": "python3"
  },
  "language_info": {
   "codemirror_mode": {
    "name": "ipython",
    "version": 3
   },
   "file_extension": ".py",
   "mimetype": "text/x-python",
   "name": "python",
   "nbconvert_exporter": "python",
   "pygments_lexer": "ipython3",
   "version": "3.9.2"
  },
  "orig_nbformat": 4
 },
 "nbformat": 4,
 "nbformat_minor": 2
}
