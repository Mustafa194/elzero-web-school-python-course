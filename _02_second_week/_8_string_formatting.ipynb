{
 "cells": [
  {
   "cell_type": "markdown",
   "metadata": {},
   "source": [
    "# <mark style=\"background-color: cyan\">Strings Formatting</mark>"
   ]
  },
  {
   "cell_type": "code",
   "execution_count": 6,
   "metadata": {},
   "outputs": [],
   "source": [
    "name = \"Mustafa\"\n",
    "age = 20"
   ]
  },
  {
   "cell_type": "markdown",
   "metadata": {},
   "source": [
    "* ## <mark style=\"background-color: #1050D1; color: white\">Old Way of Formatting</mark>"
   ]
  },
  {
   "cell_type": "markdown",
   "metadata": {},
   "source": [
    "### Note: similar to the formatting done by C language"
   ]
  },
  {
   "cell_type": "code",
   "execution_count": 7,
   "metadata": {},
   "outputs": [
    {
     "name": "stdout",
     "output_type": "stream",
     "text": [
      "My name is: Mustafa\n"
     ]
    },
    {
     "ename": "TypeError",
     "evalue": "can only concatenate str (not \"int\") to str",
     "output_type": "error",
     "traceback": [
      "\u001b[1;31m---------------------------------------------------------------------------\u001b[0m",
      "\u001b[1;31mTypeError\u001b[0m                                 Traceback (most recent call last)",
      "\u001b[1;32m~\\AppData\\Local\\Temp/ipykernel_15780/306816247.py\u001b[0m in \u001b[0;36m<module>\u001b[1;34m\u001b[0m\n\u001b[0;32m      1\u001b[0m \u001b[0mprint\u001b[0m\u001b[1;33m(\u001b[0m\u001b[1;34m\"My name is: \"\u001b[0m \u001b[1;33m+\u001b[0m \u001b[0mname\u001b[0m\u001b[1;33m)\u001b[0m\u001b[1;33m\u001b[0m\u001b[1;33m\u001b[0m\u001b[0m\n\u001b[1;32m----> 2\u001b[1;33m \u001b[0mprint\u001b[0m\u001b[1;33m(\u001b[0m\u001b[1;34m\"My name is: \"\u001b[0m \u001b[1;33m+\u001b[0m \u001b[0mname\u001b[0m \u001b[1;33m+\u001b[0m \u001b[1;34m\" and I am \"\u001b[0m \u001b[1;33m+\u001b[0m \u001b[0mage\u001b[0m \u001b[1;33m+\u001b[0m \u001b[1;34m\" years old.\"\u001b[0m\u001b[1;33m)\u001b[0m \u001b[1;31m# Type error\u001b[0m\u001b[1;33m\u001b[0m\u001b[1;33m\u001b[0m\u001b[0m\n\u001b[0m",
      "\u001b[1;31mTypeError\u001b[0m: can only concatenate str (not \"int\") to str"
     ]
    }
   ],
   "source": [
    "print(\"My name is: \" + name)\n",
    "print(\"My name is: \" + name + \" and I am \" + age + \" years old.\") # Type error"
   ]
  },
  {
   "cell_type": "code",
   "execution_count": null,
   "metadata": {},
   "outputs": [],
   "source": [
    "print(\"My name is: %s\" % name)\n",
    "print(\"My name is %s and I am %d\" % (name, age))"
   ]
  },
  {
   "cell_type": "markdown",
   "metadata": {},
   "source": [
    "### Placeholders for variables\n",
    "1. ### String placeholder => %s\n",
    "2. ### Digit placeholder (integer) => %d\n",
    "3. ### Floating point placeholder => %f"
   ]
  },
  {
   "cell_type": "markdown",
   "metadata": {},
   "source": [
    "### Controlling floating point number"
   ]
  },
  {
   "cell_type": "markdown",
   "metadata": {},
   "source": [
    "### Note: to control the number of digits after the point write dot + the number of floating points you want, for example:\n",
    "### %.3f => will add three floating points to the number"
   ]
  },
  {
   "cell_type": "code",
   "execution_count": null,
   "metadata": {},
   "outputs": [],
   "source": [
    "myNum = 10\n",
    "print(\"My number is: %d\" % myNum)\n",
    "print(\"My number is: %f\" % myNum)\n",
    "print(\"My number is: %.2f\" % myNum)"
   ]
  },
  {
   "cell_type": "markdown",
   "metadata": {},
   "source": [
    "### Truncate String"
   ]
  },
  {
   "cell_type": "markdown",
   "metadata": {},
   "source": [
    "### Truncating the string when adding using this syntax: %.[Number of chars]s\n",
    "### [ % ] [ dot ] [ number of chars ] [ s ]"
   ]
  },
  {
   "cell_type": "code",
   "execution_count": 21,
   "metadata": {},
   "outputs": [
    {
     "name": "stdout",
     "output_type": "stream",
     "text": [
      "Message is: Hello people of computer science I pleased to meet you all.\n",
      "Message is: Hello\n"
     ]
    }
   ],
   "source": [
    "longString = \"Hello people of computer science I pleased to meet you all.\"\n",
    "print('Message is: %s' % longString)\n",
    "print('Message is: %.5s' % longString) # gets the first five chars from the string"
   ]
  },
  {
   "cell_type": "markdown",
   "metadata": {},
   "source": [
    "* ## <mark style=\"background-color: #1050D1; color: white\">New Way of Formatting</mark>"
   ]
  },
  {
   "cell_type": "markdown",
   "metadata": {},
   "source": [
    "### Note: the placeholder here is \"{}\""
   ]
  },
  {
   "cell_type": "markdown",
   "metadata": {},
   "source": [
    "### {:s} => string placeholder\n",
    "### {:d} => number placeholder\n",
    "### {:f} => floating point placeholder"
   ]
  },
  {
   "cell_type": "code",
   "execution_count": 22,
   "metadata": {},
   "outputs": [
    {
     "name": "stdout",
     "output_type": "stream",
     "text": [
      "My name is: Mustafa\n",
      "My name is Mustafa, and I am 20 years old\n",
      "My name is Mustafa, and I am 20 years old\n"
     ]
    }
   ],
   "source": [
    "name = \"Mustafa\"\n",
    "age = 20\n",
    "print(\"My name is: {}\".format(name))\n",
    "print(\"My name is {}, and I am {} years old\".format(name, age))\n",
    "print(\"My name is {:s}, and I am {:d} years old\".format(name, age))"
   ]
  },
  {
   "cell_type": "code",
   "execution_count": 23,
   "metadata": {},
   "outputs": [],
   "source": [
    "gpa = 3.2"
   ]
  },
  {
   "cell_type": "markdown",
   "metadata": {},
   "source": [
    "### Controlling floating points"
   ]
  },
  {
   "cell_type": "code",
   "execution_count": 24,
   "metadata": {},
   "outputs": [
    {
     "name": "stdout",
     "output_type": "stream",
     "text": [
      "My gpa is: 3.200000\n",
      "My gpa is: 3.20\n"
     ]
    }
   ],
   "source": [
    "print(\"My gpa is: {:f}\".format(gpa)) # 5 floating points\n",
    "print(\"My gpa is: {:.2f}\".format(gpa)) # 2 floating points"
   ]
  },
  {
   "cell_type": "markdown",
   "metadata": {},
   "source": [
    "### Truncating string"
   ]
  },
  {
   "cell_type": "code",
   "execution_count": 25,
   "metadata": {},
   "outputs": [
    {
     "name": "stdout",
     "output_type": "stream",
     "text": [
      "Message is: Hello people of computer science I pleased to meet you all.\n",
      "Message is: Hello\n"
     ]
    }
   ],
   "source": [
    "print(\"Message is: {:s}\".format(longString))\n",
    "print(\"Message is: {:.5s}\".format(longString))"
   ]
  },
  {
   "cell_type": "markdown",
   "metadata": {},
   "source": [
    "### Format money"
   ]
  },
  {
   "cell_type": "code",
   "execution_count": 26,
   "metadata": {},
   "outputs": [],
   "source": [
    "money = 500000192938393"
   ]
  },
  {
   "cell_type": "code",
   "execution_count": 27,
   "metadata": {},
   "outputs": [
    {
     "name": "stdout",
     "output_type": "stream",
     "text": [
      "My bank account has this amount of money: 500000192938393\n",
      "My bank account has this amount of money: 500_000_192_938_393\n",
      "My bank account has this amount of money: 500,000,192,938,393\n"
     ]
    }
   ],
   "source": [
    "print(\"My bank account has this amount of money: {}\".format(money))\n",
    "print(\"My bank account has this amount of money: {:_d}\".format(money))\n",
    "print(\"My bank account has this amount of money: {:,d}\".format(money))"
   ]
  },
  {
   "cell_type": "markdown",
   "metadata": {},
   "source": [
    "### Rearrange items"
   ]
  },
  {
   "cell_type": "code",
   "execution_count": 28,
   "metadata": {},
   "outputs": [
    {
     "name": "stdout",
     "output_type": "stream",
     "text": [
      "Hello 1 2 3\n",
      "Hello 2 3 1\n"
     ]
    }
   ],
   "source": [
    "a, b, c = 1, 2, 3\n",
    "print(\"Hello {} {} {}\".format(a, b, c))\n",
    "print(\"Hello {1} {2} {0}\".format(a, b, c))"
   ]
  },
  {
   "cell_type": "code",
   "execution_count": 29,
   "metadata": {},
   "outputs": [
    {
     "name": "stdout",
     "output_type": "stream",
     "text": [
      "Hello 10 20 30\n",
      "Hello 20 30 10\n",
      "Hello 20 30 10\n",
      "Hello 20.00 30.00 10.00\n"
     ]
    }
   ],
   "source": [
    "x, y, z = 10, 20, 30\n",
    "print(\"Hello {} {} {}\".format(x, y, z))\n",
    "print(\"Hello {1} {2} {0}\".format(x, y, z))\n",
    "print(\"Hello {1:d} {2:d} {0:d}\".format(x, y, z))\n",
    "print(\"Hello {1:.2f} {2:.2f} {0:.2f}\".format(x, y, z))\n"
   ]
  },
  {
   "cell_type": "markdown",
   "metadata": {},
   "source": [
    "### Formatting in version 3.6+ (fstring)"
   ]
  },
  {
   "cell_type": "code",
   "execution_count": 31,
   "metadata": {},
   "outputs": [
    {
     "name": "stdout",
     "output_type": "stream",
     "text": [
      "My name is {name} and I am {age} age years old.\n",
      "My name is Mustafa and I am 20 age years old.\n"
     ]
    }
   ],
   "source": [
    "name = \"Mustafa\"\n",
    "age = 20\n",
    "print(\"My name is {name} and I am {age} age years old.\") # no values of the variables\n",
    "print(f\"My name is {name} and I am {age} age years old.\") # values of the variables exist"
   ]
  },
  {
   "cell_type": "markdown",
   "metadata": {},
   "source": [
    "### References\n",
    "### <a href=\"https://pyformat.info/\">PyFormat</a>"
   ]
  }
 ],
 "metadata": {
  "interpreter": {
   "hash": "8fba8154b0252bca3907b3434358ffda4f5e7cfd4d68fde71816b37dc430d8ed"
  },
  "kernelspec": {
   "display_name": "Python 3.9.2 64-bit",
   "name": "python3"
  },
  "language_info": {
   "codemirror_mode": {
    "name": "ipython",
    "version": 3
   },
   "file_extension": ".py",
   "mimetype": "text/x-python",
   "name": "python",
   "nbconvert_exporter": "python",
   "pygments_lexer": "ipython3",
   "version": "3.9.2"
  },
  "orig_nbformat": 4
 },
 "nbformat": 4,
 "nbformat_minor": 2
}
